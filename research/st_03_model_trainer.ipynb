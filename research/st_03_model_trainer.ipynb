{
 "cells": [
  {
   "cell_type": "code",
   "execution_count": null,
   "metadata": {},
   "outputs": [],
   "source": [
    "from dataclasses import dataclass"
   ]
  },
  {
   "cell_type": "code",
   "execution_count": null,
   "metadata": {},
   "outputs": [],
   "source": [
    "@dataclass(frozen=True)\n",
    "class ModelTrainerI:\n",
    "    base_accuracy: int or float"
   ]
  },
  {
   "cell_type": "code",
   "execution_count": null,
   "metadata": {},
   "outputs": [],
   "source": [
    "c = ModelTrainerI(base_accuracy=4)"
   ]
  },
  {
   "cell_type": "code",
   "execution_count": null,
   "metadata": {},
   "outputs": [],
   "source": [
    "c = ModelTrainerI(base_accuracy='kd')"
   ]
  },
  {
   "cell_type": "code",
   "execution_count": null,
   "metadata": {},
   "outputs": [],
   "source": [
    "c = ModelTrainerI('4+3i')"
   ]
  },
  {
   "cell_type": "code",
   "execution_count": null,
   "metadata": {},
   "outputs": [],
   "source": [
    "type(c)"
   ]
  },
  {
   "cell_type": "code",
   "execution_count": 1,
   "metadata": {},
   "outputs": [
    {
     "data": {
      "text/plain": [
       "'d:\\\\iNeuron\\\\ML_projects\\\\Cement Strength Prediction\\\\research'"
      ]
     },
     "execution_count": 1,
     "metadata": {},
     "output_type": "execute_result"
    }
   ],
   "source": [
    "import os \n",
    "os.getcwd()"
   ]
  },
  {
   "cell_type": "code",
   "execution_count": 2,
   "metadata": {},
   "outputs": [
    {
     "data": {
      "text/plain": [
       "'d:\\\\iNeuron\\\\ML_projects\\\\Cement Strength Prediction'"
      ]
     },
     "execution_count": 2,
     "metadata": {},
     "output_type": "execute_result"
    }
   ],
   "source": [
    "os.chdir('../')\n",
    "os.getcwd()"
   ]
  },
  {
   "cell_type": "code",
   "execution_count": 3,
   "metadata": {},
   "outputs": [],
   "source": [
    "from CementStrength.config import Configuration"
   ]
  },
  {
   "cell_type": "code",
   "execution_count": 4,
   "metadata": {},
   "outputs": [
    {
     "name": "stdout",
     "output_type": "stream",
     "text": [
      "[2022-11-06 20:04:23,785: INFO: common:26:common.py:read_yaml]: yaml file: configs\\config.yaml loaded successfully\n"
     ]
    }
   ],
   "source": [
    "from CementStrength.constants import *\n",
    "confi = Configuration(Path('configs/config.yaml'),get_current_time_stamp())"
   ]
  },
  {
   "cell_type": "code",
   "execution_count": 5,
   "metadata": {},
   "outputs": [
    {
     "name": "stdout",
     "output_type": "stream",
     "text": [
      "[2022-11-06 20:04:23,822: INFO: common:26:common.py:read_yaml]: yaml file: configs\\config.yaml loaded successfully\n",
      "[2022-11-06 20:04:23,823: INFO: __init__:44:__init__.py:get_data_ingestion_config]: DataIngestionConfig: DataIngestionConfig(dataset_download_url='https://raw.githubusercontent.com/MeghnathReddy/Concrete-Compressive-Strength-Prediction/master/concrete_data.csv', raw_data_dir='d:\\\\iNeuron\\\\ML_projects\\\\Cement Strength Prediction\\\\concrete_artifact\\\\data_ingestion\\\\2022-11-06-20-04-23\\\\raw_data', ingested_train_dir='d:\\\\iNeuron\\\\ML_projects\\\\Cement Strength Prediction\\\\concrete_artifact\\\\data_ingestion\\\\2022-11-06-20-04-23\\\\ingested_data\\\\train', ingested_test_dir='d:\\\\iNeuron\\\\ML_projects\\\\Cement Strength Prediction\\\\concrete_artifact\\\\data_ingestion\\\\2022-11-06-20-04-23\\\\ingested_data\\\\test')\n"
     ]
    }
   ],
   "source": [
    "data_inge_confi = Configuration().get_data_ingestion_config()"
   ]
  },
  {
   "cell_type": "code",
   "execution_count": 6,
   "metadata": {},
   "outputs": [
    {
     "name": "stdout",
     "output_type": "stream",
     "text": [
      "[2022-11-06 20:04:24,389: INFO: data_ingestion:13:data_ingestion.py:__init__]: ==================== Data Ingestion Log Started ====================\n",
      "[2022-11-06 20:04:24,391: INFO: data_ingestion:29:data_ingestion.py:download_concrete_data]: Downloading [concrete_data.csv] from [https://raw.githubusercontent.com/MeghnathReddy/Concrete-Compressive-Strength-Prediction/master/concrete_data.csv] to [d:\\iNeuron\\ML_projects\\Cement Strength Prediction\\concrete_artifact\\data_ingestion\\2022-11-06-20-04-23\\raw_data]\n",
      "[2022-11-06 20:04:24,481: INFO: data_ingestion:31:data_ingestion.py:download_concrete_data]: Downloaded [concrete_data.csv] successfully.\n",
      "[2022-11-06 20:04:24,484: INFO: data_ingestion:60:data_ingestion.py:split_data_as_train_test]: Reading xls file: [d:\\iNeuron\\ML_projects\\Cement Strength Prediction\\concrete_artifact\\data_ingestion\\2022-11-06-20-04-23\\raw_data\\concrete_data.csv]\n",
      "[2022-11-06 20:04:24,492: INFO: data_ingestion:65:data_ingestion.py:split_data_as_train_test]: Splitting the dataset into train and test\n",
      "[2022-11-06 20:04:24,499: INFO: data_ingestion:81:data_ingestion.py:split_data_as_train_test]: Exporting training dataset to file: [d:\\iNeuron\\ML_projects\\Cement Strength Prediction\\concrete_artifact\\data_ingestion\\2022-11-06-20-04-23\\ingested_data\\train\\concrete_data.csv]\n",
      "[2022-11-06 20:04:24,508: INFO: data_ingestion:87:data_ingestion.py:split_data_as_train_test]: Exporting test dataset to file: [d:\\iNeuron\\ML_projects\\Cement Strength Prediction\\concrete_artifact\\data_ingestion\\2022-11-06-20-04-23\\ingested_data\\test\\concrete_data.csv]\n",
      "[2022-11-06 20:04:24,514: INFO: data_ingestion:95:data_ingestion.py:split_data_as_train_test]: Data Ingestion Artifact: DataIngestionArtifact(train_file_path='d:\\\\iNeuron\\\\ML_projects\\\\Cement Strength Prediction\\\\concrete_artifact\\\\data_ingestion\\\\2022-11-06-20-04-23\\\\ingested_data\\\\train\\\\concrete_data.csv', test_file_path='d:\\\\iNeuron\\\\ML_projects\\\\Cement Strength Prediction\\\\concrete_artifact\\\\data_ingestion\\\\2022-11-06-20-04-23\\\\ingested_data\\\\test\\\\concrete_data.csv', previous_train_file_path='d:\\\\iNeuron\\\\ML_projects\\\\Cement Strength Prediction\\\\concrete_artifact\\\\data_ingestion\\\\2022-11-06-20-04-23\\\\ingested_data\\\\train\\\\concrete_data.csv', is_ingested=True, message='Data Ingestion Completed sucessfully')\n",
      "[2022-11-06 20:04:24,515: INFO: data_ingestion:110:data_ingestion.py:__del__]: ====================Data Ingestion log Ended==================== \n",
      "\n",
      "\n"
     ]
    }
   ],
   "source": [
    "from CementStrength.components import DataIngestion\n",
    "data_ing_arti = DataIngestion(data_inge_confi).initiate_data_ingestion()"
   ]
  },
  {
   "cell_type": "code",
   "execution_count": 7,
   "metadata": {},
   "outputs": [],
   "source": [
    "from CementStrength.components import DataValidation,DataTransformation,ModelTrainer"
   ]
  },
  {
   "cell_type": "code",
   "execution_count": 8,
   "metadata": {},
   "outputs": [
    {
     "name": "stdout",
     "output_type": "stream",
     "text": [
      "[2022-11-06 20:04:24,641: INFO: __init__:64:__init__.py:get_data_validation_config]: DataValidationConfig: DataValidationConfig(schema_file_path=WindowsPath('d:/iNeuron/ML_projects/Cement Strength Prediction/configs/schema.yaml'), report_file_path='d:\\\\iNeuron\\\\ML_projects\\\\Cement Strength Prediction\\\\concrete_artifact\\\\data_validation\\\\2022-11-06-20-04-23\\\\report.json', report_page_file_path='d:\\\\iNeuron\\\\ML_projects\\\\Cement Strength Prediction\\\\concrete_artifact\\\\data_validation\\\\2022-11-06-20-04-23\\\\report.html')\n"
     ]
    }
   ],
   "source": [
    "data_valid_ing = confi.get_data_validation_config()"
   ]
  },
  {
   "cell_type": "code",
   "execution_count": 9,
   "metadata": {},
   "outputs": [
    {
     "name": "stdout",
     "output_type": "stream",
     "text": [
      "[2022-11-06 20:04:24,681: INFO: data_validation:18:data_validation.py:__init__]: ==================== Data Validation Log Started ====================\n",
      "[2022-11-06 20:04:24,691: INFO: common:26:common.py:read_yaml]: yaml file: d:\\iNeuron\\ML_projects\\Cement Strength Prediction\\configs\\schema.yaml loaded successfully\n",
      "[2022-11-06 20:04:24,696: INFO: data_validation:31:data_validation.py:do_train_test_files_exist]: Checking if test and train file exists.\n",
      "[2022-11-06 20:04:24,698: INFO: data_validation:41:data_validation.py:do_train_test_files_exist]: Both train file: [d:\\iNeuron\\ML_projects\\Cement Strength Prediction\\concrete_artifact\\data_ingestion\\2022-11-06-20-04-23\\ingested_data\\train\\concrete_data.csv] and test file: [d:\\iNeuron\\ML_projects\\Cement Strength Prediction\\concrete_artifact\\data_ingestion\\2022-11-06-20-04-23\\ingested_data\\test\\concrete_data.csv exist.\n",
      "[2022-11-06 20:04:24,699: INFO: data_validation:52:data_validation.py:validate_dataset_schema]: Checking no. of columns in train and test dataset\n",
      "[2022-11-06 20:04:24,700: INFO: data_validation:57:data_validation.py:validate_dataset_schema]: No. of columns are same in train and test dataset and in schema file.\n",
      "[2022-11-06 20:04:24,700: INFO: data_validation:58:data_validation.py:validate_dataset_schema]: Checking columns names\n",
      "[2022-11-06 20:04:24,701: INFO: data_validation:65:data_validation.py:validate_dataset_schema]: Train and test dataset have column required in schema file\n",
      "[2022-11-06 20:04:24,701: INFO: data_validation:66:data_validation.py:validate_dataset_schema]: Checking the datatypes of all columns\n",
      "[2022-11-06 20:04:24,702: INFO: data_validation:69:data_validation.py:validate_dataset_schema]: Column 'cement' has correct datatype.\n",
      "[2022-11-06 20:04:24,702: INFO: data_validation:69:data_validation.py:validate_dataset_schema]: Column 'blast_furnace_slag' has correct datatype.\n",
      "[2022-11-06 20:04:24,704: INFO: data_validation:69:data_validation.py:validate_dataset_schema]: Column 'fly_ash' has correct datatype.\n",
      "[2022-11-06 20:04:24,705: INFO: data_validation:69:data_validation.py:validate_dataset_schema]: Column 'water' has correct datatype.\n",
      "[2022-11-06 20:04:24,706: INFO: data_validation:69:data_validation.py:validate_dataset_schema]: Column 'superplasticizer' has correct datatype.\n",
      "[2022-11-06 20:04:24,707: INFO: data_validation:69:data_validation.py:validate_dataset_schema]: Column 'coarse_aggregate' has correct datatype.\n",
      "[2022-11-06 20:04:24,708: INFO: data_validation:69:data_validation.py:validate_dataset_schema]: Column 'fine_aggregate' has correct datatype.\n",
      "[2022-11-06 20:04:24,708: INFO: data_validation:69:data_validation.py:validate_dataset_schema]: Column 'age' has correct datatype.\n",
      "[2022-11-06 20:04:24,709: INFO: data_validation:69:data_validation.py:validate_dataset_schema]: Column 'concrete_compressive_strength' has correct datatype.\n",
      "[2022-11-06 20:04:24,709: INFO: data_validation:72:data_validation.py:validate_dataset_schema]: Checking the domain values of categorical columns\n",
      "[2022-11-06 20:04:24,710: INFO: data_validation:74:data_validation.py:validate_dataset_schema]: Checking domain values of column 'age'\n",
      "[2022-11-06 20:04:24,711: INFO: data_validation:82:data_validation.py:validate_dataset_schema]: column 'age' has all the required categories and no extra category\n",
      "[2022-11-06 20:04:24,712: INFO: data_validation:83:data_validation.py:validate_dataset_schema]: Data Validation Successful!\n",
      "[2022-11-06 20:04:25,121: INFO: data_validation:90:data_validation.py:check_for_correlation]: Checking correlation between features\n",
      "[2022-11-06 20:04:25,125: INFO: data_validation:97:data_validation.py:check_for_correlation]: Column [fly_ash] has very less correlation with the target feature.\n",
      "[2022-11-06 20:04:25,133: INFO: data_validation:107:data_validation.py:check_for_correlation]: Droppable columns: ['fly_ash']\n",
      "[2022-11-06 20:04:25,135: INFO: data_validation:153:data_validation.py:initiate_data_validation]: Data Validation Artifact : DataValidationArtifact(schema_file_path=WindowsPath('d:/iNeuron/ML_projects/Cement Strength Prediction/configs/schema.yaml'), droppable_columns=['fly_ash'], report_file_path='d:\\\\iNeuron\\\\ML_projects\\\\Cement Strength Prediction\\\\concrete_artifact\\\\data_validation\\\\2022-11-06-20-04-23\\\\report.html', report_page_file_path='d:\\\\iNeuron\\\\ML_projects\\\\Cement Strength Prediction\\\\concrete_artifact\\\\data_validation\\\\2022-11-06-20-04-23\\\\report.html', is_validated=True, message='Data Validation performed sucessfully.')\n",
      "[2022-11-06 20:04:25,137: INFO: data_validation:159:data_validation.py:__del__]: ====================Data Validation log ended==================== \n",
      "\n",
      "\n"
     ]
    }
   ],
   "source": [
    "data_valid_arti = DataValidation(data_valid_ing,data_ing_arti).initiate_data_validation()"
   ]
  },
  {
   "cell_type": "code",
   "execution_count": 10,
   "metadata": {},
   "outputs": [
    {
     "name": "stdout",
     "output_type": "stream",
     "text": [
      "[2022-11-06 20:04:25,177: INFO: __init__:91:__init__.py:get_data_transformation_config]: DataTransformationConfig: DataTransformationConfig(transformed_train_dir=WindowsPath('d:/iNeuron/ML_projects/Cement Strength Prediction/concrete_artifact/data_transformation/2022-11-06-20-04-23/transformed_data/train'), transformed_test_dir=WindowsPath('d:/iNeuron/ML_projects/Cement Strength Prediction/concrete_artifact/data_transformation/2022-11-06-20-04-23/transformed_data/test'), preprocessed_object_file_path=WindowsPath('d:/iNeuron/ML_projects/Cement Strength Prediction/concrete_artifact/data_transformation/2022-11-06-20-04-23/preprocessed/preprocessed.pkl'))\n"
     ]
    }
   ],
   "source": [
    "data_trans_confi = confi.get_data_transformation_config()"
   ]
  },
  {
   "cell_type": "code",
   "execution_count": 11,
   "metadata": {},
   "outputs": [
    {
     "name": "stdout",
     "output_type": "stream",
     "text": [
      "[2022-11-06 20:04:25,210: INFO: data_transformation:65:data_transformation.py:__init__]: ==================== Data Transformation Log Started ====================\n",
      "[2022-11-06 20:04:25,212: INFO: data_transformation:98:data_transformation.py:initiate_data_transformation]: Obtaining preprocessing object\n",
      "[2022-11-06 20:04:25,219: INFO: common:26:common.py:read_yaml]: yaml file: d:\\iNeuron\\ML_projects\\Cement Strength Prediction\\configs\\schema.yaml loaded successfully\n",
      "[2022-11-06 20:04:25,221: INFO: data_transformation:87:data_transformation.py:get_transformer_object]: Categorical columns: ['age']\n",
      "[2022-11-06 20:04:25,222: INFO: data_transformation:88:data_transformation.py:get_transformer_object]: Numerical columns: ['cement', 'blast_furnace_slag', 'fly_ash', 'water', 'superplasticizer', 'coarse_aggregate', 'fine_aggregate']\n",
      "[2022-11-06 20:04:25,227: INFO: common:26:common.py:read_yaml]: yaml file: d:\\iNeuron\\ML_projects\\Cement Strength Prediction\\configs\\schema.yaml loaded successfully\n",
      "[2022-11-06 20:04:25,228: INFO: data_transformation:102:data_transformation.py:initiate_data_transformation]: Obtaining train and test dataset\n",
      "[2022-11-06 20:04:25,233: INFO: common:26:common.py:read_yaml]: yaml file: d:\\iNeuron\\ML_projects\\Cement Strength Prediction\\configs\\schema.yaml loaded successfully\n",
      "[2022-11-06 20:04:25,244: INFO: common:26:common.py:read_yaml]: yaml file: d:\\iNeuron\\ML_projects\\Cement Strength Prediction\\configs\\schema.yaml loaded successfully\n",
      "[2022-11-06 20:04:25,251: INFO: data_transformation:106:data_transformation.py:initiate_data_transformation]: Splitting the datasets into input and output features\n",
      "[2022-11-06 20:04:25,255: INFO: data_transformation:111:data_transformation.py:initiate_data_transformation]: Transforming input features using preprocessing object file.\n",
      "[2022-11-06 20:04:25,278: INFO: data_transformation:114:data_transformation.py:initiate_data_transformation]: Concatenating transformed input features with output features\n",
      "[2022-11-06 20:04:25,281: INFO: data_transformation:117:data_transformation.py:initiate_data_transformation]: type of train and test array:<class 'numpy.ndarray'> & <class 'numpy.ndarray'>\n",
      "[2022-11-06 20:04:25,282: INFO: data_transformation:118:data_transformation.py:initiate_data_transformation]: Saving transformed train and test datasets\n",
      "[2022-11-06 20:04:25,289: INFO: data_transformation:128:data_transformation.py:initiate_data_transformation]: Saving preprocesing object file\n",
      "[2022-11-06 20:04:25,296: INFO: data_transformation:135:data_transformation.py:initiate_data_transformation]: Data Transformation Artifact: DataTransformationArtifact(transformed_train_file_path=WindowsPath('d:/iNeuron/ML_projects/Cement Strength Prediction/concrete_artifact/data_transformation/2022-11-06-20-04-23/transformed_data/train/concrete_data.npz'), transformed_test_file_path=WindowsPath('d:/iNeuron/ML_projects/Cement Strength Prediction/concrete_artifact/data_transformation/2022-11-06-20-04-23/transformed_data/test/concrete_data.npz'), preprocessed_object_file_path=WindowsPath('d:/iNeuron/ML_projects/Cement Strength Prediction/concrete_artifact/data_transformation/2022-11-06-20-04-23/preprocessed/preprocessed.pkl'), is_transformed=True, message='Data Transformation completed successfully.')\n",
      "[2022-11-06 20:04:25,297: INFO: data_transformation:141:data_transformation.py:__del__]: ====================Data Transformation log completed.==================== \n",
      "\n",
      "\n"
     ]
    }
   ],
   "source": [
    "data_trans_arti = DataTransformation(data_trans_confi,\n",
    "                        data_ing_arti,data_valid_arti).initiate_data_transformation()"
   ]
  },
  {
   "cell_type": "code",
   "execution_count": 12,
   "metadata": {},
   "outputs": [
    {
     "name": "stdout",
     "output_type": "stream",
     "text": [
      "[2022-11-06 20:04:25,330: INFO: __init__:113:__init__.py:get_model_trainer_config]: Model Trainer Config: ModelTrainerConfig(trained_model_file_path='d:\\\\iNeuron\\\\ML_projects\\\\Cement Strength Prediction\\\\concrete_artifact\\\\model_trainer\\\\2022-11-06-20-04-23\\\\trained_model\\\\model.pkl', base_accuracy=0.6, model_config_file_path='configs\\\\model.yaml')\n"
     ]
    }
   ],
   "source": [
    "model_train_confi = confi.get_model_trainer_config()"
   ]
  },
  {
   "cell_type": "code",
   "execution_count": 13,
   "metadata": {},
   "outputs": [
    {
     "name": "stdout",
     "output_type": "stream",
     "text": [
      "[2022-11-06 20:04:25,386: INFO: model_trainer:41:model_trainer.py:__init__]: >>>>>>>>>>>>>>>>>>>>>>>>>>>>>>>>>>>>>>>>>>>>>>>>>>>>>>>>>>>>Model trainer log started.<<<<<<<<<<<<<<<<<<<<<<<<<<<<<<<<<<<<<<<<<<<<<<<<<<<<<<<<<<<< \n",
      "[2022-11-06 20:04:25,386: INFO: model_trainer:49:model_trainer.py:initiate_model_trainer]: Loading transformed training dataset\n",
      "[2022-11-06 20:04:25,388: INFO: model_trainer:52:model_trainer.py:initiate_model_trainer]: Loading transformed testing dataset\n",
      "[2022-11-06 20:04:25,390: INFO: model_trainer:55:model_trainer.py:initiate_model_trainer]: Splitting training and testing input and target feature\n",
      "[2022-11-06 20:04:25,391: INFO: model_trainer:57:model_trainer.py:initiate_model_trainer]: Extracting model config file path\n",
      "[2022-11-06 20:04:25,392: INFO: model_trainer:59:model_trainer.py:initiate_model_trainer]: Initializing model factory class using above model config file: configs\\model.yaml\n",
      "[2022-11-06 20:04:25,399: INFO: model_trainer:62:model_trainer.py:initiate_model_trainer]: Expected accuracy: 0.6\n",
      "[2022-11-06 20:04:25,400: INFO: model_trainer:63:model_trainer.py:initiate_model_trainer]: Initiating operation model selection\n",
      "[2022-11-06 20:04:25,401: INFO: model_factory:295:model_factory.py:get_best_model]: Started Initializing model from config file\n",
      "[2022-11-06 20:04:25,402: INFO: model_factory:148:model_factory.py:class_for_name]: Executing command: from <module 'sklearn.linear_model' from 'd:\\\\iNeuron\\\\ML_projects\\\\Cement Strength Prediction\\\\env\\\\lib\\\\site-packages\\\\sklearn\\\\linear_model\\\\__init__.py'> import Ridge\n",
      "[2022-11-06 20:04:25,443: INFO: model_factory:148:model_factory.py:class_for_name]: Executing command: from <module 'sklearn.ensemble' from 'd:\\\\iNeuron\\\\ML_projects\\\\Cement Strength Prediction\\\\env\\\\lib\\\\site-packages\\\\sklearn\\\\ensemble\\\\__init__.py'> import RandomForestRegressor\n",
      "[2022-11-06 20:04:25,444: INFO: model_factory:148:model_factory.py:class_for_name]: Executing command: from <module 'sklearn.ensemble' from 'd:\\\\iNeuron\\\\ML_projects\\\\Cement Strength Prediction\\\\env\\\\lib\\\\site-packages\\\\sklearn\\\\ensemble\\\\__init__.py'> import GradientBoostingRegressor\n",
      "[2022-11-06 20:04:25,447: INFO: model_factory:297:model_factory.py:get_best_model]: Initialized model: [InitializedModelDetail(model_serial_number='module_0', model=Ridge(), param_grid_search={'fit_intercept': [True, False], 'alpha': [1e-08, 0.0001, 0.01, 1, 5, 10, 20, 40, 80]}, model_name='sklearn.linear_model.Ridge'), InitializedModelDetail(model_serial_number='module_1', model=RandomForestRegressor(), param_grid_search={'criterion': ['squared_error', 'absolute_error', 'poisson'], 'max_depth': [3, 5, 7, 10, 15, 25]}, model_name='sklearn.ensemble.RandomForestRegressor'), InitializedModelDetail(model_serial_number='module_2', model=GradientBoostingRegressor(), param_grid_search={'loss': ['squared_error', 'absolute_error', 'huber', 'quantile'], 'criterion': ['friedman_mse', 'squared_error']}, model_name='sklearn.ensemble.GradientBoostingRegressor')]\n",
      "[2022-11-06 20:04:25,448: INFO: model_factory:148:model_factory.py:class_for_name]: Executing command: from <module 'sklearn.model_selection' from 'd:\\\\iNeuron\\\\ML_projects\\\\Cement Strength Prediction\\\\env\\\\lib\\\\site-packages\\\\sklearn\\\\model_selection\\\\__init__.py'> import GridSearchCV\n",
      "{'cv': 4, 'verbose': 2}\n",
      "[2022-11-06 20:04:25,450: INFO: model_factory:161:model_factory.py:update_property_of_class]: Executing:$ GridSearchCV(estimator=Ridge(),\n",
      "             param_grid={'alpha': [1e-08, 0.0001, 0.01, 1, 5, 10, 20, 40, 80],\n",
      "                         'fit_intercept': [True, False]}).cv=4\n",
      "[2022-11-06 20:04:25,451: INFO: model_factory:161:model_factory.py:update_property_of_class]: Executing:$ GridSearchCV(cv=4, estimator=Ridge(),\n",
      "             param_grid={'alpha': [1e-08, 0.0001, 0.01, 1, 5, 10, 20, 40, 80],\n",
      "                         'fit_intercept': [True, False]}).verbose=2\n",
      "[2022-11-06 20:04:25,452: INFO: model_factory:225:model_factory.py:execute_grid_search_operation]: >>>>>>>>>>>>>>>>>>>>>>>>>>>>>>>>>>>>>>>>>>>>>>>>>>>>>>>>>>>> f\"Training Ridge Started.\" <<<<<<<<<<<<<<<<<<<<<<<<<<<<<<<<<<<<<<<<<<<<<<<<<<<<<<<<<<<<\n",
      "Fitting 4 folds for each of 18 candidates, totalling 72 fits\n",
      "[CV] END ....................alpha=1e-08, fit_intercept=True; total time=   0.0s\n",
      "[CV] END ....................alpha=1e-08, fit_intercept=True; total time=   0.0s\n",
      "[CV] END ....................alpha=1e-08, fit_intercept=True; total time=   0.0s\n",
      "[CV] END ....................alpha=1e-08, fit_intercept=True; total time=   0.0s\n",
      "[CV] END ...................alpha=1e-08, fit_intercept=False; total time=   0.0s\n",
      "[CV] END ...................alpha=1e-08, fit_intercept=False; total time=   0.0s\n",
      "[CV] END ...................alpha=1e-08, fit_intercept=False; total time=   0.0s\n",
      "[CV] END ...................alpha=1e-08, fit_intercept=False; total time=   0.0s\n",
      "[CV] END ...................alpha=0.0001, fit_intercept=True; total time=   0.0s\n",
      "[CV] END ...................alpha=0.0001, fit_intercept=True; total time=   0.0s\n",
      "[CV] END ...................alpha=0.0001, fit_intercept=True; total time=   0.0s\n",
      "[CV] END ...................alpha=0.0001, fit_intercept=True; total time=   0.0s\n",
      "[CV] END ..................alpha=0.0001, fit_intercept=False; total time=   0.0s\n",
      "[CV] END ..................alpha=0.0001, fit_intercept=False; total time=   0.0s\n",
      "[CV] END ..................alpha=0.0001, fit_intercept=False; total time=   0.0s\n",
      "[CV] END ..................alpha=0.0001, fit_intercept=False; total time=   0.0s\n",
      "[CV] END .....................alpha=0.01, fit_intercept=True; total time=   0.0s\n",
      "[CV] END .....................alpha=0.01, fit_intercept=True; total time=   0.0s\n",
      "[CV] END .....................alpha=0.01, fit_intercept=True; total time=   0.0s\n",
      "[CV] END .....................alpha=0.01, fit_intercept=True; total time=   0.0s\n",
      "[CV] END ....................alpha=0.01, fit_intercept=False; total time=   0.0s\n",
      "[CV] END ....................alpha=0.01, fit_intercept=False; total time=   0.0s\n",
      "[CV] END ....................alpha=0.01, fit_intercept=False; total time=   0.0s\n",
      "[CV] END ....................alpha=0.01, fit_intercept=False; total time=   0.0s\n",
      "[CV] END ........................alpha=1, fit_intercept=True; total time=   0.0s\n",
      "[CV] END ........................alpha=1, fit_intercept=True; total time=   0.0s\n",
      "[CV] END ........................alpha=1, fit_intercept=True; total time=   0.0s\n",
      "[CV] END ........................alpha=1, fit_intercept=True; total time=   0.0s\n",
      "[CV] END .......................alpha=1, fit_intercept=False; total time=   0.0s\n",
      "[CV] END .......................alpha=1, fit_intercept=False; total time=   0.0s\n",
      "[CV] END .......................alpha=1, fit_intercept=False; total time=   0.0s\n",
      "[CV] END .......................alpha=1, fit_intercept=False; total time=   0.0s\n",
      "[CV] END ........................alpha=5, fit_intercept=True; total time=   0.0s\n",
      "[CV] END ........................alpha=5, fit_intercept=True; total time=   0.0s\n",
      "[CV] END ........................alpha=5, fit_intercept=True; total time=   0.0s\n",
      "[CV] END ........................alpha=5, fit_intercept=True; total time=   0.0s\n",
      "[CV] END .......................alpha=5, fit_intercept=False; total time=   0.0s\n",
      "[CV] END .......................alpha=5, fit_intercept=False; total time=   0.0s\n",
      "[CV] END .......................alpha=5, fit_intercept=False; total time=   0.0s\n",
      "[CV] END .......................alpha=5, fit_intercept=False; total time=   0.0s\n",
      "[CV] END .......................alpha=10, fit_intercept=True; total time=   0.0s\n",
      "[CV] END .......................alpha=10, fit_intercept=True; total time=   0.0s\n",
      "[CV] END .......................alpha=10, fit_intercept=True; total time=   0.0s\n",
      "[CV] END .......................alpha=10, fit_intercept=True; total time=   0.0s\n",
      "[CV] END ......................alpha=10, fit_intercept=False; total time=   0.0s\n",
      "[CV] END ......................alpha=10, fit_intercept=False; total time=   0.0s\n",
      "[CV] END ......................alpha=10, fit_intercept=False; total time=   0.0s\n",
      "[CV] END ......................alpha=10, fit_intercept=False; total time=   0.0s\n",
      "[CV] END .......................alpha=20, fit_intercept=True; total time=   0.0s\n",
      "[CV] END .......................alpha=20, fit_intercept=True; total time=   0.0s\n",
      "[CV] END .......................alpha=20, fit_intercept=True; total time=   0.0s\n",
      "[CV] END .......................alpha=20, fit_intercept=True; total time=   0.0s\n",
      "[CV] END ......................alpha=20, fit_intercept=False; total time=   0.0s\n",
      "[CV] END ......................alpha=20, fit_intercept=False; total time=   0.0s\n",
      "[CV] END ......................alpha=20, fit_intercept=False; total time=   0.0s\n",
      "[CV] END ......................alpha=20, fit_intercept=False; total time=   0.0s\n",
      "[CV] END .......................alpha=40, fit_intercept=True; total time=   0.0s\n",
      "[CV] END .......................alpha=40, fit_intercept=True; total time=   0.0s\n",
      "[CV] END .......................alpha=40, fit_intercept=True; total time=   0.0s\n",
      "[CV] END .......................alpha=40, fit_intercept=True; total time=   0.0s\n",
      "[CV] END ......................alpha=40, fit_intercept=False; total time=   0.0s\n",
      "[CV] END ......................alpha=40, fit_intercept=False; total time=   0.0s\n",
      "[CV] END ......................alpha=40, fit_intercept=False; total time=   0.0s\n",
      "[CV] END ......................alpha=40, fit_intercept=False; total time=   0.0s\n",
      "[CV] END .......................alpha=80, fit_intercept=True; total time=   0.0s\n",
      "[CV] END .......................alpha=80, fit_intercept=True; total time=   0.0s\n",
      "[CV] END .......................alpha=80, fit_intercept=True; total time=   0.0s\n",
      "[CV] END .......................alpha=80, fit_intercept=True; total time=   0.0s\n",
      "[CV] END ......................alpha=80, fit_intercept=False; total time=   0.0s\n",
      "[CV] END ......................alpha=80, fit_intercept=False; total time=   0.0s\n",
      "[CV] END ......................alpha=80, fit_intercept=False; total time=   0.0s\n",
      "[CV] END ......................alpha=80, fit_intercept=False; total time=   0.0s\n",
      "[2022-11-06 20:04:25,555: INFO: model_factory:148:model_factory.py:class_for_name]: Executing command: from <module 'sklearn.model_selection' from 'd:\\\\iNeuron\\\\ML_projects\\\\Cement Strength Prediction\\\\env\\\\lib\\\\site-packages\\\\sklearn\\\\model_selection\\\\__init__.py'> import GridSearchCV\n",
      "{'cv': 4, 'verbose': 2}\n",
      "[2022-11-06 20:04:25,557: INFO: model_factory:161:model_factory.py:update_property_of_class]: Executing:$ GridSearchCV(estimator=RandomForestRegressor(),\n",
      "             param_grid={'criterion': ['squared_error', 'absolute_error',\n",
      "                                       'poisson'],\n",
      "                         'max_depth': [3, 5, 7, 10, 15, 25]}).cv=4\n",
      "[2022-11-06 20:04:25,559: INFO: model_factory:161:model_factory.py:update_property_of_class]: Executing:$ GridSearchCV(cv=4, estimator=RandomForestRegressor(),\n",
      "             param_grid={'criterion': ['squared_error', 'absolute_error',\n",
      "                                       'poisson'],\n",
      "                         'max_depth': [3, 5, 7, 10, 15, 25]}).verbose=2\n",
      "[2022-11-06 20:04:25,560: INFO: model_factory:225:model_factory.py:execute_grid_search_operation]: >>>>>>>>>>>>>>>>>>>>>>>>>>>>>>>>>>>>>>>>>>>>>>>>>>>>>>>>>>>> f\"Training RandomForestRegressor Started.\" <<<<<<<<<<<<<<<<<<<<<<<<<<<<<<<<<<<<<<<<<<<<<<<<<<<<<<<<<<<<\n",
      "Fitting 4 folds for each of 18 candidates, totalling 72 fits\n",
      "[CV] END ...............criterion=squared_error, max_depth=3; total time=   0.1s\n",
      "[CV] END ...............criterion=squared_error, max_depth=3; total time=   0.0s\n",
      "[CV] END ...............criterion=squared_error, max_depth=3; total time=   0.1s\n",
      "[CV] END ...............criterion=squared_error, max_depth=3; total time=   0.1s\n",
      "[CV] END ...............criterion=squared_error, max_depth=5; total time=   0.1s\n",
      "[CV] END ...............criterion=squared_error, max_depth=5; total time=   0.1s\n",
      "[CV] END ...............criterion=squared_error, max_depth=5; total time=   0.1s\n",
      "[CV] END ...............criterion=squared_error, max_depth=5; total time=   0.1s\n",
      "[CV] END ...............criterion=squared_error, max_depth=7; total time=   0.1s\n",
      "[CV] END ...............criterion=squared_error, max_depth=7; total time=   0.2s\n",
      "[CV] END ...............criterion=squared_error, max_depth=7; total time=   0.1s\n",
      "[CV] END ...............criterion=squared_error, max_depth=7; total time=   0.1s\n",
      "[CV] END ..............criterion=squared_error, max_depth=10; total time=   0.1s\n",
      "[CV] END ..............criterion=squared_error, max_depth=10; total time=   0.1s\n",
      "[CV] END ..............criterion=squared_error, max_depth=10; total time=   0.2s\n",
      "[CV] END ..............criterion=squared_error, max_depth=10; total time=   0.1s\n",
      "[CV] END ..............criterion=squared_error, max_depth=15; total time=   0.1s\n",
      "[CV] END ..............criterion=squared_error, max_depth=15; total time=   0.2s\n",
      "[CV] END ..............criterion=squared_error, max_depth=15; total time=   0.2s\n",
      "[CV] END ..............criterion=squared_error, max_depth=15; total time=   0.2s\n",
      "[CV] END ..............criterion=squared_error, max_depth=25; total time=   0.2s\n",
      "[CV] END ..............criterion=squared_error, max_depth=25; total time=   0.2s\n",
      "[CV] END ..............criterion=squared_error, max_depth=25; total time=   0.2s\n",
      "[CV] END ..............criterion=squared_error, max_depth=25; total time=   0.2s\n",
      "[CV] END ..............criterion=absolute_error, max_depth=3; total time=   0.6s\n",
      "[CV] END ..............criterion=absolute_error, max_depth=3; total time=   0.5s\n",
      "[CV] END ..............criterion=absolute_error, max_depth=3; total time=   0.5s\n",
      "[CV] END ..............criterion=absolute_error, max_depth=3; total time=   0.5s\n",
      "[CV] END ..............criterion=absolute_error, max_depth=5; total time=   0.6s\n",
      "[CV] END ..............criterion=absolute_error, max_depth=5; total time=   0.7s\n",
      "[CV] END ..............criterion=absolute_error, max_depth=5; total time=   0.7s\n",
      "[CV] END ..............criterion=absolute_error, max_depth=5; total time=   0.6s\n",
      "[CV] END ..............criterion=absolute_error, max_depth=7; total time=   0.7s\n",
      "[CV] END ..............criterion=absolute_error, max_depth=7; total time=   0.8s\n",
      "[CV] END ..............criterion=absolute_error, max_depth=7; total time=   0.7s\n",
      "[CV] END ..............criterion=absolute_error, max_depth=7; total time=   0.7s\n",
      "[CV] END .............criterion=absolute_error, max_depth=10; total time=   0.8s\n",
      "[CV] END .............criterion=absolute_error, max_depth=10; total time=   0.9s\n",
      "[CV] END .............criterion=absolute_error, max_depth=10; total time=   0.8s\n",
      "[CV] END .............criterion=absolute_error, max_depth=10; total time=   0.8s\n",
      "[CV] END .............criterion=absolute_error, max_depth=15; total time=   1.0s\n",
      "[CV] END .............criterion=absolute_error, max_depth=15; total time=   0.9s\n",
      "[CV] END .............criterion=absolute_error, max_depth=15; total time=   0.9s\n",
      "[CV] END .............criterion=absolute_error, max_depth=15; total time=   0.9s\n",
      "[CV] END .............criterion=absolute_error, max_depth=25; total time=   0.9s\n",
      "[CV] END .............criterion=absolute_error, max_depth=25; total time=   0.9s\n",
      "[CV] END .............criterion=absolute_error, max_depth=25; total time=   0.9s\n",
      "[CV] END .............criterion=absolute_error, max_depth=25; total time=   0.9s\n",
      "[CV] END .....................criterion=poisson, max_depth=3; total time=   0.0s\n",
      "[CV] END .....................criterion=poisson, max_depth=3; total time=   0.0s\n",
      "[CV] END .....................criterion=poisson, max_depth=3; total time=   0.0s\n",
      "[CV] END .....................criterion=poisson, max_depth=3; total time=   0.0s\n",
      "[CV] END .....................criterion=poisson, max_depth=5; total time=   0.1s\n",
      "[CV] END .....................criterion=poisson, max_depth=5; total time=   0.1s\n",
      "[CV] END .....................criterion=poisson, max_depth=5; total time=   0.1s\n",
      "[CV] END .....................criterion=poisson, max_depth=5; total time=   0.1s\n",
      "[CV] END .....................criterion=poisson, max_depth=7; total time=   0.1s\n",
      "[CV] END .....................criterion=poisson, max_depth=7; total time=   0.1s\n",
      "[CV] END .....................criterion=poisson, max_depth=7; total time=   0.1s\n",
      "[CV] END .....................criterion=poisson, max_depth=7; total time=   0.1s\n",
      "[CV] END ....................criterion=poisson, max_depth=10; total time=   0.1s\n",
      "[CV] END ....................criterion=poisson, max_depth=10; total time=   0.1s\n",
      "[CV] END ....................criterion=poisson, max_depth=10; total time=   0.1s\n",
      "[CV] END ....................criterion=poisson, max_depth=10; total time=   0.1s\n",
      "[CV] END ....................criterion=poisson, max_depth=15; total time=   0.2s\n",
      "[CV] END ....................criterion=poisson, max_depth=15; total time=   0.2s\n",
      "[CV] END ....................criterion=poisson, max_depth=15; total time=   0.2s\n",
      "[CV] END ....................criterion=poisson, max_depth=15; total time=   0.2s\n",
      "[CV] END ....................criterion=poisson, max_depth=25; total time=   0.2s\n",
      "[CV] END ....................criterion=poisson, max_depth=25; total time=   0.2s\n",
      "[CV] END ....................criterion=poisson, max_depth=25; total time=   0.2s\n",
      "[CV] END ....................criterion=poisson, max_depth=25; total time=   0.2s\n",
      "[2022-11-06 20:04:58,381: INFO: model_factory:148:model_factory.py:class_for_name]: Executing command: from <module 'sklearn.model_selection' from 'd:\\\\iNeuron\\\\ML_projects\\\\Cement Strength Prediction\\\\env\\\\lib\\\\site-packages\\\\sklearn\\\\model_selection\\\\__init__.py'> import GridSearchCV\n",
      "{'cv': 4, 'verbose': 2}\n",
      "[2022-11-06 20:04:58,383: INFO: model_factory:161:model_factory.py:update_property_of_class]: Executing:$ GridSearchCV(estimator=GradientBoostingRegressor(),\n",
      "             param_grid={'criterion': ['friedman_mse', 'squared_error'],\n",
      "                         'loss': ['squared_error', 'absolute_error', 'huber',\n",
      "                                  'quantile']}).cv=4\n",
      "[2022-11-06 20:04:58,384: INFO: model_factory:161:model_factory.py:update_property_of_class]: Executing:$ GridSearchCV(cv=4, estimator=GradientBoostingRegressor(),\n",
      "             param_grid={'criterion': ['friedman_mse', 'squared_error'],\n",
      "                         'loss': ['squared_error', 'absolute_error', 'huber',\n",
      "                                  'quantile']}).verbose=2\n",
      "[2022-11-06 20:04:58,385: INFO: model_factory:225:model_factory.py:execute_grid_search_operation]: >>>>>>>>>>>>>>>>>>>>>>>>>>>>>>>>>>>>>>>>>>>>>>>>>>>>>>>>>>>> f\"Training GradientBoostingRegressor Started.\" <<<<<<<<<<<<<<<<<<<<<<<<<<<<<<<<<<<<<<<<<<<<<<<<<<<<<<<<<<<<\n",
      "Fitting 4 folds for each of 8 candidates, totalling 32 fits\n",
      "[CV] END .........criterion=friedman_mse, loss=squared_error; total time=   0.0s\n",
      "[CV] END .........criterion=friedman_mse, loss=squared_error; total time=   0.0s\n",
      "[CV] END .........criterion=friedman_mse, loss=squared_error; total time=   0.0s\n",
      "[CV] END .........criterion=friedman_mse, loss=squared_error; total time=   0.0s\n",
      "[CV] END ........criterion=friedman_mse, loss=absolute_error; total time=   0.1s\n",
      "[CV] END ........criterion=friedman_mse, loss=absolute_error; total time=   0.1s\n",
      "[CV] END ........criterion=friedman_mse, loss=absolute_error; total time=   0.1s\n",
      "[CV] END ........criterion=friedman_mse, loss=absolute_error; total time=   0.1s\n",
      "[CV] END .................criterion=friedman_mse, loss=huber; total time=   0.2s\n",
      "[CV] END .................criterion=friedman_mse, loss=huber; total time=   0.2s\n",
      "[CV] END .................criterion=friedman_mse, loss=huber; total time=   0.2s\n",
      "[CV] END .................criterion=friedman_mse, loss=huber; total time=   0.2s\n",
      "[CV] END ..............criterion=friedman_mse, loss=quantile; total time=   0.1s\n",
      "[CV] END ..............criterion=friedman_mse, loss=quantile; total time=   0.1s\n",
      "[CV] END ..............criterion=friedman_mse, loss=quantile; total time=   0.1s\n",
      "[CV] END ..............criterion=friedman_mse, loss=quantile; total time=   0.1s\n",
      "[CV] END ........criterion=squared_error, loss=squared_error; total time=   0.0s\n",
      "[CV] END ........criterion=squared_error, loss=squared_error; total time=   0.0s\n",
      "[CV] END ........criterion=squared_error, loss=squared_error; total time=   0.0s\n",
      "[CV] END ........criterion=squared_error, loss=squared_error; total time=   0.0s\n",
      "[CV] END .......criterion=squared_error, loss=absolute_error; total time=   0.1s\n",
      "[CV] END .......criterion=squared_error, loss=absolute_error; total time=   0.1s\n",
      "[CV] END .......criterion=squared_error, loss=absolute_error; total time=   0.1s\n",
      "[CV] END .......criterion=squared_error, loss=absolute_error; total time=   0.1s\n",
      "[CV] END ................criterion=squared_error, loss=huber; total time=   0.2s\n",
      "[CV] END ................criterion=squared_error, loss=huber; total time=   0.2s\n",
      "[CV] END ................criterion=squared_error, loss=huber; total time=   0.2s\n",
      "[CV] END ................criterion=squared_error, loss=huber; total time=   0.2s\n",
      "[CV] END .............criterion=squared_error, loss=quantile; total time=   0.1s\n",
      "[CV] END .............criterion=squared_error, loss=quantile; total time=   0.1s\n",
      "[CV] END .............criterion=squared_error, loss=quantile; total time=   0.1s\n",
      "[CV] END .............criterion=squared_error, loss=quantile; total time=   0.1s\n",
      "[2022-11-06 20:05:04,549: INFO: model_factory:283:model_factory.py:get_best_model_from_grid_searched_best_model_list]: Acceptable model found:GridSearchedBestModel(model_serial_number='module_1', model=RandomForestRegressor(), best_model=RandomForestRegressor(criterion='absolute_error', max_depth=15), best_parameters={'criterion': 'absolute_error', 'max_depth': 15}, best_score=0.8950447206604775)\n",
      "[2022-11-06 20:05:04,550: INFO: model_factory:283:model_factory.py:get_best_model_from_grid_searched_best_model_list]: Acceptable model found:GridSearchedBestModel(model_serial_number='module_2', model=GradientBoostingRegressor(), best_model=GradientBoostingRegressor(criterion='squared_error', loss='huber'), best_parameters={'criterion': 'squared_error', 'loss': 'huber'}, best_score=0.8981106206039122)\n",
      "[2022-11-06 20:05:04,552: INFO: model_factory:288:model_factory.py:get_best_model_from_grid_searched_best_model_list]: Best model: GridSearchedBestModel(model_serial_number='module_2', model=GradientBoostingRegressor(), best_model=GradientBoostingRegressor(criterion='squared_error', loss='huber'), best_parameters={'criterion': 'squared_error', 'loss': 'huber'}, best_score=0.8981106206039122)\n",
      "[2022-11-06 20:05:04,553: INFO: model_trainer:65:model_trainer.py:initiate_model_trainer]: Extracting trained model list.\n",
      "[2022-11-06 20:05:04,553: INFO: model_trainer:68:model_trainer.py:initiate_model_trainer]: Evaluation all trained model on training and testing dataset both\n",
      "[2022-11-06 20:05:04,554: INFO: model_factory:85:model_factory.py:evaluate_regression_model]: >>>>>>>>>>>>>>>>>>>>>>>>>>>>>>>>>>>>>>>>>>>>>>>>>>>>>>>>>>>>Started evaluating model: [Ridge] <<<<<<<<<<<<<<<<<<<<<<<<<<<<<<<<<<<<<<<<<<<<<<<<<<<<<<<<<<<<\n",
      "[2022-11-06 20:05:04,556: INFO: model_factory:94:model_factory.py:evaluate_regression_model]: >>>>>>>>>>>>>>>>>>>>>>>>>>>>>>>>>>>>>>>>>>>>>>>>>>>>>>>>>>>> Score <<<<<<<<<<<<<<<<<<<<<<<<<<<<<<<<<<<<<<<<<<<<<<<<<<<<<<<<<<<<\n",
      "[2022-11-06 20:05:04,557: INFO: model_factory:95:model_factory.py:evaluate_regression_model]: Train Score\t\t Test Score\t\t Average Score\n",
      "[2022-11-06 20:05:04,558: INFO: model_factory:96:model_factory.py:evaluate_regression_model]: 0.5974308803577691\t\t 0.5887067118482118\t\t0.5930367125080166\n",
      "[2022-11-06 20:05:04,559: INFO: model_factory:97:model_factory.py:evaluate_regression_model]: >>>>>>>>>>>>>>>>>>>>>>>>>>>>>>>>>>>>>>>>>>>>>>>>>>>>>>>>>>>> Loss <<<<<<<<<<<<<<<<<<<<<<<<<<<<<<<<<<<<<<<<<<<<<<<<<<<<<<<<<<<<\n",
      "[2022-11-06 20:05:04,559: INFO: model_factory:98:model_factory.py:evaluate_regression_model]: Diff test train accuracy: [0.008724168509557373].\n",
      "[2022-11-06 20:05:04,560: INFO: model_factory:99:model_factory.py:evaluate_regression_model]: Train root mean squared error: [10.585158113343951].\n",
      "[2022-11-06 20:05:04,561: INFO: model_factory:100:model_factory.py:evaluate_regression_model]: Test root mean squared error: [10.745699595227254].\n",
      "[2022-11-06 20:05:04,561: INFO: model_factory:85:model_factory.py:evaluate_regression_model]: >>>>>>>>>>>>>>>>>>>>>>>>>>>>>>>>>>>>>>>>>>>>>>>>>>>>>>>>>>>>Started evaluating model: [RandomForestRegressor] <<<<<<<<<<<<<<<<<<<<<<<<<<<<<<<<<<<<<<<<<<<<<<<<<<<<<<<<<<<<\n",
      "[2022-11-06 20:05:04,596: INFO: model_factory:94:model_factory.py:evaluate_regression_model]: >>>>>>>>>>>>>>>>>>>>>>>>>>>>>>>>>>>>>>>>>>>>>>>>>>>>>>>>>>>> Score <<<<<<<<<<<<<<<<<<<<<<<<<<<<<<<<<<<<<<<<<<<<<<<<<<<<<<<<<<<<\n",
      "[2022-11-06 20:05:04,597: INFO: model_factory:95:model_factory.py:evaluate_regression_model]: Train Score\t\t Test Score\t\t Average Score\n",
      "[2022-11-06 20:05:04,598: INFO: model_factory:96:model_factory.py:evaluate_regression_model]: 0.9848887144330138\t\t 0.9110290985906976\t\t0.9465202252528633\n",
      "[2022-11-06 20:05:04,600: INFO: model_factory:97:model_factory.py:evaluate_regression_model]: >>>>>>>>>>>>>>>>>>>>>>>>>>>>>>>>>>>>>>>>>>>>>>>>>>>>>>>>>>>> Loss <<<<<<<<<<<<<<<<<<<<<<<<<<<<<<<<<<<<<<<<<<<<<<<<<<<<<<<<<<<<\n",
      "[2022-11-06 20:05:04,600: INFO: model_factory:98:model_factory.py:evaluate_regression_model]: Diff test train accuracy: [0.07385961584231626].\n",
      "[2022-11-06 20:05:04,601: INFO: model_factory:99:model_factory.py:evaluate_regression_model]: Train root mean squared error: [2.0508213359683727].\n",
      "[2022-11-06 20:05:04,601: INFO: model_factory:100:model_factory.py:evaluate_regression_model]: Test root mean squared error: [4.997846109635095].\n",
      "[2022-11-06 20:05:04,602: INFO: model_factory:111:model_factory.py:evaluate_regression_model]: Acceptable model found MetricInfoArtifact(model_name=\"RandomForestRegressor(criterion='absolute_error', max_depth=15)\", model_object=RandomForestRegressor(criterion='absolute_error', max_depth=15), train_rmse=2.0508213359683727, test_rmse=4.997846109635095, train_accuracy=0.9848887144330138, test_accuracy=0.9110290985906976, model_accuracy=0.9465202252528633, index_number=1). \n",
      "[2022-11-06 20:05:04,603: INFO: model_factory:85:model_factory.py:evaluate_regression_model]: >>>>>>>>>>>>>>>>>>>>>>>>>>>>>>>>>>>>>>>>>>>>>>>>>>>>>>>>>>>>Started evaluating model: [GradientBoostingRegressor] <<<<<<<<<<<<<<<<<<<<<<<<<<<<<<<<<<<<<<<<<<<<<<<<<<<<<<<<<<<<\n",
      "[2022-11-06 20:05:04,606: INFO: model_factory:94:model_factory.py:evaluate_regression_model]: >>>>>>>>>>>>>>>>>>>>>>>>>>>>>>>>>>>>>>>>>>>>>>>>>>>>>>>>>>>> Score <<<<<<<<<<<<<<<<<<<<<<<<<<<<<<<<<<<<<<<<<<<<<<<<<<<<<<<<<<<<\n",
      "[2022-11-06 20:05:04,607: INFO: model_factory:95:model_factory.py:evaluate_regression_model]: Train Score\t\t Test Score\t\t Average Score\n",
      "[2022-11-06 20:05:04,608: INFO: model_factory:96:model_factory.py:evaluate_regression_model]: 0.9459161851122231\t\t 0.894613044139748\t\t0.9195495995553714\n",
      "[2022-11-06 20:05:04,609: INFO: model_factory:97:model_factory.py:evaluate_regression_model]: >>>>>>>>>>>>>>>>>>>>>>>>>>>>>>>>>>>>>>>>>>>>>>>>>>>>>>>>>>>> Loss <<<<<<<<<<<<<<<<<<<<<<<<<<<<<<<<<<<<<<<<<<<<<<<<<<<<<<<<<<<<\n",
      "[2022-11-06 20:05:04,610: INFO: model_factory:98:model_factory.py:evaluate_regression_model]: Diff test train accuracy: [0.051303140972475125].\n",
      "[2022-11-06 20:05:04,610: INFO: model_factory:99:model_factory.py:evaluate_regression_model]: Train root mean squared error: [3.8798128712174536].\n",
      "[2022-11-06 20:05:04,611: INFO: model_factory:100:model_factory.py:evaluate_regression_model]: Test root mean squared error: [5.4394164976068335].\n",
      "[2022-11-06 20:05:04,611: INFO: model_trainer:75:model_trainer.py:initiate_model_trainer]: Best found model on both training and testing dataset.\n",
      "[2022-11-06 20:05:04,612: INFO: model_trainer:80:model_trainer.py:initiate_model_trainer]: Saving model at path: d:\\iNeuron\\ML_projects\\Cement Strength Prediction\\concrete_artifact\\model_trainer\\2022-11-06-20-04-23\\trained_model\\model.pkl\n",
      "[2022-11-06 20:05:04,678: INFO: model_trainer:90:model_trainer.py:initiate_model_trainer]: Model Trainer Artifact: ModelTrainerArtifact(is_trained=True, message='Model Trained successfully', trained_model_file_path=WindowsPath('d:/iNeuron/ML_projects/Cement Strength Prediction/concrete_artifact/model_trainer/2022-11-06-20-04-23/trained_model/model.pkl'), train_rmse=2.0508213359683727, test_rmse=4.997846109635095, train_accuracy=0.9848887144330138, test_accuracy=0.9110290985906976, model_accuracy=0.9465202252528633)\n",
      "[2022-11-06 20:05:04,679: INFO: model_trainer:96:model_trainer.py:__del__]: >>>>>>>>>>>>>>>>>>>>>>>>>>>>>>>>>>>>>>>>>>>>>>>>>>>>>>>>>>>>Model trainer log completed.<<<<<<<<<<<<<<<<<<<<<<<<<<<<<<<<<<<<<<<<<<<<<<<<<<<<<<<<<<<<\n"
     ]
    }
   ],
   "source": [
    "model_tain_arti = ModelTrainer(model_train_confi,data_trans_arti).initiate_model_trainer()"
   ]
  },
  {
   "cell_type": "code",
   "execution_count": 1,
   "metadata": {},
   "outputs": [],
   "source": [
    "import os"
   ]
  },
  {
   "cell_type": "code",
   "execution_count": 2,
   "metadata": {},
   "outputs": [
    {
     "data": {
      "text/plain": [
       "'configs'"
      ]
     },
     "execution_count": 2,
     "metadata": {},
     "output_type": "execute_result"
    }
   ],
   "source": [
    "os.path.dirname(\"configs/config.yaml\")"
   ]
  },
  {
   "cell_type": "code",
   "execution_count": 3,
   "metadata": {},
   "outputs": [
    {
     "data": {
      "text/plain": [
       "'d:\\\\iNeuron\\\\ML_projects\\\\Cement Strength Prediction\\\\research'"
      ]
     },
     "execution_count": 3,
     "metadata": {},
     "output_type": "execute_result"
    }
   ],
   "source": [
    "os.getcwd()"
   ]
  },
  {
   "cell_type": "code",
   "execution_count": 4,
   "metadata": {},
   "outputs": [
    {
     "data": {
      "text/plain": [
       "'d:\\\\iNeuron\\\\ML_projects\\\\Cement Strength Prediction'"
      ]
     },
     "execution_count": 4,
     "metadata": {},
     "output_type": "execute_result"
    }
   ],
   "source": [
    "os.chdir('../')\n",
    "os.getcwd()"
   ]
  },
  {
   "cell_type": "code",
   "execution_count": 5,
   "metadata": {},
   "outputs": [],
   "source": [
    "from box import ConfigBox\n",
    "import yaml"
   ]
  },
  {
   "cell_type": "code",
   "execution_count": 6,
   "metadata": {},
   "outputs": [],
   "source": [
    "yaml_file = open(\"configs/config.yaml\")"
   ]
  },
  {
   "cell_type": "code",
   "execution_count": 7,
   "metadata": {},
   "outputs": [],
   "source": [
    "content = yaml.safe_load(yaml_file)"
   ]
  },
  {
   "cell_type": "code",
   "execution_count": 8,
   "metadata": {},
   "outputs": [
    {
     "data": {
      "text/plain": [
       "{'training_pipeline_config': {'pipeline_name': 'concrete',\n",
       "  'artifact_dir': 'artifact'},\n",
       " 'data_ingestion_config': {'dataset_download_url': 'https://raw.githubusercontent.com/MeghnathReddy/Concrete-Compressive-Strength-Prediction/master/concrete_data.csv',\n",
       "  'raw_data_dir': 'raw_data',\n",
       "  'ingested_dir': 'ingested_data',\n",
       "  'ingested_train_dir': 'train',\n",
       "  'ingested_test_dir': 'test'},\n",
       " 'data_validation_config': {'schema_dir': 'configs',\n",
       "  'schema_file_name': 'schema.yaml',\n",
       "  'report_file_name': 'report.json',\n",
       "  'report_page_file_name': 'report.html'},\n",
       " 'data_transformation_config': {'add_bedroom_per_room': True,\n",
       "  'transformed_dir': 'transformed_data',\n",
       "  'transformed_train_dir': 'train',\n",
       "  'transformed_test_dir': 'test',\n",
       "  'preprocessing_dir': 'preprocessed',\n",
       "  'preprocessed_object_file_name': 'preprocessed.pkl'},\n",
       " 'model_trainer_config': {'trained_model_dir': 'trained_model',\n",
       "  'model_file_name': 'model.pkl',\n",
       "  'base_accuracy': 0.6,\n",
       "  'model_config_dir': 'configs',\n",
       "  'model_config_file_name': 'model.yaml'},\n",
       " 'model_evaluation_config': {'model_evaluation_file_name': 'model_evaluation.yaml'},\n",
       " 'model_pusher_config': {'model_export_dir': 'saved_models'}}"
      ]
     },
     "execution_count": 8,
     "metadata": {},
     "output_type": "execute_result"
    }
   ],
   "source": [
    "content"
   ]
  },
  {
   "cell_type": "code",
   "execution_count": 10,
   "metadata": {},
   "outputs": [],
   "source": [
    "c = ConfigBox(content)"
   ]
  },
  {
   "cell_type": "code",
   "execution_count": 12,
   "metadata": {},
   "outputs": [
    {
     "data": {
      "text/plain": [
       "ConfigBox({'dataset_download_url': 'https://raw.githubusercontent.com/MeghnathReddy/Concrete-Compressive-Strength-Prediction/master/concrete_data.csv', 'raw_data_dir': 'raw_data', 'ingested_dir': 'ingested_data', 'ingested_train_dir': 'train', 'ingested_test_dir': 'test'})"
      ]
     },
     "execution_count": 12,
     "metadata": {},
     "output_type": "execute_result"
    }
   ],
   "source": [
    "c.data_ingestion_config"
   ]
  },
  {
   "cell_type": "code",
   "execution_count": 14,
   "metadata": {},
   "outputs": [
    {
     "data": {
      "text/plain": [
       "True"
      ]
     },
     "execution_count": 14,
     "metadata": {},
     "output_type": "execute_result"
    }
   ],
   "source": [
    "\"artifact\" in os.path.join('D:\\iNeuron\\ML_projects\\Cement Strength Prediction\\concrete_artifact\\model_evaluation\\model_evaluation.yaml')\n"
   ]
  },
  {
   "cell_type": "code",
   "execution_count": null,
   "metadata": {},
   "outputs": [],
   "source": []
  }
 ],
 "metadata": {
  "kernelspec": {
   "display_name": "Python 3.8.13 (conda)",
   "language": "python",
   "name": "python3"
  },
  "language_info": {
   "codemirror_mode": {
    "name": "ipython",
    "version": 3
   },
   "file_extension": ".py",
   "mimetype": "text/x-python",
   "name": "python",
   "nbconvert_exporter": "python",
   "pygments_lexer": "ipython3",
   "version": "3.8.13"
  },
  "orig_nbformat": 4,
  "vscode": {
   "interpreter": {
    "hash": "cd94aedc326f61abe99025ca67aebe710ee0d031e58f874cf60751a4cd63ed9a"
   }
  }
 },
 "nbformat": 4,
 "nbformat_minor": 2
}
