{
 "cells": [
  {
   "cell_type": "code",
   "execution_count": 111,
   "metadata": {},
   "outputs": [],
   "source": [
    "#from utils import create_directories"
   ]
  },
  {
   "cell_type": "code",
   "execution_count": 112,
   "metadata": {},
   "outputs": [],
   "source": [
    "import os"
   ]
  },
  {
   "cell_type": "code",
   "execution_count": 113,
   "metadata": {},
   "outputs": [
    {
     "data": {
      "text/plain": [
       "'d:\\\\iNeuron\\\\ML_projects\\\\Cement Price Prediction'"
      ]
     },
     "execution_count": 113,
     "metadata": {},
     "output_type": "execute_result"
    }
   ],
   "source": [
    "os.getcwd()"
   ]
  },
  {
   "cell_type": "code",
   "execution_count": 114,
   "metadata": {},
   "outputs": [],
   "source": [
    "\n",
    "#os.chdir('d:\\\\iNeuron\\\\ML_projects\\\\Cement Price Prediction')"
   ]
  },
  {
   "cell_type": "code",
   "execution_count": 115,
   "metadata": {},
   "outputs": [
    {
     "data": {
      "text/plain": [
       "'d:\\\\iNeuron\\\\ML_projects\\\\Cement Price Prediction'"
      ]
     },
     "execution_count": 115,
     "metadata": {},
     "output_type": "execute_result"
    }
   ],
   "source": [
    "os.getcwd()"
   ]
  },
  {
   "cell_type": "code",
   "execution_count": 116,
   "metadata": {},
   "outputs": [
    {
     "ename": "ModuleNotFoundError",
     "evalue": "No module named 'utils'",
     "output_type": "error",
     "traceback": [
      "\u001b[1;31m---------------------------------------------------------------------------\u001b[0m",
      "\u001b[1;31mModuleNotFoundError\u001b[0m                       Traceback (most recent call last)",
      "Cell \u001b[1;32mIn [116], line 1\u001b[0m\n\u001b[1;32m----> 1\u001b[0m \u001b[38;5;28;01mfrom\u001b[39;00m \u001b[38;5;21;01mutils\u001b[39;00m \u001b[38;5;28;01mimport\u001b[39;00m create_directories\n",
      "\u001b[1;31mModuleNotFoundError\u001b[0m: No module named 'utils'"
     ]
    }
   ],
   "source": [
    "from utils import create_directories"
   ]
  },
  {
   "cell_type": "code",
   "execution_count": 117,
   "metadata": {},
   "outputs": [],
   "source": [
    "from collections import namedtuple"
   ]
  },
  {
   "cell_type": "code",
   "execution_count": 118,
   "metadata": {},
   "outputs": [],
   "source": [
    "from dataclasses import dataclass\n",
    "from pathlib import Path\n",
    "\n",
    "\n",
    "@dataclass(frozen=True)\n",
    "class DataIngestionConfig:\n",
    "    root_dir: Path\n",
    "    good_files: Path\n",
    "    bad_files: Path\n",
    "    cummilated_csv: Path"
   ]
  },
  {
   "cell_type": "code",
   "execution_count": 119,
   "metadata": {},
   "outputs": [
    {
     "ename": "TypeError",
     "evalue": "__init__() got an unexpected keyword argument 'source_URL'",
     "output_type": "error",
     "traceback": [
      "\u001b[1;31m---------------------------------------------------------------------------\u001b[0m",
      "\u001b[1;31mTypeError\u001b[0m                                 Traceback (most recent call last)",
      "Cell \u001b[1;32mIn [119], line 1\u001b[0m\n\u001b[1;32m----> 1\u001b[0m c \u001b[38;5;241m=\u001b[39m \u001b[43mDataIngestionConfig\u001b[49m\u001b[43m(\u001b[49m\u001b[43mroot_dir\u001b[49m\u001b[38;5;241;43m=\u001b[39;49m\u001b[38;5;124;43m'\u001b[39;49m\u001b[38;5;124;43martifacts/data_ingestion\u001b[39;49m\u001b[38;5;124;43m'\u001b[39;49m\u001b[43m,\u001b[49m\n\u001b[0;32m      2\u001b[0m \u001b[43msource_URL\u001b[49m\u001b[38;5;241;43m=\u001b[39;49m\u001b[38;5;124;43m'\u001b[39;49m\u001b[38;5;124;43mhttps://helloworld.com/data_ingestion\u001b[39;49m\u001b[38;5;124;43m'\u001b[39;49m\u001b[43m,\u001b[49m\n\u001b[0;32m      3\u001b[0m \u001b[43mlocal_data_file\u001b[49m\u001b[38;5;241;43m=\u001b[39;49m\u001b[38;5;124;43m'\u001b[39;49m\u001b[38;5;124;43martifacts/data_ingestion/good_files\u001b[39;49m\u001b[38;5;124;43m'\u001b[39;49m\u001b[43m,\u001b[49m\n\u001b[0;32m      4\u001b[0m \u001b[43munzip_dir\u001b[49m\u001b[38;5;241;43m=\u001b[39;49m\u001b[38;5;124;43m'\u001b[39;49m\u001b[38;5;124;43martifacts/data_ingestion/bad_files\u001b[39;49m\u001b[38;5;124;43m'\u001b[39;49m\u001b[43m)\u001b[49m\n",
      "\u001b[1;31mTypeError\u001b[0m: __init__() got an unexpected keyword argument 'source_URL'"
     ]
    }
   ],
   "source": [
    "c = DataIngestionConfig(root_dir='artifacts/data_ingestion',\n",
    "source_URL='https://helloworld.com/data_ingestion',\n",
    "local_data_file='artifacts/data_ingestion/good_files',\n",
    "unzip_dir='artifacts/data_ingestion/bad_files')"
   ]
  },
  {
   "cell_type": "code",
   "execution_count": 120,
   "metadata": {},
   "outputs": [
    {
     "ename": "AttributeError",
     "evalue": "'ConfigurationManager' object has no attribute 'root_dir'",
     "output_type": "error",
     "traceback": [
      "\u001b[1;31m---------------------------------------------------------------------------\u001b[0m",
      "\u001b[1;31mAttributeError\u001b[0m                            Traceback (most recent call last)",
      "Cell \u001b[1;32mIn [120], line 1\u001b[0m\n\u001b[1;32m----> 1\u001b[0m \u001b[43mc\u001b[49m\u001b[38;5;241;43m.\u001b[39;49m\u001b[43mroot_dir\u001b[49m\n",
      "\u001b[1;31mAttributeError\u001b[0m: 'ConfigurationManager' object has no attribute 'root_dir'"
     ]
    }
   ],
   "source": [
    "c.root_dir"
   ]
  },
  {
   "cell_type": "code",
   "execution_count": 121,
   "metadata": {},
   "outputs": [],
   "source": [
    "from CementStrength.constants import *\n",
    "from CementStrength.utils import read_yaml, create_directories"
   ]
  },
  {
   "cell_type": "code",
   "execution_count": 122,
   "metadata": {},
   "outputs": [
    {
     "data": {
      "text/plain": [
       "WindowsPath('configs/config.yaml')"
      ]
     },
     "execution_count": 122,
     "metadata": {},
     "output_type": "execute_result"
    }
   ],
   "source": [
    "CONFIG_FILE_PATH"
   ]
  },
  {
   "cell_type": "code",
   "execution_count": 123,
   "metadata": {},
   "outputs": [
    {
     "name": "stdout",
     "output_type": "stream",
     "text": [
      "[2022-11-03 00:54:11,462: INFO: common]: yaml file: configs\\config.yaml loaded successfully\n"
     ]
    }
   ],
   "source": [
    "configs = read_yaml(CONFIG_FILE_PATH)"
   ]
  },
  {
   "cell_type": "code",
   "execution_count": 124,
   "metadata": {},
   "outputs": [
    {
     "data": {
      "text/plain": [
       "ConfigBox({'root_dir': 'artifacts/data_ingestion', 'good_files': 'artifacts/data_ingestion/good_files', 'bad_files': 'artifacts/data_ingestion/bad_files', 'cummilated_csv': 'artifacts/data_ingestion/cummilated_csv', 'archive_bad_files': 'artifacts/data_ingestion/archive_bad_files', 'training_local_db': 'artifacts/local_db/training_local_db', 'prediction_local_db': 'artifacts/local_db/prediction_local_db'})"
      ]
     },
     "execution_count": 124,
     "metadata": {},
     "output_type": "execute_result"
    }
   ],
   "source": [
    "configs.data_ingestion"
   ]
  },
  {
   "cell_type": "code",
   "execution_count": 125,
   "metadata": {},
   "outputs": [
    {
     "ename": "TypeError",
     "evalue": "expected str, bytes or os.PathLike object, not ConfigBox",
     "output_type": "error",
     "traceback": [
      "\u001b[1;31m---------------------------------------------------------------------------\u001b[0m",
      "\u001b[1;31mTypeError\u001b[0m                                 Traceback (most recent call last)",
      "Cell \u001b[1;32mIn [125], line 1\u001b[0m\n\u001b[1;32m----> 1\u001b[0m \u001b[43mcreate_directories\u001b[49m\u001b[43m(\u001b[49m\u001b[43m[\u001b[49m\u001b[43mconfigs\u001b[49m\u001b[38;5;241;43m.\u001b[39;49m\u001b[43mdata_ingestion\u001b[49m\u001b[43m]\u001b[49m\u001b[43m)\u001b[49m\n",
      "File \u001b[1;32md:\\iNeuron\\ML_projects\\Cement Price Prediction\\env\\lib\\site-packages\\ensure\\main.py:807\u001b[0m, in \u001b[0;36mWrappedFunction.__call__\u001b[1;34m(self, *args, **kwargs)\u001b[0m\n\u001b[0;32m    799\u001b[0m         msg \u001b[39m=\u001b[39m (\n\u001b[0;32m    800\u001b[0m             \u001b[39m\"\u001b[39m\u001b[39mArgument \u001b[39m\u001b[39m{arg}\u001b[39;00m\u001b[39m of type \u001b[39m\u001b[39m{valt}\u001b[39;00m\u001b[39m to \u001b[39m\u001b[39m{f}\u001b[39;00m\u001b[39m \u001b[39m\u001b[39m\"\u001b[39m\n\u001b[0;32m    801\u001b[0m             \u001b[39m\"\u001b[39m\u001b[39mdoes not match annotation type \u001b[39m\u001b[39m{t}\u001b[39;00m\u001b[39m\"\u001b[39m\n\u001b[0;32m    802\u001b[0m         )\n\u001b[0;32m    803\u001b[0m         \u001b[39mraise\u001b[39;00m EnsureError(msg\u001b[39m.\u001b[39mformat(\n\u001b[0;32m    804\u001b[0m             arg\u001b[39m=\u001b[39marg, f\u001b[39m=\u001b[39m\u001b[39mself\u001b[39m\u001b[39m.\u001b[39mf, t\u001b[39m=\u001b[39mtempl, valt\u001b[39m=\u001b[39m\u001b[39mtype\u001b[39m(value)\n\u001b[0;32m    805\u001b[0m         ))\n\u001b[1;32m--> 807\u001b[0m \u001b[39mreturn\u001b[39;00m \u001b[39mself\u001b[39;49m\u001b[39m.\u001b[39;49mf(\u001b[39m*\u001b[39;49margs, \u001b[39m*\u001b[39;49m\u001b[39m*\u001b[39;49mkwargs)\n",
      "File \u001b[1;32mD:\\iNeuron\\ML_projects\\Cement Price Prediction\\src\\CementStrength\\utils\\common.py:41\u001b[0m, in \u001b[0;36mcreate_directories\u001b[1;34m(path_to_directories, verbose)\u001b[0m\n\u001b[0;32m     35\u001b[0m \u001b[39m\"\"\"create list of directories\u001b[39;00m\n\u001b[0;32m     36\u001b[0m \u001b[39mArgs:\u001b[39;00m\n\u001b[0;32m     37\u001b[0m \u001b[39m    path_to_directories (list): list of path of directories\u001b[39;00m\n\u001b[0;32m     38\u001b[0m \u001b[39m    ignore_log (bool, optional): ignore if multiple dirs is to be created. Defaults to False.\u001b[39;00m\n\u001b[0;32m     39\u001b[0m \u001b[39m\"\"\"\u001b[39;00m\n\u001b[0;32m     40\u001b[0m \u001b[39mfor\u001b[39;00m path \u001b[39min\u001b[39;00m path_to_directories:\n\u001b[1;32m---> 41\u001b[0m     os\u001b[39m.\u001b[39;49mmakedirs(path, exist_ok\u001b[39m=\u001b[39;49m\u001b[39mTrue\u001b[39;49;00m)\n\u001b[0;32m     42\u001b[0m     \u001b[39mif\u001b[39;00m verbose:\n\u001b[0;32m     43\u001b[0m         logger\u001b[39m.\u001b[39minfo(\u001b[39mf\u001b[39m\u001b[39m\"\u001b[39m\u001b[39mcreated directory at: \u001b[39m\u001b[39m{\u001b[39;00mpath\u001b[39m}\u001b[39;00m\u001b[39m\"\u001b[39m)\n",
      "File \u001b[1;32md:\\iNeuron\\ML_projects\\Cement Price Prediction\\env\\lib\\os.py:208\u001b[0m, in \u001b[0;36mmakedirs\u001b[1;34m(name, mode, exist_ok)\u001b[0m\n\u001b[0;32m    198\u001b[0m \u001b[39mdef\u001b[39;00m \u001b[39mmakedirs\u001b[39m(name, mode\u001b[39m=\u001b[39m\u001b[39m0o777\u001b[39m, exist_ok\u001b[39m=\u001b[39m\u001b[39mFalse\u001b[39;00m):\n\u001b[0;32m    199\u001b[0m     \u001b[39m\"\"\"makedirs(name [, mode=0o777][, exist_ok=False])\u001b[39;00m\n\u001b[0;32m    200\u001b[0m \n\u001b[0;32m    201\u001b[0m \u001b[39m    Super-mkdir; create a leaf directory and all intermediate ones.  Works like\u001b[39;00m\n\u001b[1;32m   (...)\u001b[0m\n\u001b[0;32m    206\u001b[0m \n\u001b[0;32m    207\u001b[0m \u001b[39m    \"\"\"\u001b[39;00m\n\u001b[1;32m--> 208\u001b[0m     head, tail \u001b[39m=\u001b[39m path\u001b[39m.\u001b[39;49msplit(name)\n\u001b[0;32m    209\u001b[0m     \u001b[39mif\u001b[39;00m \u001b[39mnot\u001b[39;00m tail:\n\u001b[0;32m    210\u001b[0m         head, tail \u001b[39m=\u001b[39m path\u001b[39m.\u001b[39msplit(head)\n",
      "File \u001b[1;32md:\\iNeuron\\ML_projects\\Cement Price Prediction\\env\\lib\\ntpath.py:185\u001b[0m, in \u001b[0;36msplit\u001b[1;34m(p)\u001b[0m\n\u001b[0;32m    180\u001b[0m \u001b[39mdef\u001b[39;00m \u001b[39msplit\u001b[39m(p):\n\u001b[0;32m    181\u001b[0m     \u001b[39m\"\"\"Split a pathname.\u001b[39;00m\n\u001b[0;32m    182\u001b[0m \n\u001b[0;32m    183\u001b[0m \u001b[39m    Return tuple (head, tail) where tail is everything after the final slash.\u001b[39;00m\n\u001b[0;32m    184\u001b[0m \u001b[39m    Either part may be empty.\"\"\"\u001b[39;00m\n\u001b[1;32m--> 185\u001b[0m     p \u001b[39m=\u001b[39m os\u001b[39m.\u001b[39;49mfspath(p)\n\u001b[0;32m    186\u001b[0m     seps \u001b[39m=\u001b[39m _get_bothseps(p)\n\u001b[0;32m    187\u001b[0m     d, p \u001b[39m=\u001b[39m splitdrive(p)\n",
      "\u001b[1;31mTypeError\u001b[0m: expected str, bytes or os.PathLike object, not ConfigBox"
     ]
    }
   ],
   "source": [
    "create_directories([configs.data_ingestion])"
   ]
  },
  {
   "cell_type": "code",
   "execution_count": 126,
   "metadata": {},
   "outputs": [],
   "source": [
    "class ConfigurationManager:\n",
    "    def __init__(\n",
    "        self, \n",
    "        config_filepath = CONFIG_FILE_PATH):\n",
    "        self.config = read_yaml(config_filepath)\n",
    "        #self.params = read_yaml(params_filepath)\n",
    "        create_directories([self.config.artifacts_root])\n",
    "\n",
    "    def get_data_ingestion_config(self) -> DataIngestionConfig:\n",
    "        config = self.config.data_ingestion\n",
    "        \n",
    "        create_directories([config.root_dir])\n",
    "\n",
    "        data_ingestion_config = DataIngestionConfig(\n",
    "            root_dir=config.root_dir,\n",
    "            good_files=config.good_files,\n",
    "            bad_files=config.bad_files,\n",
    "            cummilated_csv=config.cummilated_csv \n",
    "        )\n",
    "        return data_ingestion_config\n"
   ]
  },
  {
   "cell_type": "code",
   "execution_count": 127,
   "metadata": {},
   "outputs": [
    {
     "name": "stdout",
     "output_type": "stream",
     "text": [
      "[2022-11-03 00:54:33,659: INFO: common]: yaml file: configs\\config.yaml loaded successfully\n",
      "[2022-11-03 00:54:33,661: INFO: common]: created directory at: artifacts\n"
     ]
    }
   ],
   "source": [
    "c=ConfigurationManager()"
   ]
  },
  {
   "cell_type": "code",
   "execution_count": 128,
   "metadata": {},
   "outputs": [
    {
     "name": "stdout",
     "output_type": "stream",
     "text": [
      "[2022-11-03 00:54:33,709: INFO: common]: created directory at: artifacts/data_ingestion\n"
     ]
    },
    {
     "data": {
      "text/plain": [
       "DataIngestionConfig(root_dir='artifacts/data_ingestion', good_files='artifacts/data_ingestion/good_files', bad_files='artifacts/data_ingestion/bad_files', cummilated_csv='artifacts/data_ingestion/cummilated_csv')"
      ]
     },
     "execution_count": 128,
     "metadata": {},
     "output_type": "execute_result"
    }
   ],
   "source": [
    "c.get_data_ingestion_config()"
   ]
  },
  {
   "cell_type": "code",
   "execution_count": 129,
   "metadata": {},
   "outputs": [],
   "source": [
    "from CementStrength import logger"
   ]
  },
  {
   "cell_type": "code",
   "execution_count": 130,
   "metadata": {},
   "outputs": [
    {
     "data": {
      "text/plain": [
       "'configs/schema_training.json'"
      ]
     },
     "execution_count": 130,
     "metadata": {},
     "output_type": "execute_result"
    }
   ],
   "source": [
    "configs.schema_file_path"
   ]
  },
  {
   "cell_type": "code",
   "execution_count": 131,
   "metadata": {},
   "outputs": [
    {
     "data": {
      "text/plain": [
       "'artifacts/raw_input'"
      ]
     },
     "execution_count": 131,
     "metadata": {},
     "output_type": "execute_result"
    }
   ],
   "source": [
    "configs.raw_input"
   ]
  },
  {
   "cell_type": "code",
   "execution_count": 132,
   "metadata": {},
   "outputs": [],
   "source": [
    "import json"
   ]
  },
  {
   "cell_type": "code",
   "execution_count": 133,
   "metadata": {},
   "outputs": [],
   "source": [
    "class Raw_Data_validation:\n",
    "\n",
    "    \"\"\"\n",
    "             This class shall be used for handling all the validation done on the Raw Training Data!!.\n",
    "\n",
    "             Written By: Ajaharuddin\n",
    "             Version: 1.0\n",
    "             Revisions: None\n",
    "\n",
    "             \"\"\"\n",
    "\n",
    "    def __init__(self,raw_input_path: Path = configs.raw_input,\n",
    "    schema_file_path: Path = configs.schema_file_path):\n",
    "        self.Batch_Directory = raw_input_path\n",
    "        self.schema_path = schema_file_path\n",
    "\n",
    "    def valuesFromSchema(self):\n",
    "        \"\"\"\n",
    "                        Method Name: valuesFromSchema\n",
    "                        Description: This method extracts all the relevant information from the pre-defined \"Schema\" file.\n",
    "                        Output: LengthOfDateStampInFile, LengthOfTimeStampInFile, column_names, Number of Columns\n",
    "                        On Failure: Raise ValueError,KeyError,Exception\n",
    "\n",
    "                         Written By: Ajaharuddin\n",
    "                        Version: 1.0\n",
    "                        Revisions: None\n",
    "\n",
    "                                \"\"\"\n",
    "        try:\n",
    "            with open(self.schema_path, 'r') as f:\n",
    "                schema_dic = json.load(f)\n",
    "    \n",
    "            pattern = schema_dic['SampleFileName']\n",
    "            LengthOfDateStampInFile = schema_dic['LengthOfDateStampInFile']\n",
    "            LengthOfTimeStampInFile = schema_dic['LengthOfTimeStampInFile']\n",
    "            column_names = schema_dic['ColName']\n",
    "            NumberofColumns = schema_dic['NumberofColumns']\n",
    "\n",
    "            message =\"LengthOfDateStampInFile:: %s\" %LengthOfDateStampInFile + \"\\t\" + \"LengthOfTimeStampInFile:: %s\" % LengthOfTimeStampInFile +\"\\t \" + \"NumberofColumns:: %s\" % NumberofColumns + \"\\n\"\n",
    "            logger.info(message)\n",
    "        except ValueError:\n",
    "            logger.info(\"ValueError:Value not found inside schema_training.json\")\n",
    "            raise ValueError\n",
    "        except KeyError:\n",
    "            logger.info(\"KeyError:Key value error incorrect key passed\")\n",
    "            raise KeyError\n",
    "        except Exception as e:\n",
    "            logger.info(str(e))\n",
    "            raise e\n",
    "        return LengthOfDateStampInFile, LengthOfTimeStampInFile, column_names, NumberofColumns"
   ]
  },
  {
   "cell_type": "code",
   "execution_count": 134,
   "metadata": {},
   "outputs": [],
   "source": [
    "ra = Raw_Data_validation()"
   ]
  },
  {
   "cell_type": "code",
   "execution_count": 135,
   "metadata": {},
   "outputs": [
    {
     "name": "stdout",
     "output_type": "stream",
     "text": [
      "[2022-11-03 00:54:34,045: INFO: 516014419]: LengthOfDateStampInFile:: 8\tLengthOfTimeStampInFile:: 6\t NumberofColumns:: 9\n",
      "\n"
     ]
    },
    {
     "data": {
      "text/plain": [
       "(8,\n",
       " 6,\n",
       " {'Cement _component_1': 'FLOAT',\n",
       "  'Blast Furnace Slag _component_2': 'FLOAT',\n",
       "  'Fly Ash _component_3': 'FLOAT',\n",
       "  'Water_component_4': 'FLOAT',\n",
       "  'Superplasticizer_component_5': 'FLOAT',\n",
       "  'Coarse Aggregate_component_6': 'FLOAT',\n",
       "  'Fine Aggregate_component_7': 'FLOAT',\n",
       "  'Age_day': 'INTEGER',\n",
       "  'Concrete_compressive _strength': 'FLOAT'},\n",
       " 9)"
      ]
     },
     "execution_count": 135,
     "metadata": {},
     "output_type": "execute_result"
    }
   ],
   "source": [
    "ra.valuesFromSchema()"
   ]
  },
  {
   "cell_type": "code",
   "execution_count": 148,
   "metadata": {},
   "outputs": [
    {
     "name": "stdout",
     "output_type": "stream",
     "text": [
      "[2022-11-03 00:57:04,271: INFO: common]: yaml file: configs\\config.yaml loaded successfully\n",
      "[2022-11-03 00:57:04,273: INFO: common]: created directory at: artifacts\n"
     ]
    }
   ],
   "source": [
    "from CementStrength.config.configuration import ConfigurationManager\n",
    "con = ConfigurationManager()"
   ]
  },
  {
   "cell_type": "code",
   "execution_count": 149,
   "metadata": {},
   "outputs": [
    {
     "data": {
      "text/plain": [
       "'configs/schema_training.json'"
      ]
     },
     "execution_count": 149,
     "metadata": {},
     "output_type": "execute_result"
    }
   ],
   "source": [
    "con.config.schema_file_path"
   ]
  },
  {
   "cell_type": "code",
   "execution_count": 153,
   "metadata": {},
   "outputs": [
    {
     "name": "stdout",
     "output_type": "stream",
     "text": [
      "[2022-11-03 00:58:37,984: INFO: common]: yaml file: configs\\config.yaml loaded successfully\n",
      "[2022-11-03 00:58:37,985: INFO: common]: created directory at: artifacts\n",
      "[2022-11-03 00:58:37,987: INFO: common]: created directory at: artifacts/data_ingestion\n"
     ]
    }
   ],
   "source": [
    "data_ing = ConfigurationManager().get_data_ingestion_config()"
   ]
  },
  {
   "cell_type": "code",
   "execution_count": 138,
   "metadata": {},
   "outputs": [
    {
     "name": "stdout",
     "output_type": "stream",
     "text": [
      "[2022-11-03 00:54:34,199: INFO: common]: yaml file: configs\\config.yaml loaded successfully\n",
      "[2022-11-03 00:54:34,201: INFO: common]: created directory at: artifacts\n",
      "[2022-11-03 00:54:34,206: INFO: common]: yaml file: configs\\config.yaml loaded successfully\n",
      "[2022-11-03 00:54:34,208: INFO: common]: created directory at: artifacts\n"
     ]
    }
   ],
   "source": [
    "from os import listdir\n",
    "import os\n",
    "import re\n",
    "import json,csv\n",
    "import shutil\n",
    "import pandas as pd\n",
    "from CementStrength import logger\n",
    "from pathlib import Path\n",
    "from CementStrength.config import ConfigurationManager\n",
    "\n",
    "class Raw_Data_validation:\n",
    "\n",
    "    \"\"\"\n",
    "             This class shall be used for handling all the validation done on the Raw Training Data!!.\n",
    "\n",
    "             Written By: Ajaharuddin\n",
    "             Version: 1.0\n",
    "             Revisions: None\n",
    "\n",
    "             \"\"\"\n",
    "\n",
    "    def __init__(self,raw_input_path: Path = ConfigurationManager().config.raw_input,schema_file_path: Path = ConfigurationManager().config.schema_file_path):\n",
    "        self.Batch_Directory = raw_input_path\n",
    "        self.schema_path = schema_file_path\n",
    "\n",
    "    def valuesFromSchema(self):\n",
    "        \"\"\"\n",
    "                        Method Name: valuesFromSchema\n",
    "                        Description: This method extracts all the relevant information from the pre-defined \"Schema\" file.\n",
    "                        Output: LengthOfDateStampInFile, LengthOfTimeStampInFile, column_names, Number of Columns\n",
    "                        On Failure: Raise ValueError,KeyError,Exception\n",
    "\n",
    "                         Written By: Ajaharuddin\n",
    "                        Version: 1.0\n",
    "                        Revisions: None\n",
    "\n",
    "                                \"\"\"\n",
    "        try:\n",
    "            with open(self.schema_path, 'r') as f:\n",
    "                schema_dic = json.load(f)\n",
    "    \n",
    "            pattern = schema_dic['SampleFileName']\n",
    "            LengthOfDateStampInFile = schema_dic['LengthOfDateStampInFile']\n",
    "            LengthOfTimeStampInFile = schema_dic['LengthOfTimeStampInFile']\n",
    "            column_names = schema_dic['ColName']\n",
    "            NumberofColumns = schema_dic['NumberofColumns']\n",
    "\n",
    "            message =\"LengthOfDateStampInFile:: %s\" %LengthOfDateStampInFile + \"\\t\" + \"LengthOfTimeStampInFile:: %s\" % LengthOfTimeStampInFile +\"\\t \" + \"NumberofColumns:: %s\" % NumberofColumns + \"\\n\"\n",
    "            logger.info(message)\n",
    "        except ValueError:\n",
    "            logger.info(\"ValueError:Value not found inside schema_training.json\")\n",
    "            raise ValueError\n",
    "        except KeyError:\n",
    "            logger.info(\"KeyError:Key value error incorrect key passed\")\n",
    "            raise KeyError\n",
    "        except Exception as e:\n",
    "            logger.info(str(e))\n",
    "            raise e\n",
    "        return LengthOfDateStampInFile, LengthOfTimeStampInFile, column_names, NumberofColumns\n"
   ]
  },
  {
   "cell_type": "code",
   "execution_count": 139,
   "metadata": {},
   "outputs": [],
   "source": [
    "ra = Raw_Data_validation()"
   ]
  },
  {
   "cell_type": "code",
   "execution_count": 140,
   "metadata": {},
   "outputs": [
    {
     "name": "stdout",
     "output_type": "stream",
     "text": [
      "[2022-11-03 00:54:34,277: INFO: 497485021]: LengthOfDateStampInFile:: 8\tLengthOfTimeStampInFile:: 6\t NumberofColumns:: 9\n",
      "\n"
     ]
    },
    {
     "data": {
      "text/plain": [
       "(8,\n",
       " 6,\n",
       " {'Cement _component_1': 'FLOAT',\n",
       "  'Blast Furnace Slag _component_2': 'FLOAT',\n",
       "  'Fly Ash _component_3': 'FLOAT',\n",
       "  'Water_component_4': 'FLOAT',\n",
       "  'Superplasticizer_component_5': 'FLOAT',\n",
       "  'Coarse Aggregate_component_6': 'FLOAT',\n",
       "  'Fine Aggregate_component_7': 'FLOAT',\n",
       "  'Age_day': 'INTEGER',\n",
       "  'Concrete_compressive _strength': 'FLOAT'},\n",
       " 9)"
      ]
     },
     "execution_count": 140,
     "metadata": {},
     "output_type": "execute_result"
    }
   ],
   "source": [
    "ra.valuesFromSchema()"
   ]
  },
  {
   "cell_type": "code",
   "execution_count": 141,
   "metadata": {},
   "outputs": [],
   "source": [
    "from CementStrength.entity.config_entity import DataIngestionConfig"
   ]
  },
  {
   "cell_type": "code",
   "execution_count": 142,
   "metadata": {},
   "outputs": [
    {
     "data": {
      "text/plain": [
       "['cement_strength_08012020_120000', '']"
      ]
     },
     "execution_count": 142,
     "metadata": {},
     "output_type": "execute_result"
    }
   ],
   "source": [
    "import re\n",
    "re.split('.csv', 'cement_strength_08012020_120000.csv')"
   ]
  },
  {
   "cell_type": "code",
   "execution_count": 143,
   "metadata": {},
   "outputs": [
    {
     "data": {
      "text/plain": [
       "['cement', 'strength', '08012020', '120000']"
      ]
     },
     "execution_count": 143,
     "metadata": {},
     "output_type": "execute_result"
    }
   ],
   "source": [
    "re.split('_','cement_strength_08012020_120000')"
   ]
  },
  {
   "cell_type": "code",
   "execution_count": 144,
   "metadata": {},
   "outputs": [],
   "source": [
    "import shutil"
   ]
  },
  {
   "cell_type": "code",
   "execution_count": 145,
   "metadata": {},
   "outputs": [
    {
     "name": "stdout",
     "output_type": "stream",
     "text": [
      "[2022-11-03 00:54:34,586: INFO: common]: yaml file: configs\\config.yaml loaded successfully\n",
      "[2022-11-03 00:54:34,588: INFO: common]: created directory at: artifacts\n",
      "[2022-11-03 00:54:34,590: INFO: common]: created directory at: artifacts/data_ingestion\n"
     ]
    },
    {
     "data": {
      "text/plain": [
       "DataIngestionConfig(root_dir='artifacts/data_ingestion', good_files='artifacts/data_ingestion/good_files', bad_files='artifacts/data_ingestion/bad_files', cummilated_csv='artifacts/data_ingestion/cummilated_csv')"
      ]
     },
     "execution_count": 145,
     "metadata": {},
     "output_type": "execute_result"
    }
   ],
   "source": [
    "ConfigurationManager().get_data_ingestion_config()"
   ]
  },
  {
   "cell_type": "code",
   "execution_count": 146,
   "metadata": {},
   "outputs": [
    {
     "data": {
      "text/plain": [
       "'artifacts/raw_input'"
      ]
     },
     "execution_count": 146,
     "metadata": {},
     "output_type": "execute_result"
    }
   ],
   "source": [
    "configs.raw_input"
   ]
  },
  {
   "cell_type": "code",
   "execution_count": null,
   "metadata": {},
   "outputs": [],
   "source": []
  },
  {
   "cell_type": "code",
   "execution_count": 147,
   "metadata": {},
   "outputs": [
    {
     "ename": "FileNotFoundError",
     "evalue": "[Errno 2] No such file or directory: 'artifacts/raw_inputcement_strength_08012020_1200.csv'",
     "output_type": "error",
     "traceback": [
      "\u001b[1;31m---------------------------------------------------------------------------\u001b[0m",
      "\u001b[1;31mFileNotFoundError\u001b[0m                         Traceback (most recent call last)",
      "Cell \u001b[1;32mIn [147], line 1\u001b[0m\n\u001b[1;32m----> 1\u001b[0m \u001b[43mshutil\u001b[49m\u001b[38;5;241;43m.\u001b[39;49m\u001b[43mcopy\u001b[49m\u001b[43m(\u001b[49m\u001b[43mconfigs\u001b[49m\u001b[38;5;241;43m.\u001b[39;49m\u001b[43mraw_input\u001b[49m\u001b[38;5;241;43m+\u001b[39;49m\u001b[38;5;124;43m'\u001b[39;49m\u001b[38;5;124;43mcement_strength_08012020_1200.csv\u001b[39;49m\u001b[38;5;124;43m'\u001b[39;49m\u001b[43m,\u001b[49m\u001b[43mconfigs\u001b[49m\u001b[38;5;241;43m.\u001b[39;49m\u001b[43mdata_ingestion\u001b[49m\u001b[38;5;241;43m.\u001b[39;49m\u001b[43mbad_files\u001b[49m\u001b[43m)\u001b[49m\n",
      "File \u001b[1;32md:\\iNeuron\\ML_projects\\Cement Price Prediction\\env\\lib\\shutil.py:418\u001b[0m, in \u001b[0;36mcopy\u001b[1;34m(src, dst, follow_symlinks)\u001b[0m\n\u001b[0;32m    416\u001b[0m \u001b[39mif\u001b[39;00m os\u001b[39m.\u001b[39mpath\u001b[39m.\u001b[39misdir(dst):\n\u001b[0;32m    417\u001b[0m     dst \u001b[39m=\u001b[39m os\u001b[39m.\u001b[39mpath\u001b[39m.\u001b[39mjoin(dst, os\u001b[39m.\u001b[39mpath\u001b[39m.\u001b[39mbasename(src))\n\u001b[1;32m--> 418\u001b[0m copyfile(src, dst, follow_symlinks\u001b[39m=\u001b[39;49mfollow_symlinks)\n\u001b[0;32m    419\u001b[0m copymode(src, dst, follow_symlinks\u001b[39m=\u001b[39mfollow_symlinks)\n\u001b[0;32m    420\u001b[0m \u001b[39mreturn\u001b[39;00m dst\n",
      "File \u001b[1;32md:\\iNeuron\\ML_projects\\Cement Price Prediction\\env\\lib\\shutil.py:264\u001b[0m, in \u001b[0;36mcopyfile\u001b[1;34m(src, dst, follow_symlinks)\u001b[0m\n\u001b[0;32m    262\u001b[0m     os\u001b[39m.\u001b[39msymlink(os\u001b[39m.\u001b[39mreadlink(src), dst)\n\u001b[0;32m    263\u001b[0m \u001b[39melse\u001b[39;00m:\n\u001b[1;32m--> 264\u001b[0m     \u001b[39mwith\u001b[39;00m \u001b[39mopen\u001b[39;49m(src, \u001b[39m'\u001b[39;49m\u001b[39mrb\u001b[39;49m\u001b[39m'\u001b[39;49m) \u001b[39mas\u001b[39;00m fsrc, \u001b[39mopen\u001b[39m(dst, \u001b[39m'\u001b[39m\u001b[39mwb\u001b[39m\u001b[39m'\u001b[39m) \u001b[39mas\u001b[39;00m fdst:\n\u001b[0;32m    265\u001b[0m         \u001b[39m# macOS\u001b[39;00m\n\u001b[0;32m    266\u001b[0m         \u001b[39mif\u001b[39;00m _HAS_FCOPYFILE:\n\u001b[0;32m    267\u001b[0m             \u001b[39mtry\u001b[39;00m:\n",
      "\u001b[1;31mFileNotFoundError\u001b[0m: [Errno 2] No such file or directory: 'artifacts/raw_inputcement_strength_08012020_1200.csv'"
     ]
    }
   ],
   "source": [
    "shutil.copy(configs.raw_input+'cement_strength_08012020_1200.csv',configs.data_ingestion.bad_files)"
   ]
  },
  {
   "cell_type": "code",
   "execution_count": null,
   "metadata": {},
   "outputs": [],
   "source": [
    "os.makedirs(configs.raw_input+'cement_strength_08012020_1200.csv')"
   ]
  },
  {
   "cell_type": "code",
   "execution_count": null,
   "metadata": {},
   "outputs": [
    {
     "data": {
      "text/plain": [
       "'artifacts/raw_input\\\\cement_strength_08012020_1200.csv'"
      ]
     },
     "execution_count": 86,
     "metadata": {},
     "output_type": "execute_result"
    }
   ],
   "source": [
    "os.path.join(configs.raw_input,'cement_strength_08012020_1200.csv')"
   ]
  },
  {
   "cell_type": "code",
   "execution_count": null,
   "metadata": {},
   "outputs": [],
   "source": [
    "df = pd.read_csv(os.path.join(configs.raw_input,'cement_strength_08012020_1200.csv'))"
   ]
  },
  {
   "cell_type": "code",
   "execution_count": null,
   "metadata": {},
   "outputs": [
    {
     "data": {
      "text/plain": [
       "pandas.core.frame.DataFrame"
      ]
     },
     "execution_count": 89,
     "metadata": {},
     "output_type": "execute_result"
    }
   ],
   "source": [
    "type(df)"
   ]
  },
  {
   "cell_type": "code",
   "execution_count": null,
   "metadata": {},
   "outputs": [],
   "source": [
    "count = 0\n",
    "for columns in df:\n",
    "    if (len(df[columns]) - df[columns].count()) == len(df[columns]):\n",
    "        count+=1"
   ]
  },
  {
   "cell_type": "code",
   "execution_count": null,
   "metadata": {},
   "outputs": [
    {
     "data": {
      "text/html": [
       "<div>\n",
       "<style scoped>\n",
       "    .dataframe tbody tr th:only-of-type {\n",
       "        vertical-align: middle;\n",
       "    }\n",
       "\n",
       "    .dataframe tbody tr th {\n",
       "        vertical-align: top;\n",
       "    }\n",
       "\n",
       "    .dataframe thead th {\n",
       "        text-align: right;\n",
       "    }\n",
       "</style>\n",
       "<table border=\"1\" class=\"dataframe\">\n",
       "  <thead>\n",
       "    <tr style=\"text-align: right;\">\n",
       "      <th></th>\n",
       "      <th>Cement (component 1)(kg in a m^3 mixture)</th>\n",
       "      <th>Blast Furnace Slag (component 2)(kg in a m^3 mixture)</th>\n",
       "      <th>Fly Ash (component 3)(kg in a m^3 mixture)</th>\n",
       "      <th>Water  (component 4)(kg in a m^3 mixture)</th>\n",
       "      <th>Superplasticizer (component 5)(kg in a m^3 mixture)</th>\n",
       "      <th>Coarse Aggregate  (component 6)(kg in a m^3 mixture)</th>\n",
       "      <th>Fine Aggregate (component 7)(kg in a m^3 mixture)</th>\n",
       "      <th>Age (day)</th>\n",
       "      <th>Concrete compressive strength(MPa, megapascals)</th>\n",
       "    </tr>\n",
       "  </thead>\n",
       "  <tbody>\n",
       "    <tr>\n",
       "      <th>0</th>\n",
       "      <td>540.0</td>\n",
       "      <td>0.0</td>\n",
       "      <td>0.0</td>\n",
       "      <td>162.0</td>\n",
       "      <td>2.5</td>\n",
       "      <td>1040.0</td>\n",
       "      <td>676.0</td>\n",
       "      <td>28</td>\n",
       "      <td>79.99</td>\n",
       "    </tr>\n",
       "    <tr>\n",
       "      <th>1</th>\n",
       "      <td>540.0</td>\n",
       "      <td>0.0</td>\n",
       "      <td>0.0</td>\n",
       "      <td>162.0</td>\n",
       "      <td>2.5</td>\n",
       "      <td>1055.0</td>\n",
       "      <td>676.0</td>\n",
       "      <td>28</td>\n",
       "      <td>61.89</td>\n",
       "    </tr>\n",
       "    <tr>\n",
       "      <th>2</th>\n",
       "      <td>332.5</td>\n",
       "      <td>142.5</td>\n",
       "      <td>0.0</td>\n",
       "      <td>228.0</td>\n",
       "      <td>0.0</td>\n",
       "      <td>932.0</td>\n",
       "      <td>594.0</td>\n",
       "      <td>270</td>\n",
       "      <td>40.27</td>\n",
       "    </tr>\n",
       "    <tr>\n",
       "      <th>3</th>\n",
       "      <td>332.5</td>\n",
       "      <td>142.5</td>\n",
       "      <td>0.0</td>\n",
       "      <td>228.0</td>\n",
       "      <td>0.0</td>\n",
       "      <td>932.0</td>\n",
       "      <td>594.0</td>\n",
       "      <td>365</td>\n",
       "      <td>41.05</td>\n",
       "    </tr>\n",
       "    <tr>\n",
       "      <th>4</th>\n",
       "      <td>198.6</td>\n",
       "      <td>132.4</td>\n",
       "      <td>0.0</td>\n",
       "      <td>192.0</td>\n",
       "      <td>0.0</td>\n",
       "      <td>978.4</td>\n",
       "      <td>825.5</td>\n",
       "      <td>360</td>\n",
       "      <td>44.30</td>\n",
       "    </tr>\n",
       "  </tbody>\n",
       "</table>\n",
       "</div>"
      ],
      "text/plain": [
       "   Cement (component 1)(kg in a m^3 mixture)  \\\n",
       "0                                      540.0   \n",
       "1                                      540.0   \n",
       "2                                      332.5   \n",
       "3                                      332.5   \n",
       "4                                      198.6   \n",
       "\n",
       "   Blast Furnace Slag (component 2)(kg in a m^3 mixture)  \\\n",
       "0                                                0.0       \n",
       "1                                                0.0       \n",
       "2                                              142.5       \n",
       "3                                              142.5       \n",
       "4                                              132.4       \n",
       "\n",
       "   Fly Ash (component 3)(kg in a m^3 mixture)  \\\n",
       "0                                         0.0   \n",
       "1                                         0.0   \n",
       "2                                         0.0   \n",
       "3                                         0.0   \n",
       "4                                         0.0   \n",
       "\n",
       "   Water  (component 4)(kg in a m^3 mixture)  \\\n",
       "0                                      162.0   \n",
       "1                                      162.0   \n",
       "2                                      228.0   \n",
       "3                                      228.0   \n",
       "4                                      192.0   \n",
       "\n",
       "   Superplasticizer (component 5)(kg in a m^3 mixture)  \\\n",
       "0                                                2.5     \n",
       "1                                                2.5     \n",
       "2                                                0.0     \n",
       "3                                                0.0     \n",
       "4                                                0.0     \n",
       "\n",
       "   Coarse Aggregate  (component 6)(kg in a m^3 mixture)  \\\n",
       "0                                             1040.0      \n",
       "1                                             1055.0      \n",
       "2                                              932.0      \n",
       "3                                              932.0      \n",
       "4                                              978.4      \n",
       "\n",
       "   Fine Aggregate (component 7)(kg in a m^3 mixture)  Age (day)  \\\n",
       "0                                              676.0         28   \n",
       "1                                              676.0         28   \n",
       "2                                              594.0        270   \n",
       "3                                              594.0        365   \n",
       "4                                              825.5        360   \n",
       "\n",
       "   Concrete compressive strength(MPa, megapascals)   \n",
       "0                                             79.99  \n",
       "1                                             61.89  \n",
       "2                                             40.27  \n",
       "3                                             41.05  \n",
       "4                                             44.30  "
      ]
     },
     "execution_count": 99,
     "metadata": {},
     "output_type": "execute_result"
    }
   ],
   "source": [
    "df.head()"
   ]
  },
  {
   "cell_type": "code",
   "execution_count": null,
   "metadata": {},
   "outputs": [],
   "source": [
    "df.rename(columns={\"Unnamed: 0\": \"Wafer\"}, inplace=True)"
   ]
  },
  {
   "cell_type": "code",
   "execution_count": null,
   "metadata": {},
   "outputs": [
    {
     "data": {
      "text/html": [
       "<div>\n",
       "<style scoped>\n",
       "    .dataframe tbody tr th:only-of-type {\n",
       "        vertical-align: middle;\n",
       "    }\n",
       "\n",
       "    .dataframe tbody tr th {\n",
       "        vertical-align: top;\n",
       "    }\n",
       "\n",
       "    .dataframe thead th {\n",
       "        text-align: right;\n",
       "    }\n",
       "</style>\n",
       "<table border=\"1\" class=\"dataframe\">\n",
       "  <thead>\n",
       "    <tr style=\"text-align: right;\">\n",
       "      <th></th>\n",
       "      <th>Cement (component 1)(kg in a m^3 mixture)</th>\n",
       "      <th>Blast Furnace Slag (component 2)(kg in a m^3 mixture)</th>\n",
       "      <th>Fly Ash (component 3)(kg in a m^3 mixture)</th>\n",
       "      <th>Water  (component 4)(kg in a m^3 mixture)</th>\n",
       "      <th>Superplasticizer (component 5)(kg in a m^3 mixture)</th>\n",
       "      <th>Coarse Aggregate  (component 6)(kg in a m^3 mixture)</th>\n",
       "      <th>Fine Aggregate (component 7)(kg in a m^3 mixture)</th>\n",
       "      <th>Age (day)</th>\n",
       "      <th>Concrete compressive strength(MPa, megapascals)</th>\n",
       "    </tr>\n",
       "  </thead>\n",
       "  <tbody>\n",
       "    <tr>\n",
       "      <th>0</th>\n",
       "      <td>540.0</td>\n",
       "      <td>0.0</td>\n",
       "      <td>0.0</td>\n",
       "      <td>162.0</td>\n",
       "      <td>2.5</td>\n",
       "      <td>1040.0</td>\n",
       "      <td>676.0</td>\n",
       "      <td>28</td>\n",
       "      <td>79.99</td>\n",
       "    </tr>\n",
       "    <tr>\n",
       "      <th>1</th>\n",
       "      <td>540.0</td>\n",
       "      <td>0.0</td>\n",
       "      <td>0.0</td>\n",
       "      <td>162.0</td>\n",
       "      <td>2.5</td>\n",
       "      <td>1055.0</td>\n",
       "      <td>676.0</td>\n",
       "      <td>28</td>\n",
       "      <td>61.89</td>\n",
       "    </tr>\n",
       "    <tr>\n",
       "      <th>2</th>\n",
       "      <td>332.5</td>\n",
       "      <td>142.5</td>\n",
       "      <td>0.0</td>\n",
       "      <td>228.0</td>\n",
       "      <td>0.0</td>\n",
       "      <td>932.0</td>\n",
       "      <td>594.0</td>\n",
       "      <td>270</td>\n",
       "      <td>40.27</td>\n",
       "    </tr>\n",
       "    <tr>\n",
       "      <th>3</th>\n",
       "      <td>332.5</td>\n",
       "      <td>142.5</td>\n",
       "      <td>0.0</td>\n",
       "      <td>228.0</td>\n",
       "      <td>0.0</td>\n",
       "      <td>932.0</td>\n",
       "      <td>594.0</td>\n",
       "      <td>365</td>\n",
       "      <td>41.05</td>\n",
       "    </tr>\n",
       "    <tr>\n",
       "      <th>4</th>\n",
       "      <td>198.6</td>\n",
       "      <td>132.4</td>\n",
       "      <td>0.0</td>\n",
       "      <td>192.0</td>\n",
       "      <td>0.0</td>\n",
       "      <td>978.4</td>\n",
       "      <td>825.5</td>\n",
       "      <td>360</td>\n",
       "      <td>44.30</td>\n",
       "    </tr>\n",
       "  </tbody>\n",
       "</table>\n",
       "</div>"
      ],
      "text/plain": [
       "   Cement (component 1)(kg in a m^3 mixture)  \\\n",
       "0                                      540.0   \n",
       "1                                      540.0   \n",
       "2                                      332.5   \n",
       "3                                      332.5   \n",
       "4                                      198.6   \n",
       "\n",
       "   Blast Furnace Slag (component 2)(kg in a m^3 mixture)  \\\n",
       "0                                                0.0       \n",
       "1                                                0.0       \n",
       "2                                              142.5       \n",
       "3                                              142.5       \n",
       "4                                              132.4       \n",
       "\n",
       "   Fly Ash (component 3)(kg in a m^3 mixture)  \\\n",
       "0                                         0.0   \n",
       "1                                         0.0   \n",
       "2                                         0.0   \n",
       "3                                         0.0   \n",
       "4                                         0.0   \n",
       "\n",
       "   Water  (component 4)(kg in a m^3 mixture)  \\\n",
       "0                                      162.0   \n",
       "1                                      162.0   \n",
       "2                                      228.0   \n",
       "3                                      228.0   \n",
       "4                                      192.0   \n",
       "\n",
       "   Superplasticizer (component 5)(kg in a m^3 mixture)  \\\n",
       "0                                                2.5     \n",
       "1                                                2.5     \n",
       "2                                                0.0     \n",
       "3                                                0.0     \n",
       "4                                                0.0     \n",
       "\n",
       "   Coarse Aggregate  (component 6)(kg in a m^3 mixture)  \\\n",
       "0                                             1040.0      \n",
       "1                                             1055.0      \n",
       "2                                              932.0      \n",
       "3                                              932.0      \n",
       "4                                              978.4      \n",
       "\n",
       "   Fine Aggregate (component 7)(kg in a m^3 mixture)  Age (day)  \\\n",
       "0                                              676.0         28   \n",
       "1                                              676.0         28   \n",
       "2                                              594.0        270   \n",
       "3                                              594.0        365   \n",
       "4                                              825.5        360   \n",
       "\n",
       "   Concrete compressive strength(MPa, megapascals)   \n",
       "0                                             79.99  \n",
       "1                                             61.89  \n",
       "2                                             40.27  \n",
       "3                                             41.05  \n",
       "4                                             44.30  "
      ]
     },
     "execution_count": 101,
     "metadata": {},
     "output_type": "execute_result"
    }
   ],
   "source": [
    "df.head()"
   ]
  },
  {
   "cell_type": "code",
   "execution_count": null,
   "metadata": {},
   "outputs": [
    {
     "data": {
      "text/plain": [
       "1030"
      ]
     },
     "execution_count": 98,
     "metadata": {},
     "output_type": "execute_result"
    }
   ],
   "source": [
    "df['Cement (component 1)(kg in a m^3 mixture)'].count()"
   ]
  },
  {
   "cell_type": "code",
   "execution_count": null,
   "metadata": {},
   "outputs": [
    {
     "name": "stdout",
     "output_type": "stream",
     "text": [
      "Cement (component 1)(kg in a m^3 mixture)\n",
      "Blast Furnace Slag (component 2)(kg in a m^3 mixture)\n",
      "Fly Ash (component 3)(kg in a m^3 mixture)\n",
      "Water  (component 4)(kg in a m^3 mixture)\n",
      "Superplasticizer (component 5)(kg in a m^3 mixture)\n",
      "Coarse Aggregate  (component 6)(kg in a m^3 mixture)\n",
      "Fine Aggregate (component 7)(kg in a m^3 mixture)\n",
      "Age (day)\n",
      "Concrete compressive strength(MPa, megapascals) \n"
     ]
    }
   ],
   "source": [
    "for i in df:\n",
    "    print(i)"
   ]
  },
  {
   "cell_type": "code",
   "execution_count": 1,
   "metadata": {},
   "outputs": [],
   "source": [
    "from CementStrength.config import ConfigurationManager"
   ]
  },
  {
   "cell_type": "code",
   "execution_count": 2,
   "metadata": {},
   "outputs": [
    {
     "ename": "FileNotFoundError",
     "evalue": "[Errno 2] No such file or directory: 'configs\\\\config.yaml'",
     "output_type": "error",
     "traceback": [
      "\u001b[1;31m---------------------------------------------------------------------------\u001b[0m",
      "\u001b[1;31mFileNotFoundError\u001b[0m                         Traceback (most recent call last)",
      "Cell \u001b[1;32mIn [2], line 1\u001b[0m\n\u001b[1;32m----> 1\u001b[0m \u001b[43mConfigurationManager\u001b[49m\u001b[43m(\u001b[49m\u001b[43m)\u001b[49m\u001b[38;5;241m.\u001b[39mget_data_ingestion_config\n",
      "File \u001b[1;32mD:\\iNeuron\\ML_projects\\Cement Price Prediction\\src\\CementStrength\\config\\configuration.py:11\u001b[0m, in \u001b[0;36mConfigurationManager.__init__\u001b[1;34m(self, config_filepath)\u001b[0m\n\u001b[0;32m      8\u001b[0m \u001b[39mdef\u001b[39;00m \u001b[39m__init__\u001b[39m(\n\u001b[0;32m      9\u001b[0m     \u001b[39mself\u001b[39m, \n\u001b[0;32m     10\u001b[0m     config_filepath \u001b[39m=\u001b[39m CONFIG_FILE_PATH):\n\u001b[1;32m---> 11\u001b[0m     \u001b[39mself\u001b[39m\u001b[39m.\u001b[39mconfig \u001b[39m=\u001b[39m read_yaml(config_filepath)\n\u001b[0;32m     12\u001b[0m     \u001b[39m#self.params = read_yaml(params_filepath)\u001b[39;00m\n\u001b[0;32m     13\u001b[0m     create_directories([\u001b[39mself\u001b[39m\u001b[39m.\u001b[39mconfig\u001b[39m.\u001b[39martifacts_root])\n",
      "File \u001b[1;32md:\\iNeuron\\ML_projects\\Cement Price Prediction\\env\\lib\\site-packages\\ensure\\main.py:849\u001b[0m, in \u001b[0;36mWrappedFunctionReturn.__call__\u001b[1;34m(self, *args, **kwargs)\u001b[0m\n\u001b[0;32m    841\u001b[0m         msg \u001b[39m=\u001b[39m (\n\u001b[0;32m    842\u001b[0m             \u001b[39m\"\u001b[39m\u001b[39mArgument \u001b[39m\u001b[39m{arg}\u001b[39;00m\u001b[39m of type \u001b[39m\u001b[39m{valt}\u001b[39;00m\u001b[39m to \u001b[39m\u001b[39m{f}\u001b[39;00m\u001b[39m \u001b[39m\u001b[39m\"\u001b[39m\n\u001b[0;32m    843\u001b[0m             \u001b[39m\"\u001b[39m\u001b[39mdoes not match annotation type \u001b[39m\u001b[39m{t}\u001b[39;00m\u001b[39m\"\u001b[39m\n\u001b[0;32m    844\u001b[0m         )\n\u001b[0;32m    845\u001b[0m         \u001b[39mraise\u001b[39;00m EnsureError(msg\u001b[39m.\u001b[39mformat(\n\u001b[0;32m    846\u001b[0m             arg\u001b[39m=\u001b[39marg, f\u001b[39m=\u001b[39m\u001b[39mself\u001b[39m\u001b[39m.\u001b[39mf, t\u001b[39m=\u001b[39mtempl, valt\u001b[39m=\u001b[39m\u001b[39mtype\u001b[39m(value)\n\u001b[0;32m    847\u001b[0m         ))\n\u001b[1;32m--> 849\u001b[0m return_val \u001b[39m=\u001b[39m \u001b[39mself\u001b[39;49m\u001b[39m.\u001b[39;49mf(\u001b[39m*\u001b[39;49margs, \u001b[39m*\u001b[39;49m\u001b[39m*\u001b[39;49mkwargs)\n\u001b[0;32m    850\u001b[0m \u001b[39mif\u001b[39;00m \u001b[39mnot\u001b[39;00m \u001b[39misinstance\u001b[39m(return_val, \u001b[39mself\u001b[39m\u001b[39m.\u001b[39mreturn_templ):\n\u001b[0;32m    851\u001b[0m     msg \u001b[39m=\u001b[39m (\n\u001b[0;32m    852\u001b[0m         \u001b[39m\"\u001b[39m\u001b[39mReturn value of \u001b[39m\u001b[39m{f}\u001b[39;00m\u001b[39m of type \u001b[39m\u001b[39m{valt}\u001b[39;00m\u001b[39m \u001b[39m\u001b[39m\"\u001b[39m\n\u001b[0;32m    853\u001b[0m         \u001b[39m\"\u001b[39m\u001b[39mdoes not match annotation type \u001b[39m\u001b[39m{t}\u001b[39;00m\u001b[39m\"\u001b[39m\n\u001b[0;32m    854\u001b[0m     )\n",
      "File \u001b[1;32mD:\\iNeuron\\ML_projects\\Cement Price Prediction\\src\\CementStrength\\utils\\common.py:31\u001b[0m, in \u001b[0;36mread_yaml\u001b[1;34m(path_to_yaml)\u001b[0m\n\u001b[0;32m     29\u001b[0m     \u001b[39mraise\u001b[39;00m \u001b[39mValueError\u001b[39;00m(\u001b[39m\"\u001b[39m\u001b[39myaml file is empty\u001b[39m\u001b[39m\"\u001b[39m)\n\u001b[0;32m     30\u001b[0m \u001b[39mexcept\u001b[39;00m \u001b[39mException\u001b[39;00m \u001b[39mas\u001b[39;00m e:\n\u001b[1;32m---> 31\u001b[0m     \u001b[39mraise\u001b[39;00m e\n",
      "File \u001b[1;32mD:\\iNeuron\\ML_projects\\Cement Price Prediction\\src\\CementStrength\\utils\\common.py:24\u001b[0m, in \u001b[0;36mread_yaml\u001b[1;34m(path_to_yaml)\u001b[0m\n\u001b[0;32m     14\u001b[0m \u001b[39m\"\"\"reads yaml file and returns\u001b[39;00m\n\u001b[0;32m     15\u001b[0m \u001b[39mArgs:\u001b[39;00m\n\u001b[0;32m     16\u001b[0m \u001b[39m    path_to_yaml (str): path like input\u001b[39;00m\n\u001b[1;32m   (...)\u001b[0m\n\u001b[0;32m     21\u001b[0m \u001b[39m    ConfigBox: ConfigBox type\u001b[39;00m\n\u001b[0;32m     22\u001b[0m \u001b[39m\"\"\"\u001b[39;00m\n\u001b[0;32m     23\u001b[0m \u001b[39mtry\u001b[39;00m:\n\u001b[1;32m---> 24\u001b[0m     \u001b[39mwith\u001b[39;00m \u001b[39mopen\u001b[39;49m(path_to_yaml) \u001b[39mas\u001b[39;00m yaml_file:\n\u001b[0;32m     25\u001b[0m         content \u001b[39m=\u001b[39m yaml\u001b[39m.\u001b[39msafe_load(yaml_file)\n\u001b[0;32m     26\u001b[0m         logger\u001b[39m.\u001b[39minfo(\u001b[39mf\u001b[39m\u001b[39m\"\u001b[39m\u001b[39myaml file: \u001b[39m\u001b[39m{\u001b[39;00mpath_to_yaml\u001b[39m}\u001b[39;00m\u001b[39m loaded successfully\u001b[39m\u001b[39m\"\u001b[39m)\n",
      "\u001b[1;31mFileNotFoundError\u001b[0m: [Errno 2] No such file or directory: 'configs\\\\config.yaml'"
     ]
    }
   ],
   "source": [
    "ConfigurationManager().get_data_ingestion_config"
   ]
  },
  {
   "cell_type": "code",
   "execution_count": 1,
   "metadata": {},
   "outputs": [],
   "source": [
    "from CementStrength.config import ConfigurationManager"
   ]
  },
  {
   "cell_type": "code",
   "execution_count": 2,
   "metadata": {},
   "outputs": [
    {
     "data": {
      "text/plain": [
       "'d:\\\\iNeuron\\\\ML_projects\\\\Cement Price Prediction\\\\research'"
      ]
     },
     "execution_count": 2,
     "metadata": {},
     "output_type": "execute_result"
    }
   ],
   "source": [
    "import os\n",
    "os.getcwd()"
   ]
  },
  {
   "cell_type": "code",
   "execution_count": 3,
   "metadata": {},
   "outputs": [],
   "source": [
    "os.chdir('../')"
   ]
  },
  {
   "cell_type": "code",
   "execution_count": 4,
   "metadata": {},
   "outputs": [
    {
     "data": {
      "text/plain": [
       "'d:\\\\iNeuron\\\\ML_projects\\\\Cement Price Prediction'"
      ]
     },
     "execution_count": 4,
     "metadata": {},
     "output_type": "execute_result"
    }
   ],
   "source": [
    "os.getcwd()"
   ]
  },
  {
   "cell_type": "code",
   "execution_count": 5,
   "metadata": {},
   "outputs": [
    {
     "name": "stdout",
     "output_type": "stream",
     "text": [
      "[2022-11-03 21:39:05,951: INFO: common]: yaml file: configs\\config.yaml loaded successfully\n",
      "[2022-11-03 21:39:05,954: INFO: common]: created directory at: artifacts\n",
      "[2022-11-03 21:39:05,956: INFO: common]: created directory at: artifacts/data_ingestion\n"
     ]
    },
    {
     "data": {
      "text/plain": [
       "DataIngestionConfig(root_dir='artifacts/data_ingestion', good_files='artifacts/data_ingestion/good_files', bad_files='artifacts/data_ingestion/bad_files', cummilated_csv='artifacts/data_ingestion/cummilated_csv', archive_bad_files='artifacts/data_ingestion/archive_bad_files', training_local_db='artifacts/local_db/training_local_db', prediction_local_db='artifacts/local_db/prediction_local_db')"
      ]
     },
     "execution_count": 5,
     "metadata": {},
     "output_type": "execute_result"
    }
   ],
   "source": [
    "ConfigurationManager().get_data_ingestion_config()"
   ]
  },
  {
   "cell_type": "code",
   "execution_count": 6,
   "metadata": {},
   "outputs": [
    {
     "name": "stdout",
     "output_type": "stream",
     "text": [
      "[2022-11-03 21:39:06,513: INFO: common]: yaml file: configs\\config.yaml loaded successfully\n",
      "[2022-11-03 21:39:06,515: INFO: common]: created directory at: artifacts\n",
      "[2022-11-03 21:39:06,521: INFO: common]: yaml file: configs\\config.yaml loaded successfully\n",
      "[2022-11-03 21:39:06,523: INFO: common]: created directory at: artifacts\n",
      "[2022-11-03 21:39:06,530: INFO: common]: yaml file: configs\\config.yaml loaded successfully\n",
      "[2022-11-03 21:39:06,533: INFO: common]: created directory at: artifacts\n",
      "[2022-11-03 21:39:06,535: INFO: common]: created directory at: artifacts/data_ingestion\n",
      "[2022-11-03 21:39:06,541: INFO: common]: yaml file: configs\\config.yaml loaded successfully\n",
      "[2022-11-03 21:39:06,542: INFO: common]: created directory at: artifacts\n",
      "[2022-11-03 21:39:06,545: INFO: common]: created directory at: artifacts/data_ingestion\n"
     ]
    }
   ],
   "source": [
    "from CementStrength.components.data_ingestion_training import train_validation"
   ]
  },
  {
   "cell_type": "code",
   "execution_count": 7,
   "metadata": {},
   "outputs": [
    {
     "name": "stdout",
     "output_type": "stream",
     "text": [
      "[2022-11-03 21:39:06,628: INFO: common]: yaml file: configs\\config.yaml loaded successfully\n",
      "[2022-11-03 21:39:06,629: INFO: common]: created directory at: artifacts\n",
      "[2022-11-03 21:39:06,630: INFO: common]: created directory at: artifacts/data_ingestion\n"
     ]
    }
   ],
   "source": [
    "tra = train_validation()"
   ]
  },
  {
   "cell_type": "code",
   "execution_count": 8,
   "metadata": {},
   "outputs": [
    {
     "name": "stdout",
     "output_type": "stream",
     "text": [
      "[2022-11-03 21:39:06,700: INFO: data_ingestion_training]: Start of Validation on files for prediction!!\n",
      "[2022-11-03 21:39:06,702: INFO: data_ingestion_training]: LengthOfDateStampInFile:: 8\tLengthOfTimeStampInFile:: 6\t NumberofColumns:: 9\n",
      "\n",
      "[2022-11-03 21:39:06,708: INFO: data_ingestion_training]: Invalid File Name!! File moved to Bad Raw Folder :: cement_strength_08012020_1200.csv\n",
      "[2022-11-03 21:39:06,712: INFO: data_ingestion_training]: Valid File name!! File moved to GoodRaw Folder :: cement_strength_08012020_120000.csv\n",
      "[2022-11-03 21:39:06,715: INFO: data_ingestion_training]: Valid File name!! File moved to GoodRaw Folder :: cement_strength_08012020_120021.csv\n",
      "[2022-11-03 21:39:06,718: INFO: data_ingestion_training]: Column Length Validation Started!!\n",
      "[2022-11-03 21:39:06,729: INFO: data_ingestion_training]: Invalid Column Length for the file!! File moved to Bad Raw Folder :: cement_strength_08012020_120000.csv\n",
      "[2022-11-03 21:39:06,735: INFO: data_ingestion_training]: Column Length Validation Completed!!\n",
      "[2022-11-03 21:39:06,737: INFO: data_ingestion_training]: Missing Values Validation Started!!\n",
      "[2022-11-03 21:39:06,747: INFO: data_ingestion_training]: Raw Data Validation Complete!!\n",
      "[2022-11-03 21:39:06,749: INFO: data_ingestion_training]: Creating Training_Database and tables on the basis of given schema!!!\n",
      "[2022-11-03 21:39:06,751: INFO: data_ingestion_training]: Opened Training database successfully\n",
      "[2022-11-03 21:39:06,755: INFO: data_ingestion_training]: Tables created successfully!!\n",
      "[2022-11-03 21:39:06,757: INFO: data_ingestion_training]: Closed Training database successfully\n",
      "[2022-11-03 21:39:06,758: INFO: data_ingestion_training]: Table creation Completed!!\n",
      "[2022-11-03 21:39:06,760: INFO: data_ingestion_training]: Insertion of Data into Table started!!!!\n",
      "[2022-11-03 21:39:06,762: INFO: data_ingestion_training]: Opened Training database successfully\n",
      "[2022-11-03 21:39:06,766: INFO: data_ingestion_training]:  cement_strength_08012020_120021.csv: File loaded successfully!!\n",
      "[2022-11-03 21:39:06,775: INFO: data_ingestion_training]:  cement_strength_08012020_120021.csv: File loaded successfully!!\n",
      "[2022-11-03 21:39:06,782: INFO: data_ingestion_training]:  cement_strength_08012020_120021.csv: File loaded successfully!!\n",
      "[2022-11-03 21:39:06,788: INFO: data_ingestion_training]:  cement_strength_08012020_120021.csv: File loaded successfully!!\n",
      "[2022-11-03 21:39:06,795: INFO: data_ingestion_training]:  cement_strength_08012020_120021.csv: File loaded successfully!!\n",
      "[2022-11-03 21:39:06,803: INFO: data_ingestion_training]:  cement_strength_08012020_120021.csv: File loaded successfully!!\n",
      "[2022-11-03 21:39:06,810: INFO: data_ingestion_training]:  cement_strength_08012020_120021.csv: File loaded successfully!!\n",
      "[2022-11-03 21:39:06,818: INFO: data_ingestion_training]:  cement_strength_08012020_120021.csv: File loaded successfully!!\n",
      "[2022-11-03 21:39:06,825: INFO: data_ingestion_training]:  cement_strength_08012020_120021.csv: File loaded successfully!!\n",
      "[2022-11-03 21:39:06,834: INFO: data_ingestion_training]:  cement_strength_08012020_120021.csv: File loaded successfully!!\n",
      "[2022-11-03 21:39:06,843: INFO: data_ingestion_training]:  cement_strength_08012020_120021.csv: File loaded successfully!!\n",
      "[2022-11-03 21:39:06,852: INFO: data_ingestion_training]:  cement_strength_08012020_120021.csv: File loaded successfully!!\n",
      "[2022-11-03 21:39:06,862: INFO: data_ingestion_training]:  cement_strength_08012020_120021.csv: File loaded successfully!!\n",
      "[2022-11-03 21:39:06,869: INFO: data_ingestion_training]:  cement_strength_08012020_120021.csv: File loaded successfully!!\n",
      "[2022-11-03 21:39:06,882: INFO: data_ingestion_training]:  cement_strength_08012020_120021.csv: File loaded successfully!!\n",
      "[2022-11-03 21:39:06,890: INFO: data_ingestion_training]:  cement_strength_08012020_120021.csv: File loaded successfully!!\n",
      "[2022-11-03 21:39:06,898: INFO: data_ingestion_training]:  cement_strength_08012020_120021.csv: File loaded successfully!!\n",
      "[2022-11-03 21:39:06,909: INFO: data_ingestion_training]:  cement_strength_08012020_120021.csv: File loaded successfully!!\n",
      "[2022-11-03 21:39:06,917: INFO: data_ingestion_training]:  cement_strength_08012020_120021.csv: File loaded successfully!!\n",
      "[2022-11-03 21:39:06,934: INFO: data_ingestion_training]:  cement_strength_08012020_120021.csv: File loaded successfully!!\n",
      "[2022-11-03 21:39:06,943: INFO: data_ingestion_training]:  cement_strength_08012020_120021.csv: File loaded successfully!!\n",
      "[2022-11-03 21:39:06,951: INFO: data_ingestion_training]:  cement_strength_08012020_120021.csv: File loaded successfully!!\n",
      "[2022-11-03 21:39:06,960: INFO: data_ingestion_training]:  cement_strength_08012020_120021.csv: File loaded successfully!!\n",
      "[2022-11-03 21:39:06,969: INFO: data_ingestion_training]:  cement_strength_08012020_120021.csv: File loaded successfully!!\n",
      "[2022-11-03 21:39:06,978: INFO: data_ingestion_training]:  cement_strength_08012020_120021.csv: File loaded successfully!!\n",
      "[2022-11-03 21:39:06,988: INFO: data_ingestion_training]:  cement_strength_08012020_120021.csv: File loaded successfully!!\n",
      "[2022-11-03 21:39:07,001: INFO: data_ingestion_training]:  cement_strength_08012020_120021.csv: File loaded successfully!!\n",
      "[2022-11-03 21:39:07,012: INFO: data_ingestion_training]:  cement_strength_08012020_120021.csv: File loaded successfully!!\n",
      "[2022-11-03 21:39:07,020: INFO: data_ingestion_training]:  cement_strength_08012020_120021.csv: File loaded successfully!!\n",
      "[2022-11-03 21:39:07,032: INFO: data_ingestion_training]:  cement_strength_08012020_120021.csv: File loaded successfully!!\n",
      "[2022-11-03 21:39:07,039: INFO: data_ingestion_training]:  cement_strength_08012020_120021.csv: File loaded successfully!!\n",
      "[2022-11-03 21:39:07,047: INFO: data_ingestion_training]:  cement_strength_08012020_120021.csv: File loaded successfully!!\n",
      "[2022-11-03 21:39:07,066: INFO: data_ingestion_training]:  cement_strength_08012020_120021.csv: File loaded successfully!!\n",
      "[2022-11-03 21:39:07,073: INFO: data_ingestion_training]:  cement_strength_08012020_120021.csv: File loaded successfully!!\n",
      "[2022-11-03 21:39:07,081: INFO: data_ingestion_training]:  cement_strength_08012020_120021.csv: File loaded successfully!!\n",
      "[2022-11-03 21:39:07,092: INFO: data_ingestion_training]:  cement_strength_08012020_120021.csv: File loaded successfully!!\n",
      "[2022-11-03 21:39:07,102: INFO: data_ingestion_training]:  cement_strength_08012020_120021.csv: File loaded successfully!!\n",
      "[2022-11-03 21:39:07,110: INFO: data_ingestion_training]:  cement_strength_08012020_120021.csv: File loaded successfully!!\n",
      "[2022-11-03 21:39:07,118: INFO: data_ingestion_training]:  cement_strength_08012020_120021.csv: File loaded successfully!!\n",
      "[2022-11-03 21:39:07,126: INFO: data_ingestion_training]:  cement_strength_08012020_120021.csv: File loaded successfully!!\n",
      "[2022-11-03 21:39:07,136: INFO: data_ingestion_training]:  cement_strength_08012020_120021.csv: File loaded successfully!!\n",
      "[2022-11-03 21:39:07,147: INFO: data_ingestion_training]:  cement_strength_08012020_120021.csv: File loaded successfully!!\n",
      "[2022-11-03 21:39:07,157: INFO: data_ingestion_training]:  cement_strength_08012020_120021.csv: File loaded successfully!!\n",
      "[2022-11-03 21:39:07,164: INFO: data_ingestion_training]:  cement_strength_08012020_120021.csv: File loaded successfully!!\n",
      "[2022-11-03 21:39:07,171: INFO: data_ingestion_training]:  cement_strength_08012020_120021.csv: File loaded successfully!!\n",
      "[2022-11-03 21:39:07,179: INFO: data_ingestion_training]:  cement_strength_08012020_120021.csv: File loaded successfully!!\n",
      "[2022-11-03 21:39:07,186: INFO: data_ingestion_training]:  cement_strength_08012020_120021.csv: File loaded successfully!!\n",
      "[2022-11-03 21:39:07,193: INFO: data_ingestion_training]:  cement_strength_08012020_120021.csv: File loaded successfully!!\n",
      "[2022-11-03 21:39:07,200: INFO: data_ingestion_training]:  cement_strength_08012020_120021.csv: File loaded successfully!!\n",
      "[2022-11-03 21:39:07,206: INFO: data_ingestion_training]:  cement_strength_08012020_120021.csv: File loaded successfully!!\n",
      "[2022-11-03 21:39:07,213: INFO: data_ingestion_training]:  cement_strength_08012020_120021.csv: File loaded successfully!!\n",
      "[2022-11-03 21:39:07,221: INFO: data_ingestion_training]:  cement_strength_08012020_120021.csv: File loaded successfully!!\n",
      "[2022-11-03 21:39:07,228: INFO: data_ingestion_training]:  cement_strength_08012020_120021.csv: File loaded successfully!!\n",
      "[2022-11-03 21:39:07,235: INFO: data_ingestion_training]:  cement_strength_08012020_120021.csv: File loaded successfully!!\n",
      "[2022-11-03 21:39:07,243: INFO: data_ingestion_training]:  cement_strength_08012020_120021.csv: File loaded successfully!!\n",
      "[2022-11-03 21:39:07,251: INFO: data_ingestion_training]:  cement_strength_08012020_120021.csv: File loaded successfully!!\n",
      "[2022-11-03 21:39:07,262: INFO: data_ingestion_training]:  cement_strength_08012020_120021.csv: File loaded successfully!!\n",
      "[2022-11-03 21:39:07,273: INFO: data_ingestion_training]:  cement_strength_08012020_120021.csv: File loaded successfully!!\n",
      "[2022-11-03 21:39:07,281: INFO: data_ingestion_training]:  cement_strength_08012020_120021.csv: File loaded successfully!!\n",
      "[2022-11-03 21:39:07,290: INFO: data_ingestion_training]:  cement_strength_08012020_120021.csv: File loaded successfully!!\n",
      "[2022-11-03 21:39:07,302: INFO: data_ingestion_training]:  cement_strength_08012020_120021.csv: File loaded successfully!!\n",
      "[2022-11-03 21:39:07,311: INFO: data_ingestion_training]:  cement_strength_08012020_120021.csv: File loaded successfully!!\n",
      "[2022-11-03 21:39:07,324: INFO: data_ingestion_training]:  cement_strength_08012020_120021.csv: File loaded successfully!!\n",
      "[2022-11-03 21:39:07,336: INFO: data_ingestion_training]:  cement_strength_08012020_120021.csv: File loaded successfully!!\n",
      "[2022-11-03 21:39:07,344: INFO: data_ingestion_training]:  cement_strength_08012020_120021.csv: File loaded successfully!!\n",
      "[2022-11-03 21:39:07,352: INFO: data_ingestion_training]:  cement_strength_08012020_120021.csv: File loaded successfully!!\n",
      "[2022-11-03 21:39:07,360: INFO: data_ingestion_training]:  cement_strength_08012020_120021.csv: File loaded successfully!!\n",
      "[2022-11-03 21:39:07,369: INFO: data_ingestion_training]:  cement_strength_08012020_120021.csv: File loaded successfully!!\n",
      "[2022-11-03 21:39:07,379: INFO: data_ingestion_training]:  cement_strength_08012020_120021.csv: File loaded successfully!!\n",
      "[2022-11-03 21:39:07,386: INFO: data_ingestion_training]:  cement_strength_08012020_120021.csv: File loaded successfully!!\n",
      "[2022-11-03 21:39:07,393: INFO: data_ingestion_training]:  cement_strength_08012020_120021.csv: File loaded successfully!!\n",
      "[2022-11-03 21:39:07,401: INFO: data_ingestion_training]:  cement_strength_08012020_120021.csv: File loaded successfully!!\n",
      "[2022-11-03 21:39:07,408: INFO: data_ingestion_training]:  cement_strength_08012020_120021.csv: File loaded successfully!!\n",
      "[2022-11-03 21:39:07,415: INFO: data_ingestion_training]:  cement_strength_08012020_120021.csv: File loaded successfully!!\n",
      "[2022-11-03 21:39:07,423: INFO: data_ingestion_training]:  cement_strength_08012020_120021.csv: File loaded successfully!!\n",
      "[2022-11-03 21:39:07,433: INFO: data_ingestion_training]:  cement_strength_08012020_120021.csv: File loaded successfully!!\n",
      "[2022-11-03 21:39:07,440: INFO: data_ingestion_training]:  cement_strength_08012020_120021.csv: File loaded successfully!!\n",
      "[2022-11-03 21:39:07,447: INFO: data_ingestion_training]:  cement_strength_08012020_120021.csv: File loaded successfully!!\n",
      "[2022-11-03 21:39:07,455: INFO: data_ingestion_training]:  cement_strength_08012020_120021.csv: File loaded successfully!!\n",
      "[2022-11-03 21:39:07,462: INFO: data_ingestion_training]:  cement_strength_08012020_120021.csv: File loaded successfully!!\n",
      "[2022-11-03 21:39:07,469: INFO: data_ingestion_training]:  cement_strength_08012020_120021.csv: File loaded successfully!!\n",
      "[2022-11-03 21:39:07,476: INFO: data_ingestion_training]:  cement_strength_08012020_120021.csv: File loaded successfully!!\n",
      "[2022-11-03 21:39:07,484: INFO: data_ingestion_training]:  cement_strength_08012020_120021.csv: File loaded successfully!!\n",
      "[2022-11-03 21:39:07,490: INFO: data_ingestion_training]:  cement_strength_08012020_120021.csv: File loaded successfully!!\n",
      "[2022-11-03 21:39:07,497: INFO: data_ingestion_training]:  cement_strength_08012020_120021.csv: File loaded successfully!!\n",
      "[2022-11-03 21:39:07,504: INFO: data_ingestion_training]:  cement_strength_08012020_120021.csv: File loaded successfully!!\n",
      "[2022-11-03 21:39:07,511: INFO: data_ingestion_training]:  cement_strength_08012020_120021.csv: File loaded successfully!!\n",
      "[2022-11-03 21:39:07,519: INFO: data_ingestion_training]:  cement_strength_08012020_120021.csv: File loaded successfully!!\n",
      "[2022-11-03 21:39:07,529: INFO: data_ingestion_training]:  cement_strength_08012020_120021.csv: File loaded successfully!!\n",
      "[2022-11-03 21:39:07,539: INFO: data_ingestion_training]:  cement_strength_08012020_120021.csv: File loaded successfully!!\n",
      "[2022-11-03 21:39:07,546: INFO: data_ingestion_training]:  cement_strength_08012020_120021.csv: File loaded successfully!!\n",
      "[2022-11-03 21:39:07,552: INFO: data_ingestion_training]:  cement_strength_08012020_120021.csv: File loaded successfully!!\n",
      "[2022-11-03 21:39:07,559: INFO: data_ingestion_training]:  cement_strength_08012020_120021.csv: File loaded successfully!!\n",
      "[2022-11-03 21:39:07,566: INFO: data_ingestion_training]:  cement_strength_08012020_120021.csv: File loaded successfully!!\n",
      "[2022-11-03 21:39:07,574: INFO: data_ingestion_training]:  cement_strength_08012020_120021.csv: File loaded successfully!!\n",
      "[2022-11-03 21:39:07,581: INFO: data_ingestion_training]:  cement_strength_08012020_120021.csv: File loaded successfully!!\n",
      "[2022-11-03 21:39:07,588: INFO: data_ingestion_training]:  cement_strength_08012020_120021.csv: File loaded successfully!!\n",
      "[2022-11-03 21:39:07,597: INFO: data_ingestion_training]:  cement_strength_08012020_120021.csv: File loaded successfully!!\n",
      "[2022-11-03 21:39:07,608: INFO: data_ingestion_training]:  cement_strength_08012020_120021.csv: File loaded successfully!!\n",
      "[2022-11-03 21:39:07,617: INFO: data_ingestion_training]:  cement_strength_08012020_120021.csv: File loaded successfully!!\n",
      "[2022-11-03 21:39:07,624: INFO: data_ingestion_training]:  cement_strength_08012020_120021.csv: File loaded successfully!!\n",
      "[2022-11-03 21:39:07,632: INFO: data_ingestion_training]:  cement_strength_08012020_120021.csv: File loaded successfully!!\n",
      "[2022-11-03 21:39:07,640: INFO: data_ingestion_training]:  cement_strength_08012020_120021.csv: File loaded successfully!!\n",
      "[2022-11-03 21:39:07,650: INFO: data_ingestion_training]:  cement_strength_08012020_120021.csv: File loaded successfully!!\n",
      "[2022-11-03 21:39:07,657: INFO: data_ingestion_training]:  cement_strength_08012020_120021.csv: File loaded successfully!!\n",
      "[2022-11-03 21:39:07,664: INFO: data_ingestion_training]:  cement_strength_08012020_120021.csv: File loaded successfully!!\n",
      "[2022-11-03 21:39:07,671: INFO: data_ingestion_training]:  cement_strength_08012020_120021.csv: File loaded successfully!!\n",
      "[2022-11-03 21:39:07,678: INFO: data_ingestion_training]:  cement_strength_08012020_120021.csv: File loaded successfully!!\n",
      "[2022-11-03 21:39:07,686: INFO: data_ingestion_training]:  cement_strength_08012020_120021.csv: File loaded successfully!!\n",
      "[2022-11-03 21:39:07,694: INFO: data_ingestion_training]:  cement_strength_08012020_120021.csv: File loaded successfully!!\n",
      "[2022-11-03 21:39:07,703: INFO: data_ingestion_training]:  cement_strength_08012020_120021.csv: File loaded successfully!!\n",
      "[2022-11-03 21:39:07,711: INFO: data_ingestion_training]:  cement_strength_08012020_120021.csv: File loaded successfully!!\n",
      "[2022-11-03 21:39:07,720: INFO: data_ingestion_training]:  cement_strength_08012020_120021.csv: File loaded successfully!!\n",
      "[2022-11-03 21:39:07,728: INFO: data_ingestion_training]:  cement_strength_08012020_120021.csv: File loaded successfully!!\n",
      "[2022-11-03 21:39:07,739: INFO: data_ingestion_training]:  cement_strength_08012020_120021.csv: File loaded successfully!!\n",
      "[2022-11-03 21:39:07,749: INFO: data_ingestion_training]:  cement_strength_08012020_120021.csv: File loaded successfully!!\n",
      "[2022-11-03 21:39:07,759: INFO: data_ingestion_training]:  cement_strength_08012020_120021.csv: File loaded successfully!!\n",
      "[2022-11-03 21:39:07,767: INFO: data_ingestion_training]:  cement_strength_08012020_120021.csv: File loaded successfully!!\n",
      "[2022-11-03 21:39:07,775: INFO: data_ingestion_training]:  cement_strength_08012020_120021.csv: File loaded successfully!!\n",
      "[2022-11-03 21:39:07,783: INFO: data_ingestion_training]:  cement_strength_08012020_120021.csv: File loaded successfully!!\n",
      "[2022-11-03 21:39:07,794: INFO: data_ingestion_training]:  cement_strength_08012020_120021.csv: File loaded successfully!!\n",
      "[2022-11-03 21:39:07,802: INFO: data_ingestion_training]:  cement_strength_08012020_120021.csv: File loaded successfully!!\n",
      "[2022-11-03 21:39:07,811: INFO: data_ingestion_training]:  cement_strength_08012020_120021.csv: File loaded successfully!!\n",
      "[2022-11-03 21:39:07,817: INFO: data_ingestion_training]:  cement_strength_08012020_120021.csv: File loaded successfully!!\n",
      "[2022-11-03 21:39:07,824: INFO: data_ingestion_training]:  cement_strength_08012020_120021.csv: File loaded successfully!!\n",
      "[2022-11-03 21:39:07,832: INFO: data_ingestion_training]:  cement_strength_08012020_120021.csv: File loaded successfully!!\n",
      "[2022-11-03 21:39:07,839: INFO: data_ingestion_training]:  cement_strength_08012020_120021.csv: File loaded successfully!!\n",
      "[2022-11-03 21:39:07,849: INFO: data_ingestion_training]:  cement_strength_08012020_120021.csv: File loaded successfully!!\n",
      "[2022-11-03 21:39:07,856: INFO: data_ingestion_training]:  cement_strength_08012020_120021.csv: File loaded successfully!!\n",
      "[2022-11-03 21:39:07,864: INFO: data_ingestion_training]:  cement_strength_08012020_120021.csv: File loaded successfully!!\n",
      "[2022-11-03 21:39:07,870: INFO: data_ingestion_training]:  cement_strength_08012020_120021.csv: File loaded successfully!!\n",
      "[2022-11-03 21:39:07,877: INFO: data_ingestion_training]:  cement_strength_08012020_120021.csv: File loaded successfully!!\n",
      "[2022-11-03 21:39:07,883: INFO: data_ingestion_training]:  cement_strength_08012020_120021.csv: File loaded successfully!!\n",
      "[2022-11-03 21:39:07,890: INFO: data_ingestion_training]:  cement_strength_08012020_120021.csv: File loaded successfully!!\n",
      "[2022-11-03 21:39:07,897: INFO: data_ingestion_training]:  cement_strength_08012020_120021.csv: File loaded successfully!!\n",
      "[2022-11-03 21:39:07,906: INFO: data_ingestion_training]:  cement_strength_08012020_120021.csv: File loaded successfully!!\n",
      "[2022-11-03 21:39:07,915: INFO: data_ingestion_training]:  cement_strength_08012020_120021.csv: File loaded successfully!!\n",
      "[2022-11-03 21:39:07,922: INFO: data_ingestion_training]:  cement_strength_08012020_120021.csv: File loaded successfully!!\n",
      "[2022-11-03 21:39:07,929: INFO: data_ingestion_training]:  cement_strength_08012020_120021.csv: File loaded successfully!!\n",
      "[2022-11-03 21:39:07,937: INFO: data_ingestion_training]:  cement_strength_08012020_120021.csv: File loaded successfully!!\n",
      "[2022-11-03 21:39:07,943: INFO: data_ingestion_training]:  cement_strength_08012020_120021.csv: File loaded successfully!!\n",
      "[2022-11-03 21:39:07,950: INFO: data_ingestion_training]:  cement_strength_08012020_120021.csv: File loaded successfully!!\n",
      "[2022-11-03 21:39:07,959: INFO: data_ingestion_training]:  cement_strength_08012020_120021.csv: File loaded successfully!!\n",
      "[2022-11-03 21:39:07,968: INFO: data_ingestion_training]:  cement_strength_08012020_120021.csv: File loaded successfully!!\n",
      "[2022-11-03 21:39:07,975: INFO: data_ingestion_training]:  cement_strength_08012020_120021.csv: File loaded successfully!!\n",
      "[2022-11-03 21:39:07,983: INFO: data_ingestion_training]:  cement_strength_08012020_120021.csv: File loaded successfully!!\n",
      "[2022-11-03 21:39:07,989: INFO: data_ingestion_training]:  cement_strength_08012020_120021.csv: File loaded successfully!!\n",
      "[2022-11-03 21:39:07,997: INFO: data_ingestion_training]:  cement_strength_08012020_120021.csv: File loaded successfully!!\n",
      "[2022-11-03 21:39:08,005: INFO: data_ingestion_training]:  cement_strength_08012020_120021.csv: File loaded successfully!!\n",
      "[2022-11-03 21:39:08,013: INFO: data_ingestion_training]:  cement_strength_08012020_120021.csv: File loaded successfully!!\n",
      "[2022-11-03 21:39:08,022: INFO: data_ingestion_training]:  cement_strength_08012020_120021.csv: File loaded successfully!!\n",
      "[2022-11-03 21:39:08,029: INFO: data_ingestion_training]:  cement_strength_08012020_120021.csv: File loaded successfully!!\n",
      "[2022-11-03 21:39:08,038: INFO: data_ingestion_training]:  cement_strength_08012020_120021.csv: File loaded successfully!!\n",
      "[2022-11-03 21:39:08,057: INFO: data_ingestion_training]:  cement_strength_08012020_120021.csv: File loaded successfully!!\n",
      "[2022-11-03 21:39:08,065: INFO: data_ingestion_training]:  cement_strength_08012020_120021.csv: File loaded successfully!!\n",
      "[2022-11-03 21:39:08,076: INFO: data_ingestion_training]:  cement_strength_08012020_120021.csv: File loaded successfully!!\n",
      "[2022-11-03 21:39:08,084: INFO: data_ingestion_training]:  cement_strength_08012020_120021.csv: File loaded successfully!!\n",
      "[2022-11-03 21:39:08,092: INFO: data_ingestion_training]:  cement_strength_08012020_120021.csv: File loaded successfully!!\n",
      "[2022-11-03 21:39:08,099: INFO: data_ingestion_training]:  cement_strength_08012020_120021.csv: File loaded successfully!!\n",
      "[2022-11-03 21:39:08,106: INFO: data_ingestion_training]:  cement_strength_08012020_120021.csv: File loaded successfully!!\n",
      "[2022-11-03 21:39:08,113: INFO: data_ingestion_training]:  cement_strength_08012020_120021.csv: File loaded successfully!!\n",
      "[2022-11-03 21:39:08,120: INFO: data_ingestion_training]:  cement_strength_08012020_120021.csv: File loaded successfully!!\n",
      "[2022-11-03 21:39:08,127: INFO: data_ingestion_training]:  cement_strength_08012020_120021.csv: File loaded successfully!!\n",
      "[2022-11-03 21:39:08,133: INFO: data_ingestion_training]:  cement_strength_08012020_120021.csv: File loaded successfully!!\n",
      "[2022-11-03 21:39:08,142: INFO: data_ingestion_training]:  cement_strength_08012020_120021.csv: File loaded successfully!!\n",
      "[2022-11-03 21:39:08,149: INFO: data_ingestion_training]:  cement_strength_08012020_120021.csv: File loaded successfully!!\n",
      "[2022-11-03 21:39:08,155: INFO: data_ingestion_training]:  cement_strength_08012020_120021.csv: File loaded successfully!!\n",
      "[2022-11-03 21:39:08,162: INFO: data_ingestion_training]:  cement_strength_08012020_120021.csv: File loaded successfully!!\n",
      "[2022-11-03 21:39:08,172: INFO: data_ingestion_training]:  cement_strength_08012020_120021.csv: File loaded successfully!!\n",
      "[2022-11-03 21:39:08,180: INFO: data_ingestion_training]:  cement_strength_08012020_120021.csv: File loaded successfully!!\n",
      "[2022-11-03 21:39:08,188: INFO: data_ingestion_training]:  cement_strength_08012020_120021.csv: File loaded successfully!!\n",
      "[2022-11-03 21:39:08,197: INFO: data_ingestion_training]:  cement_strength_08012020_120021.csv: File loaded successfully!!\n",
      "[2022-11-03 21:39:08,210: INFO: data_ingestion_training]:  cement_strength_08012020_120021.csv: File loaded successfully!!\n",
      "[2022-11-03 21:39:08,217: INFO: data_ingestion_training]:  cement_strength_08012020_120021.csv: File loaded successfully!!\n",
      "[2022-11-03 21:39:08,224: INFO: data_ingestion_training]:  cement_strength_08012020_120021.csv: File loaded successfully!!\n",
      "[2022-11-03 21:39:08,237: INFO: data_ingestion_training]:  cement_strength_08012020_120021.csv: File loaded successfully!!\n",
      "[2022-11-03 21:39:08,249: INFO: data_ingestion_training]:  cement_strength_08012020_120021.csv: File loaded successfully!!\n",
      "[2022-11-03 21:39:08,260: INFO: data_ingestion_training]:  cement_strength_08012020_120021.csv: File loaded successfully!!\n",
      "[2022-11-03 21:39:08,271: INFO: data_ingestion_training]:  cement_strength_08012020_120021.csv: File loaded successfully!!\n",
      "[2022-11-03 21:39:08,281: INFO: data_ingestion_training]:  cement_strength_08012020_120021.csv: File loaded successfully!!\n",
      "[2022-11-03 21:39:08,287: INFO: data_ingestion_training]:  cement_strength_08012020_120021.csv: File loaded successfully!!\n",
      "[2022-11-03 21:39:08,294: INFO: data_ingestion_training]:  cement_strength_08012020_120021.csv: File loaded successfully!!\n",
      "[2022-11-03 21:39:08,302: INFO: data_ingestion_training]:  cement_strength_08012020_120021.csv: File loaded successfully!!\n",
      "[2022-11-03 21:39:08,313: INFO: data_ingestion_training]:  cement_strength_08012020_120021.csv: File loaded successfully!!\n",
      "[2022-11-03 21:39:08,321: INFO: data_ingestion_training]:  cement_strength_08012020_120021.csv: File loaded successfully!!\n",
      "[2022-11-03 21:39:08,329: INFO: data_ingestion_training]:  cement_strength_08012020_120021.csv: File loaded successfully!!\n",
      "[2022-11-03 21:39:08,337: INFO: data_ingestion_training]:  cement_strength_08012020_120021.csv: File loaded successfully!!\n",
      "[2022-11-03 21:39:08,345: INFO: data_ingestion_training]:  cement_strength_08012020_120021.csv: File loaded successfully!!\n",
      "[2022-11-03 21:39:08,355: INFO: data_ingestion_training]:  cement_strength_08012020_120021.csv: File loaded successfully!!\n",
      "[2022-11-03 21:39:08,362: INFO: data_ingestion_training]:  cement_strength_08012020_120021.csv: File loaded successfully!!\n",
      "[2022-11-03 21:39:08,372: INFO: data_ingestion_training]:  cement_strength_08012020_120021.csv: File loaded successfully!!\n",
      "[2022-11-03 21:39:08,379: INFO: data_ingestion_training]:  cement_strength_08012020_120021.csv: File loaded successfully!!\n",
      "[2022-11-03 21:39:08,387: INFO: data_ingestion_training]:  cement_strength_08012020_120021.csv: File loaded successfully!!\n",
      "[2022-11-03 21:39:08,394: INFO: data_ingestion_training]:  cement_strength_08012020_120021.csv: File loaded successfully!!\n",
      "[2022-11-03 21:39:08,400: INFO: data_ingestion_training]:  cement_strength_08012020_120021.csv: File loaded successfully!!\n",
      "[2022-11-03 21:39:08,408: INFO: data_ingestion_training]:  cement_strength_08012020_120021.csv: File loaded successfully!!\n",
      "[2022-11-03 21:39:08,419: INFO: data_ingestion_training]:  cement_strength_08012020_120021.csv: File loaded successfully!!\n",
      "[2022-11-03 21:39:08,428: INFO: data_ingestion_training]:  cement_strength_08012020_120021.csv: File loaded successfully!!\n",
      "[2022-11-03 21:39:08,435: INFO: data_ingestion_training]:  cement_strength_08012020_120021.csv: File loaded successfully!!\n",
      "[2022-11-03 21:39:08,444: INFO: data_ingestion_training]:  cement_strength_08012020_120021.csv: File loaded successfully!!\n",
      "[2022-11-03 21:39:08,455: INFO: data_ingestion_training]:  cement_strength_08012020_120021.csv: File loaded successfully!!\n",
      "[2022-11-03 21:39:08,465: INFO: data_ingestion_training]:  cement_strength_08012020_120021.csv: File loaded successfully!!\n",
      "[2022-11-03 21:39:08,473: INFO: data_ingestion_training]:  cement_strength_08012020_120021.csv: File loaded successfully!!\n",
      "[2022-11-03 21:39:08,482: INFO: data_ingestion_training]:  cement_strength_08012020_120021.csv: File loaded successfully!!\n",
      "[2022-11-03 21:39:08,490: INFO: data_ingestion_training]:  cement_strength_08012020_120021.csv: File loaded successfully!!\n",
      "[2022-11-03 21:39:08,497: INFO: data_ingestion_training]:  cement_strength_08012020_120021.csv: File loaded successfully!!\n",
      "[2022-11-03 21:39:08,503: INFO: data_ingestion_training]:  cement_strength_08012020_120021.csv: File loaded successfully!!\n",
      "[2022-11-03 21:39:08,509: INFO: data_ingestion_training]:  cement_strength_08012020_120021.csv: File loaded successfully!!\n",
      "[2022-11-03 21:39:08,515: INFO: data_ingestion_training]:  cement_strength_08012020_120021.csv: File loaded successfully!!\n",
      "[2022-11-03 21:39:08,521: INFO: data_ingestion_training]:  cement_strength_08012020_120021.csv: File loaded successfully!!\n",
      "[2022-11-03 21:39:08,538: INFO: data_ingestion_training]:  cement_strength_08012020_120021.csv: File loaded successfully!!\n",
      "[2022-11-03 21:39:08,544: INFO: data_ingestion_training]:  cement_strength_08012020_120021.csv: File loaded successfully!!\n",
      "[2022-11-03 21:39:08,552: INFO: data_ingestion_training]:  cement_strength_08012020_120021.csv: File loaded successfully!!\n",
      "[2022-11-03 21:39:08,564: INFO: data_ingestion_training]:  cement_strength_08012020_120021.csv: File loaded successfully!!\n",
      "[2022-11-03 21:39:08,570: INFO: data_ingestion_training]:  cement_strength_08012020_120021.csv: File loaded successfully!!\n",
      "[2022-11-03 21:39:08,579: INFO: data_ingestion_training]:  cement_strength_08012020_120021.csv: File loaded successfully!!\n",
      "[2022-11-03 21:39:08,587: INFO: data_ingestion_training]:  cement_strength_08012020_120021.csv: File loaded successfully!!\n",
      "[2022-11-03 21:39:08,597: INFO: data_ingestion_training]:  cement_strength_08012020_120021.csv: File loaded successfully!!\n",
      "[2022-11-03 21:39:08,604: INFO: data_ingestion_training]:  cement_strength_08012020_120021.csv: File loaded successfully!!\n",
      "[2022-11-03 21:39:08,610: INFO: data_ingestion_training]:  cement_strength_08012020_120021.csv: File loaded successfully!!\n",
      "[2022-11-03 21:39:08,616: INFO: data_ingestion_training]:  cement_strength_08012020_120021.csv: File loaded successfully!!\n",
      "[2022-11-03 21:39:08,624: INFO: data_ingestion_training]:  cement_strength_08012020_120021.csv: File loaded successfully!!\n",
      "[2022-11-03 21:39:08,634: INFO: data_ingestion_training]:  cement_strength_08012020_120021.csv: File loaded successfully!!\n",
      "[2022-11-03 21:39:08,648: INFO: data_ingestion_training]:  cement_strength_08012020_120021.csv: File loaded successfully!!\n",
      "[2022-11-03 21:39:08,655: INFO: data_ingestion_training]:  cement_strength_08012020_120021.csv: File loaded successfully!!\n",
      "[2022-11-03 21:39:08,662: INFO: data_ingestion_training]:  cement_strength_08012020_120021.csv: File loaded successfully!!\n",
      "[2022-11-03 21:39:08,668: INFO: data_ingestion_training]:  cement_strength_08012020_120021.csv: File loaded successfully!!\n",
      "[2022-11-03 21:39:08,675: INFO: data_ingestion_training]:  cement_strength_08012020_120021.csv: File loaded successfully!!\n",
      "[2022-11-03 21:39:08,683: INFO: data_ingestion_training]:  cement_strength_08012020_120021.csv: File loaded successfully!!\n",
      "[2022-11-03 21:39:08,691: INFO: data_ingestion_training]:  cement_strength_08012020_120021.csv: File loaded successfully!!\n",
      "[2022-11-03 21:39:08,698: INFO: data_ingestion_training]:  cement_strength_08012020_120021.csv: File loaded successfully!!\n",
      "[2022-11-03 21:39:08,705: INFO: data_ingestion_training]:  cement_strength_08012020_120021.csv: File loaded successfully!!\n",
      "[2022-11-03 21:39:08,711: INFO: data_ingestion_training]:  cement_strength_08012020_120021.csv: File loaded successfully!!\n",
      "[2022-11-03 21:39:08,717: INFO: data_ingestion_training]:  cement_strength_08012020_120021.csv: File loaded successfully!!\n",
      "[2022-11-03 21:39:08,725: INFO: data_ingestion_training]:  cement_strength_08012020_120021.csv: File loaded successfully!!\n",
      "[2022-11-03 21:39:08,732: INFO: data_ingestion_training]:  cement_strength_08012020_120021.csv: File loaded successfully!!\n",
      "[2022-11-03 21:39:08,740: INFO: data_ingestion_training]:  cement_strength_08012020_120021.csv: File loaded successfully!!\n",
      "[2022-11-03 21:39:08,748: INFO: data_ingestion_training]:  cement_strength_08012020_120021.csv: File loaded successfully!!\n",
      "[2022-11-03 21:39:08,758: INFO: data_ingestion_training]:  cement_strength_08012020_120021.csv: File loaded successfully!!\n",
      "[2022-11-03 21:39:08,767: INFO: data_ingestion_training]:  cement_strength_08012020_120021.csv: File loaded successfully!!\n",
      "[2022-11-03 21:39:08,778: INFO: data_ingestion_training]:  cement_strength_08012020_120021.csv: File loaded successfully!!\n",
      "[2022-11-03 21:39:08,787: INFO: data_ingestion_training]:  cement_strength_08012020_120021.csv: File loaded successfully!!\n",
      "[2022-11-03 21:39:08,800: INFO: data_ingestion_training]:  cement_strength_08012020_120021.csv: File loaded successfully!!\n",
      "[2022-11-03 21:39:08,809: INFO: data_ingestion_training]:  cement_strength_08012020_120021.csv: File loaded successfully!!\n",
      "[2022-11-03 21:39:08,816: INFO: data_ingestion_training]:  cement_strength_08012020_120021.csv: File loaded successfully!!\n",
      "[2022-11-03 21:39:08,823: INFO: data_ingestion_training]:  cement_strength_08012020_120021.csv: File loaded successfully!!\n",
      "[2022-11-03 21:39:08,832: INFO: data_ingestion_training]:  cement_strength_08012020_120021.csv: File loaded successfully!!\n",
      "[2022-11-03 21:39:08,840: INFO: data_ingestion_training]:  cement_strength_08012020_120021.csv: File loaded successfully!!\n",
      "[2022-11-03 21:39:08,847: INFO: data_ingestion_training]:  cement_strength_08012020_120021.csv: File loaded successfully!!\n",
      "[2022-11-03 21:39:08,854: INFO: data_ingestion_training]:  cement_strength_08012020_120021.csv: File loaded successfully!!\n",
      "[2022-11-03 21:39:08,863: INFO: data_ingestion_training]:  cement_strength_08012020_120021.csv: File loaded successfully!!\n",
      "[2022-11-03 21:39:08,870: INFO: data_ingestion_training]:  cement_strength_08012020_120021.csv: File loaded successfully!!\n",
      "[2022-11-03 21:39:08,876: INFO: data_ingestion_training]:  cement_strength_08012020_120021.csv: File loaded successfully!!\n",
      "[2022-11-03 21:39:08,884: INFO: data_ingestion_training]:  cement_strength_08012020_120021.csv: File loaded successfully!!\n",
      "[2022-11-03 21:39:08,891: INFO: data_ingestion_training]:  cement_strength_08012020_120021.csv: File loaded successfully!!\n",
      "[2022-11-03 21:39:08,898: INFO: data_ingestion_training]:  cement_strength_08012020_120021.csv: File loaded successfully!!\n",
      "[2022-11-03 21:39:08,906: INFO: data_ingestion_training]:  cement_strength_08012020_120021.csv: File loaded successfully!!\n",
      "[2022-11-03 21:39:08,915: INFO: data_ingestion_training]:  cement_strength_08012020_120021.csv: File loaded successfully!!\n",
      "[2022-11-03 21:39:08,923: INFO: data_ingestion_training]:  cement_strength_08012020_120021.csv: File loaded successfully!!\n",
      "[2022-11-03 21:39:08,931: INFO: data_ingestion_training]:  cement_strength_08012020_120021.csv: File loaded successfully!!\n",
      "[2022-11-03 21:39:08,938: INFO: data_ingestion_training]:  cement_strength_08012020_120021.csv: File loaded successfully!!\n",
      "[2022-11-03 21:39:08,945: INFO: data_ingestion_training]:  cement_strength_08012020_120021.csv: File loaded successfully!!\n",
      "[2022-11-03 21:39:08,952: INFO: data_ingestion_training]:  cement_strength_08012020_120021.csv: File loaded successfully!!\n",
      "[2022-11-03 21:39:08,960: INFO: data_ingestion_training]:  cement_strength_08012020_120021.csv: File loaded successfully!!\n",
      "[2022-11-03 21:39:08,967: INFO: data_ingestion_training]:  cement_strength_08012020_120021.csv: File loaded successfully!!\n",
      "[2022-11-03 21:39:08,977: INFO: data_ingestion_training]:  cement_strength_08012020_120021.csv: File loaded successfully!!\n",
      "[2022-11-03 21:39:08,988: INFO: data_ingestion_training]:  cement_strength_08012020_120021.csv: File loaded successfully!!\n",
      "[2022-11-03 21:39:08,998: INFO: data_ingestion_training]:  cement_strength_08012020_120021.csv: File loaded successfully!!\n",
      "[2022-11-03 21:39:09,008: INFO: data_ingestion_training]:  cement_strength_08012020_120021.csv: File loaded successfully!!\n",
      "[2022-11-03 21:39:09,017: INFO: data_ingestion_training]:  cement_strength_08012020_120021.csv: File loaded successfully!!\n",
      "[2022-11-03 21:39:09,026: INFO: data_ingestion_training]:  cement_strength_08012020_120021.csv: File loaded successfully!!\n",
      "[2022-11-03 21:39:09,037: INFO: data_ingestion_training]:  cement_strength_08012020_120021.csv: File loaded successfully!!\n",
      "[2022-11-03 21:39:09,046: INFO: data_ingestion_training]:  cement_strength_08012020_120021.csv: File loaded successfully!!\n",
      "[2022-11-03 21:39:09,057: INFO: data_ingestion_training]:  cement_strength_08012020_120021.csv: File loaded successfully!!\n",
      "[2022-11-03 21:39:09,066: INFO: data_ingestion_training]:  cement_strength_08012020_120021.csv: File loaded successfully!!\n",
      "[2022-11-03 21:39:09,074: INFO: data_ingestion_training]:  cement_strength_08012020_120021.csv: File loaded successfully!!\n",
      "[2022-11-03 21:39:09,080: INFO: data_ingestion_training]:  cement_strength_08012020_120021.csv: File loaded successfully!!\n",
      "[2022-11-03 21:39:09,087: INFO: data_ingestion_training]:  cement_strength_08012020_120021.csv: File loaded successfully!!\n",
      "[2022-11-03 21:39:09,093: INFO: data_ingestion_training]:  cement_strength_08012020_120021.csv: File loaded successfully!!\n",
      "[2022-11-03 21:39:09,100: INFO: data_ingestion_training]:  cement_strength_08012020_120021.csv: File loaded successfully!!\n",
      "[2022-11-03 21:39:09,109: INFO: data_ingestion_training]:  cement_strength_08012020_120021.csv: File loaded successfully!!\n",
      "[2022-11-03 21:39:09,116: INFO: data_ingestion_training]:  cement_strength_08012020_120021.csv: File loaded successfully!!\n",
      "[2022-11-03 21:39:09,126: INFO: data_ingestion_training]:  cement_strength_08012020_120021.csv: File loaded successfully!!\n",
      "[2022-11-03 21:39:09,136: INFO: data_ingestion_training]:  cement_strength_08012020_120021.csv: File loaded successfully!!\n",
      "[2022-11-03 21:39:09,144: INFO: data_ingestion_training]:  cement_strength_08012020_120021.csv: File loaded successfully!!\n",
      "[2022-11-03 21:39:09,154: INFO: data_ingestion_training]:  cement_strength_08012020_120021.csv: File loaded successfully!!\n",
      "[2022-11-03 21:39:09,163: INFO: data_ingestion_training]:  cement_strength_08012020_120021.csv: File loaded successfully!!\n",
      "[2022-11-03 21:39:09,172: INFO: data_ingestion_training]:  cement_strength_08012020_120021.csv: File loaded successfully!!\n",
      "[2022-11-03 21:39:09,180: INFO: data_ingestion_training]:  cement_strength_08012020_120021.csv: File loaded successfully!!\n",
      "[2022-11-03 21:39:09,190: INFO: data_ingestion_training]:  cement_strength_08012020_120021.csv: File loaded successfully!!\n",
      "[2022-11-03 21:39:09,198: INFO: data_ingestion_training]:  cement_strength_08012020_120021.csv: File loaded successfully!!\n",
      "[2022-11-03 21:39:09,206: INFO: data_ingestion_training]:  cement_strength_08012020_120021.csv: File loaded successfully!!\n",
      "[2022-11-03 21:39:09,217: INFO: data_ingestion_training]:  cement_strength_08012020_120021.csv: File loaded successfully!!\n",
      "[2022-11-03 21:39:09,225: INFO: data_ingestion_training]:  cement_strength_08012020_120021.csv: File loaded successfully!!\n",
      "[2022-11-03 21:39:09,234: INFO: data_ingestion_training]:  cement_strength_08012020_120021.csv: File loaded successfully!!\n",
      "[2022-11-03 21:39:09,245: INFO: data_ingestion_training]:  cement_strength_08012020_120021.csv: File loaded successfully!!\n",
      "[2022-11-03 21:39:09,253: INFO: data_ingestion_training]:  cement_strength_08012020_120021.csv: File loaded successfully!!\n",
      "[2022-11-03 21:39:09,262: INFO: data_ingestion_training]:  cement_strength_08012020_120021.csv: File loaded successfully!!\n",
      "[2022-11-03 21:39:09,270: INFO: data_ingestion_training]:  cement_strength_08012020_120021.csv: File loaded successfully!!\n",
      "[2022-11-03 21:39:09,282: INFO: data_ingestion_training]:  cement_strength_08012020_120021.csv: File loaded successfully!!\n",
      "[2022-11-03 21:39:09,294: INFO: data_ingestion_training]:  cement_strength_08012020_120021.csv: File loaded successfully!!\n",
      "[2022-11-03 21:39:09,308: INFO: data_ingestion_training]:  cement_strength_08012020_120021.csv: File loaded successfully!!\n",
      "[2022-11-03 21:39:09,321: INFO: data_ingestion_training]:  cement_strength_08012020_120021.csv: File loaded successfully!!\n",
      "[2022-11-03 21:39:09,335: INFO: data_ingestion_training]:  cement_strength_08012020_120021.csv: File loaded successfully!!\n",
      "[2022-11-03 21:39:09,345: INFO: data_ingestion_training]:  cement_strength_08012020_120021.csv: File loaded successfully!!\n",
      "[2022-11-03 21:39:09,354: INFO: data_ingestion_training]:  cement_strength_08012020_120021.csv: File loaded successfully!!\n",
      "[2022-11-03 21:39:09,361: INFO: data_ingestion_training]:  cement_strength_08012020_120021.csv: File loaded successfully!!\n",
      "[2022-11-03 21:39:09,368: INFO: data_ingestion_training]:  cement_strength_08012020_120021.csv: File loaded successfully!!\n",
      "[2022-11-03 21:39:09,375: INFO: data_ingestion_training]:  cement_strength_08012020_120021.csv: File loaded successfully!!\n",
      "[2022-11-03 21:39:09,383: INFO: data_ingestion_training]:  cement_strength_08012020_120021.csv: File loaded successfully!!\n",
      "[2022-11-03 21:39:09,392: INFO: data_ingestion_training]:  cement_strength_08012020_120021.csv: File loaded successfully!!\n",
      "[2022-11-03 21:39:09,400: INFO: data_ingestion_training]:  cement_strength_08012020_120021.csv: File loaded successfully!!\n",
      "[2022-11-03 21:39:09,410: INFO: data_ingestion_training]:  cement_strength_08012020_120021.csv: File loaded successfully!!\n",
      "[2022-11-03 21:39:09,419: INFO: data_ingestion_training]:  cement_strength_08012020_120021.csv: File loaded successfully!!\n",
      "[2022-11-03 21:39:09,427: INFO: data_ingestion_training]:  cement_strength_08012020_120021.csv: File loaded successfully!!\n",
      "[2022-11-03 21:39:09,441: INFO: data_ingestion_training]:  cement_strength_08012020_120021.csv: File loaded successfully!!\n",
      "[2022-11-03 21:39:09,453: INFO: data_ingestion_training]:  cement_strength_08012020_120021.csv: File loaded successfully!!\n",
      "[2022-11-03 21:39:09,467: INFO: data_ingestion_training]:  cement_strength_08012020_120021.csv: File loaded successfully!!\n",
      "[2022-11-03 21:39:09,484: INFO: data_ingestion_training]:  cement_strength_08012020_120021.csv: File loaded successfully!!\n",
      "[2022-11-03 21:39:09,497: INFO: data_ingestion_training]:  cement_strength_08012020_120021.csv: File loaded successfully!!\n",
      "[2022-11-03 21:39:09,511: INFO: data_ingestion_training]:  cement_strength_08012020_120021.csv: File loaded successfully!!\n",
      "[2022-11-03 21:39:09,523: INFO: data_ingestion_training]:  cement_strength_08012020_120021.csv: File loaded successfully!!\n",
      "[2022-11-03 21:39:09,533: INFO: data_ingestion_training]:  cement_strength_08012020_120021.csv: File loaded successfully!!\n",
      "[2022-11-03 21:39:09,541: INFO: data_ingestion_training]:  cement_strength_08012020_120021.csv: File loaded successfully!!\n",
      "[2022-11-03 21:39:09,550: INFO: data_ingestion_training]:  cement_strength_08012020_120021.csv: File loaded successfully!!\n",
      "[2022-11-03 21:39:09,561: INFO: data_ingestion_training]:  cement_strength_08012020_120021.csv: File loaded successfully!!\n",
      "[2022-11-03 21:39:09,571: INFO: data_ingestion_training]:  cement_strength_08012020_120021.csv: File loaded successfully!!\n",
      "[2022-11-03 21:39:09,579: INFO: data_ingestion_training]:  cement_strength_08012020_120021.csv: File loaded successfully!!\n",
      "[2022-11-03 21:39:09,586: INFO: data_ingestion_training]:  cement_strength_08012020_120021.csv: File loaded successfully!!\n",
      "[2022-11-03 21:39:09,598: INFO: data_ingestion_training]:  cement_strength_08012020_120021.csv: File loaded successfully!!\n",
      "[2022-11-03 21:39:09,609: INFO: data_ingestion_training]:  cement_strength_08012020_120021.csv: File loaded successfully!!\n",
      "[2022-11-03 21:39:09,621: INFO: data_ingestion_training]:  cement_strength_08012020_120021.csv: File loaded successfully!!\n",
      "[2022-11-03 21:39:09,632: INFO: data_ingestion_training]:  cement_strength_08012020_120021.csv: File loaded successfully!!\n",
      "[2022-11-03 21:39:09,641: INFO: data_ingestion_training]:  cement_strength_08012020_120021.csv: File loaded successfully!!\n",
      "[2022-11-03 21:39:09,647: INFO: data_ingestion_training]:  cement_strength_08012020_120021.csv: File loaded successfully!!\n",
      "[2022-11-03 21:39:09,654: INFO: data_ingestion_training]:  cement_strength_08012020_120021.csv: File loaded successfully!!\n",
      "[2022-11-03 21:39:09,662: INFO: data_ingestion_training]:  cement_strength_08012020_120021.csv: File loaded successfully!!\n",
      "[2022-11-03 21:39:09,670: INFO: data_ingestion_training]:  cement_strength_08012020_120021.csv: File loaded successfully!!\n",
      "[2022-11-03 21:39:09,680: INFO: data_ingestion_training]:  cement_strength_08012020_120021.csv: File loaded successfully!!\n",
      "[2022-11-03 21:39:09,690: INFO: data_ingestion_training]:  cement_strength_08012020_120021.csv: File loaded successfully!!\n",
      "[2022-11-03 21:39:09,698: INFO: data_ingestion_training]:  cement_strength_08012020_120021.csv: File loaded successfully!!\n",
      "[2022-11-03 21:39:09,706: INFO: data_ingestion_training]:  cement_strength_08012020_120021.csv: File loaded successfully!!\n",
      "[2022-11-03 21:39:09,714: INFO: data_ingestion_training]:  cement_strength_08012020_120021.csv: File loaded successfully!!\n",
      "[2022-11-03 21:39:09,722: INFO: data_ingestion_training]:  cement_strength_08012020_120021.csv: File loaded successfully!!\n",
      "[2022-11-03 21:39:09,728: INFO: data_ingestion_training]:  cement_strength_08012020_120021.csv: File loaded successfully!!\n",
      "[2022-11-03 21:39:09,735: INFO: data_ingestion_training]:  cement_strength_08012020_120021.csv: File loaded successfully!!\n",
      "[2022-11-03 21:39:09,743: INFO: data_ingestion_training]:  cement_strength_08012020_120021.csv: File loaded successfully!!\n",
      "[2022-11-03 21:39:09,751: INFO: data_ingestion_training]:  cement_strength_08012020_120021.csv: File loaded successfully!!\n",
      "[2022-11-03 21:39:09,761: INFO: data_ingestion_training]:  cement_strength_08012020_120021.csv: File loaded successfully!!\n",
      "[2022-11-03 21:39:09,771: INFO: data_ingestion_training]:  cement_strength_08012020_120021.csv: File loaded successfully!!\n",
      "[2022-11-03 21:39:09,780: INFO: data_ingestion_training]:  cement_strength_08012020_120021.csv: File loaded successfully!!\n",
      "[2022-11-03 21:39:09,789: INFO: data_ingestion_training]:  cement_strength_08012020_120021.csv: File loaded successfully!!\n",
      "[2022-11-03 21:39:09,800: INFO: data_ingestion_training]:  cement_strength_08012020_120021.csv: File loaded successfully!!\n",
      "[2022-11-03 21:39:09,807: INFO: data_ingestion_training]:  cement_strength_08012020_120021.csv: File loaded successfully!!\n",
      "[2022-11-03 21:39:09,814: INFO: data_ingestion_training]:  cement_strength_08012020_120021.csv: File loaded successfully!!\n",
      "[2022-11-03 21:39:09,822: INFO: data_ingestion_training]:  cement_strength_08012020_120021.csv: File loaded successfully!!\n",
      "[2022-11-03 21:39:09,828: INFO: data_ingestion_training]:  cement_strength_08012020_120021.csv: File loaded successfully!!\n",
      "[2022-11-03 21:39:09,835: INFO: data_ingestion_training]:  cement_strength_08012020_120021.csv: File loaded successfully!!\n",
      "[2022-11-03 21:39:09,841: INFO: data_ingestion_training]:  cement_strength_08012020_120021.csv: File loaded successfully!!\n",
      "[2022-11-03 21:39:09,849: INFO: data_ingestion_training]:  cement_strength_08012020_120021.csv: File loaded successfully!!\n",
      "[2022-11-03 21:39:09,856: INFO: data_ingestion_training]:  cement_strength_08012020_120021.csv: File loaded successfully!!\n",
      "[2022-11-03 21:39:09,864: INFO: data_ingestion_training]:  cement_strength_08012020_120021.csv: File loaded successfully!!\n",
      "[2022-11-03 21:39:09,875: INFO: data_ingestion_training]:  cement_strength_08012020_120021.csv: File loaded successfully!!\n",
      "[2022-11-03 21:39:09,885: INFO: data_ingestion_training]:  cement_strength_08012020_120021.csv: File loaded successfully!!\n",
      "[2022-11-03 21:39:09,893: INFO: data_ingestion_training]:  cement_strength_08012020_120021.csv: File loaded successfully!!\n",
      "[2022-11-03 21:39:09,903: INFO: data_ingestion_training]:  cement_strength_08012020_120021.csv: File loaded successfully!!\n",
      "[2022-11-03 21:39:09,912: INFO: data_ingestion_training]:  cement_strength_08012020_120021.csv: File loaded successfully!!\n",
      "[2022-11-03 21:39:09,920: INFO: data_ingestion_training]:  cement_strength_08012020_120021.csv: File loaded successfully!!\n",
      "[2022-11-03 21:39:09,928: INFO: data_ingestion_training]:  cement_strength_08012020_120021.csv: File loaded successfully!!\n",
      "[2022-11-03 21:39:09,938: INFO: data_ingestion_training]:  cement_strength_08012020_120021.csv: File loaded successfully!!\n",
      "[2022-11-03 21:39:09,947: INFO: data_ingestion_training]:  cement_strength_08012020_120021.csv: File loaded successfully!!\n",
      "[2022-11-03 21:39:09,956: INFO: data_ingestion_training]:  cement_strength_08012020_120021.csv: File loaded successfully!!\n",
      "[2022-11-03 21:39:09,966: INFO: data_ingestion_training]:  cement_strength_08012020_120021.csv: File loaded successfully!!\n",
      "[2022-11-03 21:39:09,974: INFO: data_ingestion_training]:  cement_strength_08012020_120021.csv: File loaded successfully!!\n",
      "[2022-11-03 21:39:09,982: INFO: data_ingestion_training]:  cement_strength_08012020_120021.csv: File loaded successfully!!\n",
      "[2022-11-03 21:39:09,992: INFO: data_ingestion_training]:  cement_strength_08012020_120021.csv: File loaded successfully!!\n",
      "[2022-11-03 21:39:10,001: INFO: data_ingestion_training]:  cement_strength_08012020_120021.csv: File loaded successfully!!\n",
      "[2022-11-03 21:39:10,011: INFO: data_ingestion_training]:  cement_strength_08012020_120021.csv: File loaded successfully!!\n",
      "[2022-11-03 21:39:10,021: INFO: data_ingestion_training]:  cement_strength_08012020_120021.csv: File loaded successfully!!\n",
      "[2022-11-03 21:39:10,030: INFO: data_ingestion_training]:  cement_strength_08012020_120021.csv: File loaded successfully!!\n",
      "[2022-11-03 21:39:10,038: INFO: data_ingestion_training]:  cement_strength_08012020_120021.csv: File loaded successfully!!\n",
      "[2022-11-03 21:39:10,048: INFO: data_ingestion_training]:  cement_strength_08012020_120021.csv: File loaded successfully!!\n",
      "[2022-11-03 21:39:10,056: INFO: data_ingestion_training]:  cement_strength_08012020_120021.csv: File loaded successfully!!\n",
      "[2022-11-03 21:39:10,066: INFO: data_ingestion_training]:  cement_strength_08012020_120021.csv: File loaded successfully!!\n",
      "[2022-11-03 21:39:10,076: INFO: data_ingestion_training]:  cement_strength_08012020_120021.csv: File loaded successfully!!\n",
      "[2022-11-03 21:39:10,086: INFO: data_ingestion_training]:  cement_strength_08012020_120021.csv: File loaded successfully!!\n",
      "[2022-11-03 21:39:10,098: INFO: data_ingestion_training]:  cement_strength_08012020_120021.csv: File loaded successfully!!\n",
      "[2022-11-03 21:39:10,107: INFO: data_ingestion_training]:  cement_strength_08012020_120021.csv: File loaded successfully!!\n",
      "[2022-11-03 21:39:10,117: INFO: data_ingestion_training]:  cement_strength_08012020_120021.csv: File loaded successfully!!\n",
      "[2022-11-03 21:39:10,125: INFO: data_ingestion_training]:  cement_strength_08012020_120021.csv: File loaded successfully!!\n",
      "[2022-11-03 21:39:10,132: INFO: data_ingestion_training]:  cement_strength_08012020_120021.csv: File loaded successfully!!\n",
      "[2022-11-03 21:39:10,139: INFO: data_ingestion_training]:  cement_strength_08012020_120021.csv: File loaded successfully!!\n",
      "[2022-11-03 21:39:10,147: INFO: data_ingestion_training]:  cement_strength_08012020_120021.csv: File loaded successfully!!\n",
      "[2022-11-03 21:39:10,153: INFO: data_ingestion_training]:  cement_strength_08012020_120021.csv: File loaded successfully!!\n",
      "[2022-11-03 21:39:10,160: INFO: data_ingestion_training]:  cement_strength_08012020_120021.csv: File loaded successfully!!\n",
      "[2022-11-03 21:39:10,167: INFO: data_ingestion_training]:  cement_strength_08012020_120021.csv: File loaded successfully!!\n",
      "[2022-11-03 21:39:10,173: INFO: data_ingestion_training]:  cement_strength_08012020_120021.csv: File loaded successfully!!\n",
      "[2022-11-03 21:39:10,180: INFO: data_ingestion_training]:  cement_strength_08012020_120021.csv: File loaded successfully!!\n",
      "[2022-11-03 21:39:10,187: INFO: data_ingestion_training]:  cement_strength_08012020_120021.csv: File loaded successfully!!\n",
      "[2022-11-03 21:39:10,193: INFO: data_ingestion_training]:  cement_strength_08012020_120021.csv: File loaded successfully!!\n",
      "[2022-11-03 21:39:10,201: INFO: data_ingestion_training]:  cement_strength_08012020_120021.csv: File loaded successfully!!\n",
      "[2022-11-03 21:39:10,209: INFO: data_ingestion_training]:  cement_strength_08012020_120021.csv: File loaded successfully!!\n",
      "[2022-11-03 21:39:10,216: INFO: data_ingestion_training]:  cement_strength_08012020_120021.csv: File loaded successfully!!\n",
      "[2022-11-03 21:39:10,223: INFO: data_ingestion_training]:  cement_strength_08012020_120021.csv: File loaded successfully!!\n",
      "[2022-11-03 21:39:10,229: INFO: data_ingestion_training]:  cement_strength_08012020_120021.csv: File loaded successfully!!\n",
      "[2022-11-03 21:39:10,236: INFO: data_ingestion_training]:  cement_strength_08012020_120021.csv: File loaded successfully!!\n",
      "[2022-11-03 21:39:10,243: INFO: data_ingestion_training]:  cement_strength_08012020_120021.csv: File loaded successfully!!\n",
      "[2022-11-03 21:39:10,250: INFO: data_ingestion_training]:  cement_strength_08012020_120021.csv: File loaded successfully!!\n",
      "[2022-11-03 21:39:10,257: INFO: data_ingestion_training]:  cement_strength_08012020_120021.csv: File loaded successfully!!\n",
      "[2022-11-03 21:39:10,264: INFO: data_ingestion_training]:  cement_strength_08012020_120021.csv: File loaded successfully!!\n",
      "[2022-11-03 21:39:10,271: INFO: data_ingestion_training]:  cement_strength_08012020_120021.csv: File loaded successfully!!\n",
      "[2022-11-03 21:39:10,278: INFO: data_ingestion_training]:  cement_strength_08012020_120021.csv: File loaded successfully!!\n",
      "[2022-11-03 21:39:10,284: INFO: data_ingestion_training]:  cement_strength_08012020_120021.csv: File loaded successfully!!\n",
      "[2022-11-03 21:39:10,291: INFO: data_ingestion_training]:  cement_strength_08012020_120021.csv: File loaded successfully!!\n",
      "[2022-11-03 21:39:10,298: INFO: data_ingestion_training]:  cement_strength_08012020_120021.csv: File loaded successfully!!\n",
      "[2022-11-03 21:39:10,306: INFO: data_ingestion_training]:  cement_strength_08012020_120021.csv: File loaded successfully!!\n",
      "[2022-11-03 21:39:10,314: INFO: data_ingestion_training]:  cement_strength_08012020_120021.csv: File loaded successfully!!\n",
      "[2022-11-03 21:39:10,321: INFO: data_ingestion_training]:  cement_strength_08012020_120021.csv: File loaded successfully!!\n",
      "[2022-11-03 21:39:10,327: INFO: data_ingestion_training]:  cement_strength_08012020_120021.csv: File loaded successfully!!\n",
      "[2022-11-03 21:39:10,333: INFO: data_ingestion_training]:  cement_strength_08012020_120021.csv: File loaded successfully!!\n",
      "[2022-11-03 21:39:10,340: INFO: data_ingestion_training]:  cement_strength_08012020_120021.csv: File loaded successfully!!\n",
      "[2022-11-03 21:39:10,347: INFO: data_ingestion_training]:  cement_strength_08012020_120021.csv: File loaded successfully!!\n",
      "[2022-11-03 21:39:10,354: INFO: data_ingestion_training]:  cement_strength_08012020_120021.csv: File loaded successfully!!\n",
      "[2022-11-03 21:39:10,362: INFO: data_ingestion_training]:  cement_strength_08012020_120021.csv: File loaded successfully!!\n",
      "[2022-11-03 21:39:10,369: INFO: data_ingestion_training]:  cement_strength_08012020_120021.csv: File loaded successfully!!\n",
      "[2022-11-03 21:39:10,375: INFO: data_ingestion_training]:  cement_strength_08012020_120021.csv: File loaded successfully!!\n",
      "[2022-11-03 21:39:10,382: INFO: data_ingestion_training]:  cement_strength_08012020_120021.csv: File loaded successfully!!\n",
      "[2022-11-03 21:39:10,389: INFO: data_ingestion_training]:  cement_strength_08012020_120021.csv: File loaded successfully!!\n",
      "[2022-11-03 21:39:10,396: INFO: data_ingestion_training]:  cement_strength_08012020_120021.csv: File loaded successfully!!\n",
      "[2022-11-03 21:39:10,402: INFO: data_ingestion_training]:  cement_strength_08012020_120021.csv: File loaded successfully!!\n",
      "[2022-11-03 21:39:10,409: INFO: data_ingestion_training]:  cement_strength_08012020_120021.csv: File loaded successfully!!\n",
      "[2022-11-03 21:39:10,416: INFO: data_ingestion_training]:  cement_strength_08012020_120021.csv: File loaded successfully!!\n",
      "[2022-11-03 21:39:10,424: INFO: data_ingestion_training]:  cement_strength_08012020_120021.csv: File loaded successfully!!\n",
      "[2022-11-03 21:39:10,430: INFO: data_ingestion_training]:  cement_strength_08012020_120021.csv: File loaded successfully!!\n",
      "[2022-11-03 21:39:10,437: INFO: data_ingestion_training]:  cement_strength_08012020_120021.csv: File loaded successfully!!\n",
      "[2022-11-03 21:39:10,444: INFO: data_ingestion_training]:  cement_strength_08012020_120021.csv: File loaded successfully!!\n",
      "[2022-11-03 21:39:10,454: INFO: data_ingestion_training]:  cement_strength_08012020_120021.csv: File loaded successfully!!\n",
      "[2022-11-03 21:39:10,464: INFO: data_ingestion_training]:  cement_strength_08012020_120021.csv: File loaded successfully!!\n",
      "[2022-11-03 21:39:10,471: INFO: data_ingestion_training]:  cement_strength_08012020_120021.csv: File loaded successfully!!\n",
      "[2022-11-03 21:39:10,478: INFO: data_ingestion_training]:  cement_strength_08012020_120021.csv: File loaded successfully!!\n",
      "[2022-11-03 21:39:10,485: INFO: data_ingestion_training]:  cement_strength_08012020_120021.csv: File loaded successfully!!\n",
      "[2022-11-03 21:39:10,492: INFO: data_ingestion_training]:  cement_strength_08012020_120021.csv: File loaded successfully!!\n",
      "[2022-11-03 21:39:10,499: INFO: data_ingestion_training]:  cement_strength_08012020_120021.csv: File loaded successfully!!\n",
      "[2022-11-03 21:39:10,506: INFO: data_ingestion_training]:  cement_strength_08012020_120021.csv: File loaded successfully!!\n",
      "[2022-11-03 21:39:10,514: INFO: data_ingestion_training]:  cement_strength_08012020_120021.csv: File loaded successfully!!\n",
      "[2022-11-03 21:39:10,522: INFO: data_ingestion_training]:  cement_strength_08012020_120021.csv: File loaded successfully!!\n",
      "[2022-11-03 21:39:10,529: INFO: data_ingestion_training]:  cement_strength_08012020_120021.csv: File loaded successfully!!\n",
      "[2022-11-03 21:39:10,535: INFO: data_ingestion_training]:  cement_strength_08012020_120021.csv: File loaded successfully!!\n",
      "[2022-11-03 21:39:10,542: INFO: data_ingestion_training]:  cement_strength_08012020_120021.csv: File loaded successfully!!\n",
      "[2022-11-03 21:39:10,549: INFO: data_ingestion_training]:  cement_strength_08012020_120021.csv: File loaded successfully!!\n",
      "[2022-11-03 21:39:10,555: INFO: data_ingestion_training]:  cement_strength_08012020_120021.csv: File loaded successfully!!\n",
      "[2022-11-03 21:39:10,563: INFO: data_ingestion_training]:  cement_strength_08012020_120021.csv: File loaded successfully!!\n",
      "[2022-11-03 21:39:10,570: INFO: data_ingestion_training]:  cement_strength_08012020_120021.csv: File loaded successfully!!\n",
      "[2022-11-03 21:39:10,577: INFO: data_ingestion_training]:  cement_strength_08012020_120021.csv: File loaded successfully!!\n",
      "[2022-11-03 21:39:10,584: INFO: data_ingestion_training]:  cement_strength_08012020_120021.csv: File loaded successfully!!\n",
      "[2022-11-03 21:39:10,590: INFO: data_ingestion_training]:  cement_strength_08012020_120021.csv: File loaded successfully!!\n",
      "[2022-11-03 21:39:10,597: INFO: data_ingestion_training]:  cement_strength_08012020_120021.csv: File loaded successfully!!\n",
      "[2022-11-03 21:39:10,604: INFO: data_ingestion_training]:  cement_strength_08012020_120021.csv: File loaded successfully!!\n",
      "[2022-11-03 21:39:10,611: INFO: data_ingestion_training]:  cement_strength_08012020_120021.csv: File loaded successfully!!\n",
      "[2022-11-03 21:39:10,625: INFO: data_ingestion_training]:  cement_strength_08012020_120021.csv: File loaded successfully!!\n",
      "[2022-11-03 21:39:10,632: INFO: data_ingestion_training]:  cement_strength_08012020_120021.csv: File loaded successfully!!\n",
      "[2022-11-03 21:39:10,639: INFO: data_ingestion_training]:  cement_strength_08012020_120021.csv: File loaded successfully!!\n",
      "[2022-11-03 21:39:10,647: INFO: data_ingestion_training]:  cement_strength_08012020_120021.csv: File loaded successfully!!\n",
      "[2022-11-03 21:39:10,654: INFO: data_ingestion_training]:  cement_strength_08012020_120021.csv: File loaded successfully!!\n",
      "[2022-11-03 21:39:10,661: INFO: data_ingestion_training]:  cement_strength_08012020_120021.csv: File loaded successfully!!\n",
      "[2022-11-03 21:39:10,667: INFO: data_ingestion_training]:  cement_strength_08012020_120021.csv: File loaded successfully!!\n",
      "[2022-11-03 21:39:10,674: INFO: data_ingestion_training]:  cement_strength_08012020_120021.csv: File loaded successfully!!\n",
      "[2022-11-03 21:39:10,683: INFO: data_ingestion_training]:  cement_strength_08012020_120021.csv: File loaded successfully!!\n",
      "[2022-11-03 21:39:10,692: INFO: data_ingestion_training]:  cement_strength_08012020_120021.csv: File loaded successfully!!\n",
      "[2022-11-03 21:39:10,700: INFO: data_ingestion_training]:  cement_strength_08012020_120021.csv: File loaded successfully!!\n",
      "[2022-11-03 21:39:10,708: INFO: data_ingestion_training]:  cement_strength_08012020_120021.csv: File loaded successfully!!\n",
      "[2022-11-03 21:39:10,714: INFO: data_ingestion_training]:  cement_strength_08012020_120021.csv: File loaded successfully!!\n",
      "[2022-11-03 21:39:10,722: INFO: data_ingestion_training]:  cement_strength_08012020_120021.csv: File loaded successfully!!\n",
      "[2022-11-03 21:39:10,728: INFO: data_ingestion_training]:  cement_strength_08012020_120021.csv: File loaded successfully!!\n",
      "[2022-11-03 21:39:10,736: INFO: data_ingestion_training]:  cement_strength_08012020_120021.csv: File loaded successfully!!\n",
      "[2022-11-03 21:39:10,743: INFO: data_ingestion_training]:  cement_strength_08012020_120021.csv: File loaded successfully!!\n",
      "[2022-11-03 21:39:10,751: INFO: data_ingestion_training]:  cement_strength_08012020_120021.csv: File loaded successfully!!\n",
      "[2022-11-03 21:39:10,759: INFO: data_ingestion_training]:  cement_strength_08012020_120021.csv: File loaded successfully!!\n",
      "[2022-11-03 21:39:10,769: INFO: data_ingestion_training]:  cement_strength_08012020_120021.csv: File loaded successfully!!\n",
      "[2022-11-03 21:39:10,777: INFO: data_ingestion_training]:  cement_strength_08012020_120021.csv: File loaded successfully!!\n",
      "[2022-11-03 21:39:10,784: INFO: data_ingestion_training]:  cement_strength_08012020_120021.csv: File loaded successfully!!\n",
      "[2022-11-03 21:39:10,794: INFO: data_ingestion_training]:  cement_strength_08012020_120021.csv: File loaded successfully!!\n",
      "[2022-11-03 21:39:10,802: INFO: data_ingestion_training]:  cement_strength_08012020_120021.csv: File loaded successfully!!\n",
      "[2022-11-03 21:39:10,809: INFO: data_ingestion_training]:  cement_strength_08012020_120021.csv: File loaded successfully!!\n",
      "[2022-11-03 21:39:10,817: INFO: data_ingestion_training]:  cement_strength_08012020_120021.csv: File loaded successfully!!\n",
      "[2022-11-03 21:39:10,826: INFO: data_ingestion_training]:  cement_strength_08012020_120021.csv: File loaded successfully!!\n",
      "[2022-11-03 21:39:10,833: INFO: data_ingestion_training]:  cement_strength_08012020_120021.csv: File loaded successfully!!\n",
      "[2022-11-03 21:39:10,841: INFO: data_ingestion_training]:  cement_strength_08012020_120021.csv: File loaded successfully!!\n",
      "[2022-11-03 21:39:10,848: INFO: data_ingestion_training]:  cement_strength_08012020_120021.csv: File loaded successfully!!\n",
      "[2022-11-03 21:39:10,856: INFO: data_ingestion_training]:  cement_strength_08012020_120021.csv: File loaded successfully!!\n",
      "[2022-11-03 21:39:10,865: INFO: data_ingestion_training]:  cement_strength_08012020_120021.csv: File loaded successfully!!\n",
      "[2022-11-03 21:39:10,873: INFO: data_ingestion_training]:  cement_strength_08012020_120021.csv: File loaded successfully!!\n",
      "[2022-11-03 21:39:10,881: INFO: data_ingestion_training]:  cement_strength_08012020_120021.csv: File loaded successfully!!\n",
      "[2022-11-03 21:39:10,888: INFO: data_ingestion_training]:  cement_strength_08012020_120021.csv: File loaded successfully!!\n",
      "[2022-11-03 21:39:10,895: INFO: data_ingestion_training]:  cement_strength_08012020_120021.csv: File loaded successfully!!\n",
      "[2022-11-03 21:39:10,901: INFO: data_ingestion_training]:  cement_strength_08012020_120021.csv: File loaded successfully!!\n",
      "[2022-11-03 21:39:10,908: INFO: data_ingestion_training]:  cement_strength_08012020_120021.csv: File loaded successfully!!\n",
      "[2022-11-03 21:39:10,916: INFO: data_ingestion_training]:  cement_strength_08012020_120021.csv: File loaded successfully!!\n",
      "[2022-11-03 21:39:10,922: INFO: data_ingestion_training]:  cement_strength_08012020_120021.csv: File loaded successfully!!\n",
      "[2022-11-03 21:39:10,929: INFO: data_ingestion_training]:  cement_strength_08012020_120021.csv: File loaded successfully!!\n",
      "[2022-11-03 21:39:10,936: INFO: data_ingestion_training]:  cement_strength_08012020_120021.csv: File loaded successfully!!\n",
      "[2022-11-03 21:39:10,943: INFO: data_ingestion_training]:  cement_strength_08012020_120021.csv: File loaded successfully!!\n",
      "[2022-11-03 21:39:10,950: INFO: data_ingestion_training]:  cement_strength_08012020_120021.csv: File loaded successfully!!\n",
      "[2022-11-03 21:39:10,957: INFO: data_ingestion_training]:  cement_strength_08012020_120021.csv: File loaded successfully!!\n",
      "[2022-11-03 21:39:10,972: INFO: data_ingestion_training]:  cement_strength_08012020_120021.csv: File loaded successfully!!\n",
      "[2022-11-03 21:39:10,982: INFO: data_ingestion_training]:  cement_strength_08012020_120021.csv: File loaded successfully!!\n",
      "[2022-11-03 21:39:10,988: INFO: data_ingestion_training]:  cement_strength_08012020_120021.csv: File loaded successfully!!\n",
      "[2022-11-03 21:39:10,995: INFO: data_ingestion_training]:  cement_strength_08012020_120021.csv: File loaded successfully!!\n",
      "[2022-11-03 21:39:11,002: INFO: data_ingestion_training]:  cement_strength_08012020_120021.csv: File loaded successfully!!\n",
      "[2022-11-03 21:39:11,009: INFO: data_ingestion_training]:  cement_strength_08012020_120021.csv: File loaded successfully!!\n",
      "[2022-11-03 21:39:11,015: INFO: data_ingestion_training]:  cement_strength_08012020_120021.csv: File loaded successfully!!\n",
      "[2022-11-03 21:39:11,023: INFO: data_ingestion_training]:  cement_strength_08012020_120021.csv: File loaded successfully!!\n",
      "[2022-11-03 21:39:11,033: INFO: data_ingestion_training]:  cement_strength_08012020_120021.csv: File loaded successfully!!\n",
      "[2022-11-03 21:39:11,040: INFO: data_ingestion_training]:  cement_strength_08012020_120021.csv: File loaded successfully!!\n",
      "[2022-11-03 21:39:11,048: INFO: data_ingestion_training]:  cement_strength_08012020_120021.csv: File loaded successfully!!\n",
      "[2022-11-03 21:39:11,056: INFO: data_ingestion_training]:  cement_strength_08012020_120021.csv: File loaded successfully!!\n",
      "[2022-11-03 21:39:11,063: INFO: data_ingestion_training]:  cement_strength_08012020_120021.csv: File loaded successfully!!\n",
      "[2022-11-03 21:39:11,072: INFO: data_ingestion_training]:  cement_strength_08012020_120021.csv: File loaded successfully!!\n",
      "[2022-11-03 21:39:11,083: INFO: data_ingestion_training]:  cement_strength_08012020_120021.csv: File loaded successfully!!\n",
      "[2022-11-03 21:39:11,097: INFO: data_ingestion_training]:  cement_strength_08012020_120021.csv: File loaded successfully!!\n",
      "[2022-11-03 21:39:11,107: INFO: data_ingestion_training]:  cement_strength_08012020_120021.csv: File loaded successfully!!\n",
      "[2022-11-03 21:39:11,115: INFO: data_ingestion_training]:  cement_strength_08012020_120021.csv: File loaded successfully!!\n",
      "[2022-11-03 21:39:11,134: INFO: data_ingestion_training]:  cement_strength_08012020_120021.csv: File loaded successfully!!\n",
      "[2022-11-03 21:39:11,144: INFO: data_ingestion_training]:  cement_strength_08012020_120021.csv: File loaded successfully!!\n",
      "[2022-11-03 21:39:11,152: INFO: data_ingestion_training]:  cement_strength_08012020_120021.csv: File loaded successfully!!\n",
      "[2022-11-03 21:39:11,160: INFO: data_ingestion_training]:  cement_strength_08012020_120021.csv: File loaded successfully!!\n",
      "[2022-11-03 21:39:11,167: INFO: data_ingestion_training]:  cement_strength_08012020_120021.csv: File loaded successfully!!\n",
      "[2022-11-03 21:39:11,175: INFO: data_ingestion_training]:  cement_strength_08012020_120021.csv: File loaded successfully!!\n",
      "[2022-11-03 21:39:11,182: INFO: data_ingestion_training]:  cement_strength_08012020_120021.csv: File loaded successfully!!\n",
      "[2022-11-03 21:39:11,195: INFO: data_ingestion_training]:  cement_strength_08012020_120021.csv: File loaded successfully!!\n",
      "[2022-11-03 21:39:11,203: INFO: data_ingestion_training]:  cement_strength_08012020_120021.csv: File loaded successfully!!\n",
      "[2022-11-03 21:39:11,211: INFO: data_ingestion_training]:  cement_strength_08012020_120021.csv: File loaded successfully!!\n",
      "[2022-11-03 21:39:11,219: INFO: data_ingestion_training]:  cement_strength_08012020_120021.csv: File loaded successfully!!\n",
      "[2022-11-03 21:39:11,228: INFO: data_ingestion_training]:  cement_strength_08012020_120021.csv: File loaded successfully!!\n",
      "[2022-11-03 21:39:11,236: INFO: data_ingestion_training]:  cement_strength_08012020_120021.csv: File loaded successfully!!\n",
      "[2022-11-03 21:39:11,243: INFO: data_ingestion_training]:  cement_strength_08012020_120021.csv: File loaded successfully!!\n",
      "[2022-11-03 21:39:11,250: INFO: data_ingestion_training]:  cement_strength_08012020_120021.csv: File loaded successfully!!\n",
      "[2022-11-03 21:39:11,257: INFO: data_ingestion_training]:  cement_strength_08012020_120021.csv: File loaded successfully!!\n",
      "[2022-11-03 21:39:11,264: INFO: data_ingestion_training]:  cement_strength_08012020_120021.csv: File loaded successfully!!\n",
      "[2022-11-03 21:39:11,270: INFO: data_ingestion_training]:  cement_strength_08012020_120021.csv: File loaded successfully!!\n",
      "[2022-11-03 21:39:11,277: INFO: data_ingestion_training]:  cement_strength_08012020_120021.csv: File loaded successfully!!\n",
      "[2022-11-03 21:39:11,285: INFO: data_ingestion_training]:  cement_strength_08012020_120021.csv: File loaded successfully!!\n",
      "[2022-11-03 21:39:11,292: INFO: data_ingestion_training]:  cement_strength_08012020_120021.csv: File loaded successfully!!\n",
      "[2022-11-03 21:39:11,299: INFO: data_ingestion_training]:  cement_strength_08012020_120021.csv: File loaded successfully!!\n",
      "[2022-11-03 21:39:11,307: INFO: data_ingestion_training]:  cement_strength_08012020_120021.csv: File loaded successfully!!\n",
      "[2022-11-03 21:39:11,314: INFO: data_ingestion_training]:  cement_strength_08012020_120021.csv: File loaded successfully!!\n",
      "[2022-11-03 21:39:11,321: INFO: data_ingestion_training]:  cement_strength_08012020_120021.csv: File loaded successfully!!\n",
      "[2022-11-03 21:39:11,329: INFO: data_ingestion_training]:  cement_strength_08012020_120021.csv: File loaded successfully!!\n",
      "[2022-11-03 21:39:11,336: INFO: data_ingestion_training]:  cement_strength_08012020_120021.csv: File loaded successfully!!\n",
      "[2022-11-03 21:39:11,344: INFO: data_ingestion_training]:  cement_strength_08012020_120021.csv: File loaded successfully!!\n",
      "[2022-11-03 21:39:11,352: INFO: data_ingestion_training]:  cement_strength_08012020_120021.csv: File loaded successfully!!\n",
      "[2022-11-03 21:39:11,361: INFO: data_ingestion_training]:  cement_strength_08012020_120021.csv: File loaded successfully!!\n",
      "[2022-11-03 21:39:11,369: INFO: data_ingestion_training]:  cement_strength_08012020_120021.csv: File loaded successfully!!\n",
      "[2022-11-03 21:39:11,376: INFO: data_ingestion_training]:  cement_strength_08012020_120021.csv: File loaded successfully!!\n",
      "[2022-11-03 21:39:11,384: INFO: data_ingestion_training]:  cement_strength_08012020_120021.csv: File loaded successfully!!\n",
      "[2022-11-03 21:39:11,392: INFO: data_ingestion_training]:  cement_strength_08012020_120021.csv: File loaded successfully!!\n",
      "[2022-11-03 21:39:11,401: INFO: data_ingestion_training]:  cement_strength_08012020_120021.csv: File loaded successfully!!\n",
      "[2022-11-03 21:39:11,410: INFO: data_ingestion_training]:  cement_strength_08012020_120021.csv: File loaded successfully!!\n",
      "[2022-11-03 21:39:11,417: INFO: data_ingestion_training]:  cement_strength_08012020_120021.csv: File loaded successfully!!\n",
      "[2022-11-03 21:39:11,424: INFO: data_ingestion_training]:  cement_strength_08012020_120021.csv: File loaded successfully!!\n",
      "[2022-11-03 21:39:11,432: INFO: data_ingestion_training]:  cement_strength_08012020_120021.csv: File loaded successfully!!\n",
      "[2022-11-03 21:39:11,445: INFO: data_ingestion_training]:  cement_strength_08012020_120021.csv: File loaded successfully!!\n",
      "[2022-11-03 21:39:11,452: INFO: data_ingestion_training]:  cement_strength_08012020_120021.csv: File loaded successfully!!\n",
      "[2022-11-03 21:39:11,459: INFO: data_ingestion_training]:  cement_strength_08012020_120021.csv: File loaded successfully!!\n",
      "[2022-11-03 21:39:11,468: INFO: data_ingestion_training]:  cement_strength_08012020_120021.csv: File loaded successfully!!\n",
      "[2022-11-03 21:39:11,475: INFO: data_ingestion_training]:  cement_strength_08012020_120021.csv: File loaded successfully!!\n",
      "[2022-11-03 21:39:11,485: INFO: data_ingestion_training]:  cement_strength_08012020_120021.csv: File loaded successfully!!\n",
      "[2022-11-03 21:39:11,495: INFO: data_ingestion_training]:  cement_strength_08012020_120021.csv: File loaded successfully!!\n",
      "[2022-11-03 21:39:11,505: INFO: data_ingestion_training]:  cement_strength_08012020_120021.csv: File loaded successfully!!\n",
      "[2022-11-03 21:39:11,515: INFO: data_ingestion_training]:  cement_strength_08012020_120021.csv: File loaded successfully!!\n",
      "[2022-11-03 21:39:11,523: INFO: data_ingestion_training]:  cement_strength_08012020_120021.csv: File loaded successfully!!\n",
      "[2022-11-03 21:39:11,534: INFO: data_ingestion_training]:  cement_strength_08012020_120021.csv: File loaded successfully!!\n",
      "[2022-11-03 21:39:11,544: INFO: data_ingestion_training]:  cement_strength_08012020_120021.csv: File loaded successfully!!\n",
      "[2022-11-03 21:39:11,554: INFO: data_ingestion_training]:  cement_strength_08012020_120021.csv: File loaded successfully!!\n",
      "[2022-11-03 21:39:11,564: INFO: data_ingestion_training]:  cement_strength_08012020_120021.csv: File loaded successfully!!\n",
      "[2022-11-03 21:39:11,571: INFO: data_ingestion_training]:  cement_strength_08012020_120021.csv: File loaded successfully!!\n",
      "[2022-11-03 21:39:11,581: INFO: data_ingestion_training]:  cement_strength_08012020_120021.csv: File loaded successfully!!\n",
      "[2022-11-03 21:39:11,591: INFO: data_ingestion_training]:  cement_strength_08012020_120021.csv: File loaded successfully!!\n",
      "[2022-11-03 21:39:11,601: INFO: data_ingestion_training]:  cement_strength_08012020_120021.csv: File loaded successfully!!\n",
      "[2022-11-03 21:39:11,610: INFO: data_ingestion_training]:  cement_strength_08012020_120021.csv: File loaded successfully!!\n",
      "[2022-11-03 21:39:11,617: INFO: data_ingestion_training]:  cement_strength_08012020_120021.csv: File loaded successfully!!\n",
      "[2022-11-03 21:39:11,624: INFO: data_ingestion_training]:  cement_strength_08012020_120021.csv: File loaded successfully!!\n",
      "[2022-11-03 21:39:11,633: INFO: data_ingestion_training]:  cement_strength_08012020_120021.csv: File loaded successfully!!\n",
      "[2022-11-03 21:39:11,646: INFO: data_ingestion_training]:  cement_strength_08012020_120021.csv: File loaded successfully!!\n",
      "[2022-11-03 21:39:11,655: INFO: data_ingestion_training]:  cement_strength_08012020_120021.csv: File loaded successfully!!\n",
      "[2022-11-03 21:39:11,674: INFO: data_ingestion_training]:  cement_strength_08012020_120021.csv: File loaded successfully!!\n",
      "[2022-11-03 21:39:11,685: INFO: data_ingestion_training]:  cement_strength_08012020_120021.csv: File loaded successfully!!\n",
      "[2022-11-03 21:39:11,694: INFO: data_ingestion_training]:  cement_strength_08012020_120021.csv: File loaded successfully!!\n",
      "[2022-11-03 21:39:11,702: INFO: data_ingestion_training]:  cement_strength_08012020_120021.csv: File loaded successfully!!\n",
      "[2022-11-03 21:39:11,710: INFO: data_ingestion_training]:  cement_strength_08012020_120021.csv: File loaded successfully!!\n",
      "[2022-11-03 21:39:11,717: INFO: data_ingestion_training]:  cement_strength_08012020_120021.csv: File loaded successfully!!\n",
      "[2022-11-03 21:39:11,727: INFO: data_ingestion_training]:  cement_strength_08012020_120021.csv: File loaded successfully!!\n",
      "[2022-11-03 21:39:11,736: INFO: data_ingestion_training]:  cement_strength_08012020_120021.csv: File loaded successfully!!\n",
      "[2022-11-03 21:39:11,745: INFO: data_ingestion_training]:  cement_strength_08012020_120021.csv: File loaded successfully!!\n",
      "[2022-11-03 21:39:11,753: INFO: data_ingestion_training]:  cement_strength_08012020_120021.csv: File loaded successfully!!\n",
      "[2022-11-03 21:39:11,763: INFO: data_ingestion_training]:  cement_strength_08012020_120021.csv: File loaded successfully!!\n",
      "[2022-11-03 21:39:11,772: INFO: data_ingestion_training]:  cement_strength_08012020_120021.csv: File loaded successfully!!\n",
      "[2022-11-03 21:39:11,779: INFO: data_ingestion_training]:  cement_strength_08012020_120021.csv: File loaded successfully!!\n",
      "[2022-11-03 21:39:11,787: INFO: data_ingestion_training]:  cement_strength_08012020_120021.csv: File loaded successfully!!\n",
      "[2022-11-03 21:39:11,796: INFO: data_ingestion_training]:  cement_strength_08012020_120021.csv: File loaded successfully!!\n",
      "[2022-11-03 21:39:11,805: INFO: data_ingestion_training]:  cement_strength_08012020_120021.csv: File loaded successfully!!\n",
      "[2022-11-03 21:39:11,812: INFO: data_ingestion_training]:  cement_strength_08012020_120021.csv: File loaded successfully!!\n",
      "[2022-11-03 21:39:11,819: INFO: data_ingestion_training]:  cement_strength_08012020_120021.csv: File loaded successfully!!\n",
      "[2022-11-03 21:39:11,825: INFO: data_ingestion_training]:  cement_strength_08012020_120021.csv: File loaded successfully!!\n",
      "[2022-11-03 21:39:11,833: INFO: data_ingestion_training]:  cement_strength_08012020_120021.csv: File loaded successfully!!\n",
      "[2022-11-03 21:39:11,840: INFO: data_ingestion_training]:  cement_strength_08012020_120021.csv: File loaded successfully!!\n",
      "[2022-11-03 21:39:11,848: INFO: data_ingestion_training]:  cement_strength_08012020_120021.csv: File loaded successfully!!\n",
      "[2022-11-03 21:39:11,856: INFO: data_ingestion_training]:  cement_strength_08012020_120021.csv: File loaded successfully!!\n",
      "[2022-11-03 21:39:11,865: INFO: data_ingestion_training]:  cement_strength_08012020_120021.csv: File loaded successfully!!\n",
      "[2022-11-03 21:39:11,872: INFO: data_ingestion_training]:  cement_strength_08012020_120021.csv: File loaded successfully!!\n",
      "[2022-11-03 21:39:11,879: INFO: data_ingestion_training]:  cement_strength_08012020_120021.csv: File loaded successfully!!\n",
      "[2022-11-03 21:39:11,886: INFO: data_ingestion_training]:  cement_strength_08012020_120021.csv: File loaded successfully!!\n",
      "[2022-11-03 21:39:11,894: INFO: data_ingestion_training]:  cement_strength_08012020_120021.csv: File loaded successfully!!\n",
      "[2022-11-03 21:39:11,902: INFO: data_ingestion_training]:  cement_strength_08012020_120021.csv: File loaded successfully!!\n",
      "[2022-11-03 21:39:11,909: INFO: data_ingestion_training]:  cement_strength_08012020_120021.csv: File loaded successfully!!\n",
      "[2022-11-03 21:39:11,917: INFO: data_ingestion_training]:  cement_strength_08012020_120021.csv: File loaded successfully!!\n",
      "[2022-11-03 21:39:11,925: INFO: data_ingestion_training]:  cement_strength_08012020_120021.csv: File loaded successfully!!\n",
      "[2022-11-03 21:39:11,937: INFO: data_ingestion_training]:  cement_strength_08012020_120021.csv: File loaded successfully!!\n",
      "[2022-11-03 21:39:11,945: INFO: data_ingestion_training]:  cement_strength_08012020_120021.csv: File loaded successfully!!\n",
      "[2022-11-03 21:39:11,956: INFO: data_ingestion_training]:  cement_strength_08012020_120021.csv: File loaded successfully!!\n",
      "[2022-11-03 21:39:11,971: INFO: data_ingestion_training]:  cement_strength_08012020_120021.csv: File loaded successfully!!\n",
      "[2022-11-03 21:39:11,979: INFO: data_ingestion_training]:  cement_strength_08012020_120021.csv: File loaded successfully!!\n",
      "[2022-11-03 21:39:11,986: INFO: data_ingestion_training]:  cement_strength_08012020_120021.csv: File loaded successfully!!\n",
      "[2022-11-03 21:39:11,996: INFO: data_ingestion_training]:  cement_strength_08012020_120021.csv: File loaded successfully!!\n",
      "[2022-11-03 21:39:12,004: INFO: data_ingestion_training]:  cement_strength_08012020_120021.csv: File loaded successfully!!\n",
      "[2022-11-03 21:39:12,013: INFO: data_ingestion_training]:  cement_strength_08012020_120021.csv: File loaded successfully!!\n",
      "[2022-11-03 21:39:12,022: INFO: data_ingestion_training]:  cement_strength_08012020_120021.csv: File loaded successfully!!\n",
      "[2022-11-03 21:39:12,030: INFO: data_ingestion_training]:  cement_strength_08012020_120021.csv: File loaded successfully!!\n",
      "[2022-11-03 21:39:12,041: INFO: data_ingestion_training]:  cement_strength_08012020_120021.csv: File loaded successfully!!\n",
      "[2022-11-03 21:39:12,049: INFO: data_ingestion_training]:  cement_strength_08012020_120021.csv: File loaded successfully!!\n",
      "[2022-11-03 21:39:12,057: INFO: data_ingestion_training]:  cement_strength_08012020_120021.csv: File loaded successfully!!\n",
      "[2022-11-03 21:39:12,069: INFO: data_ingestion_training]:  cement_strength_08012020_120021.csv: File loaded successfully!!\n",
      "[2022-11-03 21:39:12,076: INFO: data_ingestion_training]:  cement_strength_08012020_120021.csv: File loaded successfully!!\n",
      "[2022-11-03 21:39:12,084: INFO: data_ingestion_training]:  cement_strength_08012020_120021.csv: File loaded successfully!!\n",
      "[2022-11-03 21:39:12,092: INFO: data_ingestion_training]:  cement_strength_08012020_120021.csv: File loaded successfully!!\n",
      "[2022-11-03 21:39:12,102: INFO: data_ingestion_training]:  cement_strength_08012020_120021.csv: File loaded successfully!!\n",
      "[2022-11-03 21:39:12,110: INFO: data_ingestion_training]:  cement_strength_08012020_120021.csv: File loaded successfully!!\n",
      "[2022-11-03 21:39:12,118: INFO: data_ingestion_training]:  cement_strength_08012020_120021.csv: File loaded successfully!!\n",
      "[2022-11-03 21:39:12,125: INFO: data_ingestion_training]:  cement_strength_08012020_120021.csv: File loaded successfully!!\n",
      "[2022-11-03 21:39:12,132: INFO: data_ingestion_training]:  cement_strength_08012020_120021.csv: File loaded successfully!!\n",
      "[2022-11-03 21:39:12,139: INFO: data_ingestion_training]:  cement_strength_08012020_120021.csv: File loaded successfully!!\n",
      "[2022-11-03 21:39:12,146: INFO: data_ingestion_training]:  cement_strength_08012020_120021.csv: File loaded successfully!!\n",
      "[2022-11-03 21:39:12,155: INFO: data_ingestion_training]:  cement_strength_08012020_120021.csv: File loaded successfully!!\n",
      "[2022-11-03 21:39:12,166: INFO: data_ingestion_training]:  cement_strength_08012020_120021.csv: File loaded successfully!!\n",
      "[2022-11-03 21:39:12,175: INFO: data_ingestion_training]:  cement_strength_08012020_120021.csv: File loaded successfully!!\n",
      "[2022-11-03 21:39:12,185: INFO: data_ingestion_training]:  cement_strength_08012020_120021.csv: File loaded successfully!!\n",
      "[2022-11-03 21:39:12,195: INFO: data_ingestion_training]:  cement_strength_08012020_120021.csv: File loaded successfully!!\n",
      "[2022-11-03 21:39:12,205: INFO: data_ingestion_training]:  cement_strength_08012020_120021.csv: File loaded successfully!!\n",
      "[2022-11-03 21:39:12,215: INFO: data_ingestion_training]:  cement_strength_08012020_120021.csv: File loaded successfully!!\n",
      "[2022-11-03 21:39:12,229: INFO: data_ingestion_training]:  cement_strength_08012020_120021.csv: File loaded successfully!!\n",
      "[2022-11-03 21:39:12,239: INFO: data_ingestion_training]:  cement_strength_08012020_120021.csv: File loaded successfully!!\n",
      "[2022-11-03 21:39:12,250: INFO: data_ingestion_training]:  cement_strength_08012020_120021.csv: File loaded successfully!!\n",
      "[2022-11-03 21:39:12,258: INFO: data_ingestion_training]:  cement_strength_08012020_120021.csv: File loaded successfully!!\n",
      "[2022-11-03 21:39:12,268: INFO: data_ingestion_training]:  cement_strength_08012020_120021.csv: File loaded successfully!!\n",
      "[2022-11-03 21:39:12,277: INFO: data_ingestion_training]:  cement_strength_08012020_120021.csv: File loaded successfully!!\n",
      "[2022-11-03 21:39:12,287: INFO: data_ingestion_training]:  cement_strength_08012020_120021.csv: File loaded successfully!!\n",
      "[2022-11-03 21:39:12,296: INFO: data_ingestion_training]:  cement_strength_08012020_120021.csv: File loaded successfully!!\n",
      "[2022-11-03 21:39:12,316: INFO: data_ingestion_training]:  cement_strength_08012020_120021.csv: File loaded successfully!!\n",
      "[2022-11-03 21:39:12,326: INFO: data_ingestion_training]:  cement_strength_08012020_120021.csv: File loaded successfully!!\n",
      "[2022-11-03 21:39:12,334: INFO: data_ingestion_training]:  cement_strength_08012020_120021.csv: File loaded successfully!!\n",
      "[2022-11-03 21:39:12,343: INFO: data_ingestion_training]:  cement_strength_08012020_120021.csv: File loaded successfully!!\n",
      "[2022-11-03 21:39:12,353: INFO: data_ingestion_training]:  cement_strength_08012020_120021.csv: File loaded successfully!!\n",
      "[2022-11-03 21:39:12,361: INFO: data_ingestion_training]:  cement_strength_08012020_120021.csv: File loaded successfully!!\n",
      "[2022-11-03 21:39:12,370: INFO: data_ingestion_training]:  cement_strength_08012020_120021.csv: File loaded successfully!!\n",
      "[2022-11-03 21:39:12,378: INFO: data_ingestion_training]:  cement_strength_08012020_120021.csv: File loaded successfully!!\n",
      "[2022-11-03 21:39:12,386: INFO: data_ingestion_training]:  cement_strength_08012020_120021.csv: File loaded successfully!!\n",
      "[2022-11-03 21:39:12,394: INFO: data_ingestion_training]:  cement_strength_08012020_120021.csv: File loaded successfully!!\n",
      "[2022-11-03 21:39:12,403: INFO: data_ingestion_training]:  cement_strength_08012020_120021.csv: File loaded successfully!!\n",
      "[2022-11-03 21:39:12,414: INFO: data_ingestion_training]:  cement_strength_08012020_120021.csv: File loaded successfully!!\n",
      "[2022-11-03 21:39:12,422: INFO: data_ingestion_training]:  cement_strength_08012020_120021.csv: File loaded successfully!!\n",
      "[2022-11-03 21:39:12,429: INFO: data_ingestion_training]:  cement_strength_08012020_120021.csv: File loaded successfully!!\n",
      "[2022-11-03 21:39:12,436: INFO: data_ingestion_training]:  cement_strength_08012020_120021.csv: File loaded successfully!!\n",
      "[2022-11-03 21:39:12,443: INFO: data_ingestion_training]:  cement_strength_08012020_120021.csv: File loaded successfully!!\n",
      "[2022-11-03 21:39:12,450: INFO: data_ingestion_training]:  cement_strength_08012020_120021.csv: File loaded successfully!!\n",
      "[2022-11-03 21:39:12,457: INFO: data_ingestion_training]:  cement_strength_08012020_120021.csv: File loaded successfully!!\n",
      "[2022-11-03 21:39:12,464: INFO: data_ingestion_training]:  cement_strength_08012020_120021.csv: File loaded successfully!!\n",
      "[2022-11-03 21:39:12,472: INFO: data_ingestion_training]:  cement_strength_08012020_120021.csv: File loaded successfully!!\n",
      "[2022-11-03 21:39:12,478: INFO: data_ingestion_training]:  cement_strength_08012020_120021.csv: File loaded successfully!!\n",
      "[2022-11-03 21:39:12,484: INFO: data_ingestion_training]:  cement_strength_08012020_120021.csv: File loaded successfully!!\n",
      "[2022-11-03 21:39:12,491: INFO: data_ingestion_training]:  cement_strength_08012020_120021.csv: File loaded successfully!!\n",
      "[2022-11-03 21:39:12,499: INFO: data_ingestion_training]:  cement_strength_08012020_120021.csv: File loaded successfully!!\n",
      "[2022-11-03 21:39:12,507: INFO: data_ingestion_training]:  cement_strength_08012020_120021.csv: File loaded successfully!!\n",
      "[2022-11-03 21:39:12,518: INFO: data_ingestion_training]:  cement_strength_08012020_120021.csv: File loaded successfully!!\n",
      "[2022-11-03 21:39:12,526: INFO: data_ingestion_training]:  cement_strength_08012020_120021.csv: File loaded successfully!!\n",
      "[2022-11-03 21:39:12,534: INFO: data_ingestion_training]:  cement_strength_08012020_120021.csv: File loaded successfully!!\n",
      "[2022-11-03 21:39:12,542: INFO: data_ingestion_training]:  cement_strength_08012020_120021.csv: File loaded successfully!!\n",
      "[2022-11-03 21:39:12,552: INFO: data_ingestion_training]:  cement_strength_08012020_120021.csv: File loaded successfully!!\n",
      "[2022-11-03 21:39:12,561: INFO: data_ingestion_training]:  cement_strength_08012020_120021.csv: File loaded successfully!!\n",
      "[2022-11-03 21:39:12,570: INFO: data_ingestion_training]:  cement_strength_08012020_120021.csv: File loaded successfully!!\n",
      "[2022-11-03 21:39:12,576: INFO: data_ingestion_training]:  cement_strength_08012020_120021.csv: File loaded successfully!!\n",
      "[2022-11-03 21:39:12,584: INFO: data_ingestion_training]:  cement_strength_08012020_120021.csv: File loaded successfully!!\n",
      "[2022-11-03 21:39:12,593: INFO: data_ingestion_training]:  cement_strength_08012020_120021.csv: File loaded successfully!!\n",
      "[2022-11-03 21:39:12,602: INFO: data_ingestion_training]:  cement_strength_08012020_120021.csv: File loaded successfully!!\n",
      "[2022-11-03 21:39:12,609: INFO: data_ingestion_training]:  cement_strength_08012020_120021.csv: File loaded successfully!!\n",
      "[2022-11-03 21:39:12,616: INFO: data_ingestion_training]:  cement_strength_08012020_120021.csv: File loaded successfully!!\n",
      "[2022-11-03 21:39:12,625: INFO: data_ingestion_training]:  cement_strength_08012020_120021.csv: File loaded successfully!!\n",
      "[2022-11-03 21:39:12,632: INFO: data_ingestion_training]:  cement_strength_08012020_120021.csv: File loaded successfully!!\n",
      "[2022-11-03 21:39:12,642: INFO: data_ingestion_training]:  cement_strength_08012020_120021.csv: File loaded successfully!!\n",
      "[2022-11-03 21:39:12,652: INFO: data_ingestion_training]:  cement_strength_08012020_120021.csv: File loaded successfully!!\n",
      "[2022-11-03 21:39:12,661: INFO: data_ingestion_training]:  cement_strength_08012020_120021.csv: File loaded successfully!!\n",
      "[2022-11-03 21:39:12,670: INFO: data_ingestion_training]:  cement_strength_08012020_120021.csv: File loaded successfully!!\n",
      "[2022-11-03 21:39:12,677: INFO: data_ingestion_training]:  cement_strength_08012020_120021.csv: File loaded successfully!!\n",
      "[2022-11-03 21:39:12,690: INFO: data_ingestion_training]:  cement_strength_08012020_120021.csv: File loaded successfully!!\n",
      "[2022-11-03 21:39:12,697: INFO: data_ingestion_training]:  cement_strength_08012020_120021.csv: File loaded successfully!!\n",
      "[2022-11-03 21:39:12,705: INFO: data_ingestion_training]:  cement_strength_08012020_120021.csv: File loaded successfully!!\n",
      "[2022-11-03 21:39:12,712: INFO: data_ingestion_training]:  cement_strength_08012020_120021.csv: File loaded successfully!!\n",
      "[2022-11-03 21:39:12,719: INFO: data_ingestion_training]:  cement_strength_08012020_120021.csv: File loaded successfully!!\n",
      "[2022-11-03 21:39:12,726: INFO: data_ingestion_training]:  cement_strength_08012020_120021.csv: File loaded successfully!!\n",
      "[2022-11-03 21:39:12,733: INFO: data_ingestion_training]:  cement_strength_08012020_120021.csv: File loaded successfully!!\n",
      "[2022-11-03 21:39:12,741: INFO: data_ingestion_training]:  cement_strength_08012020_120021.csv: File loaded successfully!!\n",
      "[2022-11-03 21:39:12,749: INFO: data_ingestion_training]:  cement_strength_08012020_120021.csv: File loaded successfully!!\n",
      "[2022-11-03 21:39:12,757: INFO: data_ingestion_training]:  cement_strength_08012020_120021.csv: File loaded successfully!!\n",
      "[2022-11-03 21:39:12,765: INFO: data_ingestion_training]:  cement_strength_08012020_120021.csv: File loaded successfully!!\n",
      "[2022-11-03 21:39:12,773: INFO: data_ingestion_training]:  cement_strength_08012020_120021.csv: File loaded successfully!!\n",
      "[2022-11-03 21:39:12,781: INFO: data_ingestion_training]:  cement_strength_08012020_120021.csv: File loaded successfully!!\n",
      "[2022-11-03 21:39:12,788: INFO: data_ingestion_training]:  cement_strength_08012020_120021.csv: File loaded successfully!!\n",
      "[2022-11-03 21:39:12,795: INFO: data_ingestion_training]:  cement_strength_08012020_120021.csv: File loaded successfully!!\n",
      "[2022-11-03 21:39:12,802: INFO: data_ingestion_training]:  cement_strength_08012020_120021.csv: File loaded successfully!!\n",
      "[2022-11-03 21:39:12,809: INFO: data_ingestion_training]:  cement_strength_08012020_120021.csv: File loaded successfully!!\n",
      "[2022-11-03 21:39:12,816: INFO: data_ingestion_training]:  cement_strength_08012020_120021.csv: File loaded successfully!!\n",
      "[2022-11-03 21:39:12,823: INFO: data_ingestion_training]:  cement_strength_08012020_120021.csv: File loaded successfully!!\n",
      "[2022-11-03 21:39:12,830: INFO: data_ingestion_training]:  cement_strength_08012020_120021.csv: File loaded successfully!!\n",
      "[2022-11-03 21:39:12,837: INFO: data_ingestion_training]:  cement_strength_08012020_120021.csv: File loaded successfully!!\n",
      "[2022-11-03 21:39:12,845: INFO: data_ingestion_training]:  cement_strength_08012020_120021.csv: File loaded successfully!!\n",
      "[2022-11-03 21:39:12,853: INFO: data_ingestion_training]:  cement_strength_08012020_120021.csv: File loaded successfully!!\n",
      "[2022-11-03 21:39:12,861: INFO: data_ingestion_training]:  cement_strength_08012020_120021.csv: File loaded successfully!!\n",
      "[2022-11-03 21:39:12,869: INFO: data_ingestion_training]:  cement_strength_08012020_120021.csv: File loaded successfully!!\n",
      "[2022-11-03 21:39:12,876: INFO: data_ingestion_training]:  cement_strength_08012020_120021.csv: File loaded successfully!!\n",
      "[2022-11-03 21:39:12,883: INFO: data_ingestion_training]:  cement_strength_08012020_120021.csv: File loaded successfully!!\n",
      "[2022-11-03 21:39:12,890: INFO: data_ingestion_training]:  cement_strength_08012020_120021.csv: File loaded successfully!!\n",
      "[2022-11-03 21:39:12,897: INFO: data_ingestion_training]:  cement_strength_08012020_120021.csv: File loaded successfully!!\n",
      "[2022-11-03 21:39:12,903: INFO: data_ingestion_training]:  cement_strength_08012020_120021.csv: File loaded successfully!!\n",
      "[2022-11-03 21:39:12,910: INFO: data_ingestion_training]:  cement_strength_08012020_120021.csv: File loaded successfully!!\n",
      "[2022-11-03 21:39:12,917: INFO: data_ingestion_training]:  cement_strength_08012020_120021.csv: File loaded successfully!!\n",
      "[2022-11-03 21:39:12,923: INFO: data_ingestion_training]:  cement_strength_08012020_120021.csv: File loaded successfully!!\n",
      "[2022-11-03 21:39:12,930: INFO: data_ingestion_training]:  cement_strength_08012020_120021.csv: File loaded successfully!!\n",
      "[2022-11-03 21:39:12,938: INFO: data_ingestion_training]:  cement_strength_08012020_120021.csv: File loaded successfully!!\n",
      "[2022-11-03 21:39:12,945: INFO: data_ingestion_training]:  cement_strength_08012020_120021.csv: File loaded successfully!!\n",
      "[2022-11-03 21:39:12,951: INFO: data_ingestion_training]:  cement_strength_08012020_120021.csv: File loaded successfully!!\n",
      "[2022-11-03 21:39:12,958: INFO: data_ingestion_training]:  cement_strength_08012020_120021.csv: File loaded successfully!!\n",
      "[2022-11-03 21:39:12,968: INFO: data_ingestion_training]:  cement_strength_08012020_120021.csv: File loaded successfully!!\n",
      "[2022-11-03 21:39:12,976: INFO: data_ingestion_training]:  cement_strength_08012020_120021.csv: File loaded successfully!!\n",
      "[2022-11-03 21:39:12,983: INFO: data_ingestion_training]:  cement_strength_08012020_120021.csv: File loaded successfully!!\n",
      "[2022-11-03 21:39:12,990: INFO: data_ingestion_training]:  cement_strength_08012020_120021.csv: File loaded successfully!!\n",
      "[2022-11-03 21:39:12,998: INFO: data_ingestion_training]:  cement_strength_08012020_120021.csv: File loaded successfully!!\n",
      "[2022-11-03 21:39:13,005: INFO: data_ingestion_training]:  cement_strength_08012020_120021.csv: File loaded successfully!!\n",
      "[2022-11-03 21:39:13,012: INFO: data_ingestion_training]:  cement_strength_08012020_120021.csv: File loaded successfully!!\n",
      "[2022-11-03 21:39:13,020: INFO: data_ingestion_training]:  cement_strength_08012020_120021.csv: File loaded successfully!!\n",
      "[2022-11-03 21:39:13,027: INFO: data_ingestion_training]:  cement_strength_08012020_120021.csv: File loaded successfully!!\n",
      "[2022-11-03 21:39:13,034: INFO: data_ingestion_training]:  cement_strength_08012020_120021.csv: File loaded successfully!!\n",
      "[2022-11-03 21:39:13,043: INFO: data_ingestion_training]:  cement_strength_08012020_120021.csv: File loaded successfully!!\n",
      "[2022-11-03 21:39:13,051: INFO: data_ingestion_training]:  cement_strength_08012020_120021.csv: File loaded successfully!!\n",
      "[2022-11-03 21:39:13,059: INFO: data_ingestion_training]:  cement_strength_08012020_120021.csv: File loaded successfully!!\n",
      "[2022-11-03 21:39:13,066: INFO: data_ingestion_training]:  cement_strength_08012020_120021.csv: File loaded successfully!!\n",
      "[2022-11-03 21:39:13,075: INFO: data_ingestion_training]:  cement_strength_08012020_120021.csv: File loaded successfully!!\n",
      "[2022-11-03 21:39:13,082: INFO: data_ingestion_training]:  cement_strength_08012020_120021.csv: File loaded successfully!!\n",
      "[2022-11-03 21:39:13,090: INFO: data_ingestion_training]:  cement_strength_08012020_120021.csv: File loaded successfully!!\n",
      "[2022-11-03 21:39:13,098: INFO: data_ingestion_training]:  cement_strength_08012020_120021.csv: File loaded successfully!!\n",
      "[2022-11-03 21:39:13,105: INFO: data_ingestion_training]:  cement_strength_08012020_120021.csv: File loaded successfully!!\n",
      "[2022-11-03 21:39:13,113: INFO: data_ingestion_training]:  cement_strength_08012020_120021.csv: File loaded successfully!!\n",
      "[2022-11-03 21:39:13,122: INFO: data_ingestion_training]:  cement_strength_08012020_120021.csv: File loaded successfully!!\n",
      "[2022-11-03 21:39:13,129: INFO: data_ingestion_training]:  cement_strength_08012020_120021.csv: File loaded successfully!!\n",
      "[2022-11-03 21:39:13,136: INFO: data_ingestion_training]:  cement_strength_08012020_120021.csv: File loaded successfully!!\n",
      "[2022-11-03 21:39:13,143: INFO: data_ingestion_training]:  cement_strength_08012020_120021.csv: File loaded successfully!!\n",
      "[2022-11-03 21:39:13,151: INFO: data_ingestion_training]:  cement_strength_08012020_120021.csv: File loaded successfully!!\n",
      "[2022-11-03 21:39:13,159: INFO: data_ingestion_training]:  cement_strength_08012020_120021.csv: File loaded successfully!!\n",
      "[2022-11-03 21:39:13,167: INFO: data_ingestion_training]:  cement_strength_08012020_120021.csv: File loaded successfully!!\n",
      "[2022-11-03 21:39:13,178: INFO: data_ingestion_training]:  cement_strength_08012020_120021.csv: File loaded successfully!!\n",
      "[2022-11-03 21:39:13,186: INFO: data_ingestion_training]:  cement_strength_08012020_120021.csv: File loaded successfully!!\n",
      "[2022-11-03 21:39:13,195: INFO: data_ingestion_training]:  cement_strength_08012020_120021.csv: File loaded successfully!!\n",
      "[2022-11-03 21:39:13,204: INFO: data_ingestion_training]:  cement_strength_08012020_120021.csv: File loaded successfully!!\n",
      "[2022-11-03 21:39:13,212: INFO: data_ingestion_training]:  cement_strength_08012020_120021.csv: File loaded successfully!!\n",
      "[2022-11-03 21:39:13,220: INFO: data_ingestion_training]:  cement_strength_08012020_120021.csv: File loaded successfully!!\n",
      "[2022-11-03 21:39:13,228: INFO: data_ingestion_training]:  cement_strength_08012020_120021.csv: File loaded successfully!!\n",
      "[2022-11-03 21:39:13,235: INFO: data_ingestion_training]:  cement_strength_08012020_120021.csv: File loaded successfully!!\n",
      "[2022-11-03 21:39:13,243: INFO: data_ingestion_training]:  cement_strength_08012020_120021.csv: File loaded successfully!!\n",
      "[2022-11-03 21:39:13,251: INFO: data_ingestion_training]:  cement_strength_08012020_120021.csv: File loaded successfully!!\n",
      "[2022-11-03 21:39:13,258: INFO: data_ingestion_training]:  cement_strength_08012020_120021.csv: File loaded successfully!!\n",
      "[2022-11-03 21:39:13,267: INFO: data_ingestion_training]:  cement_strength_08012020_120021.csv: File loaded successfully!!\n",
      "[2022-11-03 21:39:13,275: INFO: data_ingestion_training]:  cement_strength_08012020_120021.csv: File loaded successfully!!\n",
      "[2022-11-03 21:39:13,285: INFO: data_ingestion_training]:  cement_strength_08012020_120021.csv: File loaded successfully!!\n",
      "[2022-11-03 21:39:13,296: INFO: data_ingestion_training]:  cement_strength_08012020_120021.csv: File loaded successfully!!\n",
      "[2022-11-03 21:39:13,304: INFO: data_ingestion_training]:  cement_strength_08012020_120021.csv: File loaded successfully!!\n",
      "[2022-11-03 21:39:13,312: INFO: data_ingestion_training]:  cement_strength_08012020_120021.csv: File loaded successfully!!\n",
      "[2022-11-03 21:39:13,323: INFO: data_ingestion_training]:  cement_strength_08012020_120021.csv: File loaded successfully!!\n",
      "[2022-11-03 21:39:13,331: INFO: data_ingestion_training]:  cement_strength_08012020_120021.csv: File loaded successfully!!\n",
      "[2022-11-03 21:39:13,343: INFO: data_ingestion_training]:  cement_strength_08012020_120021.csv: File loaded successfully!!\n",
      "[2022-11-03 21:39:13,350: INFO: data_ingestion_training]:  cement_strength_08012020_120021.csv: File loaded successfully!!\n",
      "[2022-11-03 21:39:13,357: INFO: data_ingestion_training]:  cement_strength_08012020_120021.csv: File loaded successfully!!\n",
      "[2022-11-03 21:39:13,365: INFO: data_ingestion_training]:  cement_strength_08012020_120021.csv: File loaded successfully!!\n",
      "[2022-11-03 21:39:13,371: INFO: data_ingestion_training]:  cement_strength_08012020_120021.csv: File loaded successfully!!\n",
      "[2022-11-03 21:39:13,378: INFO: data_ingestion_training]:  cement_strength_08012020_120021.csv: File loaded successfully!!\n",
      "[2022-11-03 21:39:13,385: INFO: data_ingestion_training]:  cement_strength_08012020_120021.csv: File loaded successfully!!\n",
      "[2022-11-03 21:39:13,394: INFO: data_ingestion_training]:  cement_strength_08012020_120021.csv: File loaded successfully!!\n",
      "[2022-11-03 21:39:13,401: INFO: data_ingestion_training]:  cement_strength_08012020_120021.csv: File loaded successfully!!\n",
      "[2022-11-03 21:39:13,408: INFO: data_ingestion_training]:  cement_strength_08012020_120021.csv: File loaded successfully!!\n",
      "[2022-11-03 21:39:13,414: INFO: data_ingestion_training]:  cement_strength_08012020_120021.csv: File loaded successfully!!\n",
      "[2022-11-03 21:39:13,422: INFO: data_ingestion_training]:  cement_strength_08012020_120021.csv: File loaded successfully!!\n",
      "[2022-11-03 21:39:13,428: INFO: data_ingestion_training]:  cement_strength_08012020_120021.csv: File loaded successfully!!\n",
      "[2022-11-03 21:39:13,434: INFO: data_ingestion_training]:  cement_strength_08012020_120021.csv: File loaded successfully!!\n",
      "[2022-11-03 21:39:13,441: INFO: data_ingestion_training]:  cement_strength_08012020_120021.csv: File loaded successfully!!\n",
      "[2022-11-03 21:39:13,448: INFO: data_ingestion_training]:  cement_strength_08012020_120021.csv: File loaded successfully!!\n",
      "[2022-11-03 21:39:13,455: INFO: data_ingestion_training]:  cement_strength_08012020_120021.csv: File loaded successfully!!\n",
      "[2022-11-03 21:39:13,462: INFO: data_ingestion_training]:  cement_strength_08012020_120021.csv: File loaded successfully!!\n",
      "[2022-11-03 21:39:13,468: INFO: data_ingestion_training]:  cement_strength_08012020_120021.csv: File loaded successfully!!\n",
      "[2022-11-03 21:39:13,475: INFO: data_ingestion_training]:  cement_strength_08012020_120021.csv: File loaded successfully!!\n",
      "[2022-11-03 21:39:13,482: INFO: data_ingestion_training]:  cement_strength_08012020_120021.csv: File loaded successfully!!\n",
      "[2022-11-03 21:39:13,490: INFO: data_ingestion_training]:  cement_strength_08012020_120021.csv: File loaded successfully!!\n",
      "[2022-11-03 21:39:13,497: INFO: data_ingestion_training]:  cement_strength_08012020_120021.csv: File loaded successfully!!\n",
      "[2022-11-03 21:39:13,504: INFO: data_ingestion_training]:  cement_strength_08012020_120021.csv: File loaded successfully!!\n",
      "[2022-11-03 21:39:13,511: INFO: data_ingestion_training]:  cement_strength_08012020_120021.csv: File loaded successfully!!\n",
      "[2022-11-03 21:39:13,519: INFO: data_ingestion_training]:  cement_strength_08012020_120021.csv: File loaded successfully!!\n",
      "[2022-11-03 21:39:13,525: INFO: data_ingestion_training]:  cement_strength_08012020_120021.csv: File loaded successfully!!\n",
      "[2022-11-03 21:39:13,532: INFO: data_ingestion_training]:  cement_strength_08012020_120021.csv: File loaded successfully!!\n",
      "[2022-11-03 21:39:13,539: INFO: data_ingestion_training]:  cement_strength_08012020_120021.csv: File loaded successfully!!\n",
      "[2022-11-03 21:39:13,546: INFO: data_ingestion_training]:  cement_strength_08012020_120021.csv: File loaded successfully!!\n",
      "[2022-11-03 21:39:13,553: INFO: data_ingestion_training]:  cement_strength_08012020_120021.csv: File loaded successfully!!\n",
      "[2022-11-03 21:39:13,559: INFO: data_ingestion_training]:  cement_strength_08012020_120021.csv: File loaded successfully!!\n",
      "[2022-11-03 21:39:13,566: INFO: data_ingestion_training]:  cement_strength_08012020_120021.csv: File loaded successfully!!\n",
      "[2022-11-03 21:39:13,573: INFO: data_ingestion_training]:  cement_strength_08012020_120021.csv: File loaded successfully!!\n",
      "[2022-11-03 21:39:13,580: INFO: data_ingestion_training]:  cement_strength_08012020_120021.csv: File loaded successfully!!\n",
      "[2022-11-03 21:39:13,587: INFO: data_ingestion_training]:  cement_strength_08012020_120021.csv: File loaded successfully!!\n",
      "[2022-11-03 21:39:13,595: INFO: data_ingestion_training]:  cement_strength_08012020_120021.csv: File loaded successfully!!\n",
      "[2022-11-03 21:39:13,602: INFO: data_ingestion_training]:  cement_strength_08012020_120021.csv: File loaded successfully!!\n",
      "[2022-11-03 21:39:13,609: INFO: data_ingestion_training]:  cement_strength_08012020_120021.csv: File loaded successfully!!\n",
      "[2022-11-03 21:39:13,618: INFO: data_ingestion_training]:  cement_strength_08012020_120021.csv: File loaded successfully!!\n",
      "[2022-11-03 21:39:13,632: INFO: data_ingestion_training]:  cement_strength_08012020_120021.csv: File loaded successfully!!\n",
      "[2022-11-03 21:39:13,642: INFO: data_ingestion_training]:  cement_strength_08012020_120021.csv: File loaded successfully!!\n",
      "[2022-11-03 21:39:13,649: INFO: data_ingestion_training]:  cement_strength_08012020_120021.csv: File loaded successfully!!\n",
      "[2022-11-03 21:39:13,656: INFO: data_ingestion_training]:  cement_strength_08012020_120021.csv: File loaded successfully!!\n",
      "[2022-11-03 21:39:13,663: INFO: data_ingestion_training]:  cement_strength_08012020_120021.csv: File loaded successfully!!\n",
      "[2022-11-03 21:39:13,670: INFO: data_ingestion_training]:  cement_strength_08012020_120021.csv: File loaded successfully!!\n",
      "[2022-11-03 21:39:13,677: INFO: data_ingestion_training]:  cement_strength_08012020_120021.csv: File loaded successfully!!\n",
      "[2022-11-03 21:39:13,686: INFO: data_ingestion_training]:  cement_strength_08012020_120021.csv: File loaded successfully!!\n",
      "[2022-11-03 21:39:13,692: INFO: data_ingestion_training]:  cement_strength_08012020_120021.csv: File loaded successfully!!\n",
      "[2022-11-03 21:39:13,699: INFO: data_ingestion_training]:  cement_strength_08012020_120021.csv: File loaded successfully!!\n",
      "[2022-11-03 21:39:13,706: INFO: data_ingestion_training]:  cement_strength_08012020_120021.csv: File loaded successfully!!\n",
      "[2022-11-03 21:39:13,714: INFO: data_ingestion_training]:  cement_strength_08012020_120021.csv: File loaded successfully!!\n",
      "[2022-11-03 21:39:13,722: INFO: data_ingestion_training]:  cement_strength_08012020_120021.csv: File loaded successfully!!\n",
      "[2022-11-03 21:39:13,729: INFO: data_ingestion_training]:  cement_strength_08012020_120021.csv: File loaded successfully!!\n",
      "[2022-11-03 21:39:13,736: INFO: data_ingestion_training]:  cement_strength_08012020_120021.csv: File loaded successfully!!\n",
      "[2022-11-03 21:39:13,745: INFO: data_ingestion_training]:  cement_strength_08012020_120021.csv: File loaded successfully!!\n",
      "[2022-11-03 21:39:13,751: INFO: data_ingestion_training]:  cement_strength_08012020_120021.csv: File loaded successfully!!\n",
      "[2022-11-03 21:39:13,759: INFO: data_ingestion_training]:  cement_strength_08012020_120021.csv: File loaded successfully!!\n",
      "[2022-11-03 21:39:13,766: INFO: data_ingestion_training]:  cement_strength_08012020_120021.csv: File loaded successfully!!\n",
      "[2022-11-03 21:39:13,772: INFO: data_ingestion_training]:  cement_strength_08012020_120021.csv: File loaded successfully!!\n",
      "[2022-11-03 21:39:13,779: INFO: data_ingestion_training]:  cement_strength_08012020_120021.csv: File loaded successfully!!\n",
      "[2022-11-03 21:39:13,786: INFO: data_ingestion_training]:  cement_strength_08012020_120021.csv: File loaded successfully!!\n",
      "[2022-11-03 21:39:13,793: INFO: data_ingestion_training]:  cement_strength_08012020_120021.csv: File loaded successfully!!\n",
      "[2022-11-03 21:39:13,800: INFO: data_ingestion_training]:  cement_strength_08012020_120021.csv: File loaded successfully!!\n",
      "[2022-11-03 21:39:13,809: INFO: data_ingestion_training]:  cement_strength_08012020_120021.csv: File loaded successfully!!\n",
      "[2022-11-03 21:39:13,816: INFO: data_ingestion_training]:  cement_strength_08012020_120021.csv: File loaded successfully!!\n",
      "[2022-11-03 21:39:13,823: INFO: data_ingestion_training]:  cement_strength_08012020_120021.csv: File loaded successfully!!\n",
      "[2022-11-03 21:39:13,830: INFO: data_ingestion_training]:  cement_strength_08012020_120021.csv: File loaded successfully!!\n",
      "[2022-11-03 21:39:13,836: INFO: data_ingestion_training]:  cement_strength_08012020_120021.csv: File loaded successfully!!\n",
      "[2022-11-03 21:39:13,844: INFO: data_ingestion_training]:  cement_strength_08012020_120021.csv: File loaded successfully!!\n",
      "[2022-11-03 21:39:13,858: INFO: data_ingestion_training]:  cement_strength_08012020_120021.csv: File loaded successfully!!\n",
      "[2022-11-03 21:39:13,865: INFO: data_ingestion_training]:  cement_strength_08012020_120021.csv: File loaded successfully!!\n",
      "[2022-11-03 21:39:13,872: INFO: data_ingestion_training]:  cement_strength_08012020_120021.csv: File loaded successfully!!\n",
      "[2022-11-03 21:39:13,879: INFO: data_ingestion_training]:  cement_strength_08012020_120021.csv: File loaded successfully!!\n",
      "[2022-11-03 21:39:13,885: INFO: data_ingestion_training]:  cement_strength_08012020_120021.csv: File loaded successfully!!\n",
      "[2022-11-03 21:39:13,892: INFO: data_ingestion_training]:  cement_strength_08012020_120021.csv: File loaded successfully!!\n",
      "[2022-11-03 21:39:13,899: INFO: data_ingestion_training]:  cement_strength_08012020_120021.csv: File loaded successfully!!\n",
      "[2022-11-03 21:39:13,906: INFO: data_ingestion_training]:  cement_strength_08012020_120021.csv: File loaded successfully!!\n",
      "[2022-11-03 21:39:13,914: INFO: data_ingestion_training]:  cement_strength_08012020_120021.csv: File loaded successfully!!\n",
      "[2022-11-03 21:39:13,921: INFO: data_ingestion_training]:  cement_strength_08012020_120021.csv: File loaded successfully!!\n",
      "[2022-11-03 21:39:13,929: INFO: data_ingestion_training]:  cement_strength_08012020_120021.csv: File loaded successfully!!\n",
      "[2022-11-03 21:39:13,936: INFO: data_ingestion_training]:  cement_strength_08012020_120021.csv: File loaded successfully!!\n",
      "[2022-11-03 21:39:13,943: INFO: data_ingestion_training]:  cement_strength_08012020_120021.csv: File loaded successfully!!\n",
      "[2022-11-03 21:39:13,951: INFO: data_ingestion_training]:  cement_strength_08012020_120021.csv: File loaded successfully!!\n",
      "[2022-11-03 21:39:13,958: INFO: data_ingestion_training]:  cement_strength_08012020_120021.csv: File loaded successfully!!\n",
      "[2022-11-03 21:39:13,967: INFO: data_ingestion_training]:  cement_strength_08012020_120021.csv: File loaded successfully!!\n",
      "[2022-11-03 21:39:13,975: INFO: data_ingestion_training]:  cement_strength_08012020_120021.csv: File loaded successfully!!\n",
      "[2022-11-03 21:39:13,981: INFO: data_ingestion_training]:  cement_strength_08012020_120021.csv: File loaded successfully!!\n",
      "[2022-11-03 21:39:13,988: INFO: data_ingestion_training]:  cement_strength_08012020_120021.csv: File loaded successfully!!\n",
      "[2022-11-03 21:39:14,005: INFO: data_ingestion_training]:  cement_strength_08012020_120021.csv: File loaded successfully!!\n",
      "[2022-11-03 21:39:14,011: INFO: data_ingestion_training]:  cement_strength_08012020_120021.csv: File loaded successfully!!\n",
      "[2022-11-03 21:39:14,018: INFO: data_ingestion_training]:  cement_strength_08012020_120021.csv: File loaded successfully!!\n",
      "[2022-11-03 21:39:14,025: INFO: data_ingestion_training]:  cement_strength_08012020_120021.csv: File loaded successfully!!\n",
      "[2022-11-03 21:39:14,032: INFO: data_ingestion_training]:  cement_strength_08012020_120021.csv: File loaded successfully!!\n",
      "[2022-11-03 21:39:14,039: INFO: data_ingestion_training]:  cement_strength_08012020_120021.csv: File loaded successfully!!\n",
      "[2022-11-03 21:39:14,045: INFO: data_ingestion_training]:  cement_strength_08012020_120021.csv: File loaded successfully!!\n",
      "[2022-11-03 21:39:14,052: INFO: data_ingestion_training]:  cement_strength_08012020_120021.csv: File loaded successfully!!\n",
      "[2022-11-03 21:39:14,061: INFO: data_ingestion_training]:  cement_strength_08012020_120021.csv: File loaded successfully!!\n",
      "[2022-11-03 21:39:14,067: INFO: data_ingestion_training]:  cement_strength_08012020_120021.csv: File loaded successfully!!\n",
      "[2022-11-03 21:39:14,073: INFO: data_ingestion_training]:  cement_strength_08012020_120021.csv: File loaded successfully!!\n",
      "[2022-11-03 21:39:14,080: INFO: data_ingestion_training]:  cement_strength_08012020_120021.csv: File loaded successfully!!\n",
      "[2022-11-03 21:39:14,087: INFO: data_ingestion_training]:  cement_strength_08012020_120021.csv: File loaded successfully!!\n",
      "[2022-11-03 21:39:14,094: INFO: data_ingestion_training]:  cement_strength_08012020_120021.csv: File loaded successfully!!\n",
      "[2022-11-03 21:39:14,100: INFO: data_ingestion_training]:  cement_strength_08012020_120021.csv: File loaded successfully!!\n",
      "[2022-11-03 21:39:14,107: INFO: data_ingestion_training]:  cement_strength_08012020_120021.csv: File loaded successfully!!\n",
      "[2022-11-03 21:39:14,114: INFO: data_ingestion_training]:  cement_strength_08012020_120021.csv: File loaded successfully!!\n",
      "[2022-11-03 21:39:14,122: INFO: data_ingestion_training]:  cement_strength_08012020_120021.csv: File loaded successfully!!\n",
      "[2022-11-03 21:39:14,129: INFO: data_ingestion_training]:  cement_strength_08012020_120021.csv: File loaded successfully!!\n",
      "[2022-11-03 21:39:14,136: INFO: data_ingestion_training]:  cement_strength_08012020_120021.csv: File loaded successfully!!\n",
      "[2022-11-03 21:39:14,143: INFO: data_ingestion_training]:  cement_strength_08012020_120021.csv: File loaded successfully!!\n",
      "[2022-11-03 21:39:14,150: INFO: data_ingestion_training]:  cement_strength_08012020_120021.csv: File loaded successfully!!\n",
      "[2022-11-03 21:39:14,156: INFO: data_ingestion_training]:  cement_strength_08012020_120021.csv: File loaded successfully!!\n",
      "[2022-11-03 21:39:14,163: INFO: data_ingestion_training]:  cement_strength_08012020_120021.csv: File loaded successfully!!\n",
      "[2022-11-03 21:39:14,169: INFO: data_ingestion_training]:  cement_strength_08012020_120021.csv: File loaded successfully!!\n",
      "[2022-11-03 21:39:14,176: INFO: data_ingestion_training]:  cement_strength_08012020_120021.csv: File loaded successfully!!\n",
      "[2022-11-03 21:39:14,183: INFO: data_ingestion_training]:  cement_strength_08012020_120021.csv: File loaded successfully!!\n",
      "[2022-11-03 21:39:14,191: INFO: data_ingestion_training]:  cement_strength_08012020_120021.csv: File loaded successfully!!\n",
      "[2022-11-03 21:39:14,197: INFO: data_ingestion_training]:  cement_strength_08012020_120021.csv: File loaded successfully!!\n",
      "[2022-11-03 21:39:14,204: INFO: data_ingestion_training]:  cement_strength_08012020_120021.csv: File loaded successfully!!\n",
      "[2022-11-03 21:39:14,211: INFO: data_ingestion_training]:  cement_strength_08012020_120021.csv: File loaded successfully!!\n",
      "[2022-11-03 21:39:14,218: INFO: data_ingestion_training]:  cement_strength_08012020_120021.csv: File loaded successfully!!\n",
      "[2022-11-03 21:39:14,228: INFO: data_ingestion_training]:  cement_strength_08012020_120021.csv: File loaded successfully!!\n",
      "[2022-11-03 21:39:14,238: INFO: data_ingestion_training]:  cement_strength_08012020_120021.csv: File loaded successfully!!\n",
      "[2022-11-03 21:39:14,246: INFO: data_ingestion_training]:  cement_strength_08012020_120021.csv: File loaded successfully!!\n",
      "[2022-11-03 21:39:14,253: INFO: data_ingestion_training]:  cement_strength_08012020_120021.csv: File loaded successfully!!\n",
      "[2022-11-03 21:39:14,266: INFO: data_ingestion_training]:  cement_strength_08012020_120021.csv: File loaded successfully!!\n",
      "[2022-11-03 21:39:14,273: INFO: data_ingestion_training]:  cement_strength_08012020_120021.csv: File loaded successfully!!\n",
      "[2022-11-03 21:39:14,280: INFO: data_ingestion_training]:  cement_strength_08012020_120021.csv: File loaded successfully!!\n",
      "[2022-11-03 21:39:14,287: INFO: data_ingestion_training]:  cement_strength_08012020_120021.csv: File loaded successfully!!\n",
      "[2022-11-03 21:39:14,294: INFO: data_ingestion_training]:  cement_strength_08012020_120021.csv: File loaded successfully!!\n",
      "[2022-11-03 21:39:14,301: INFO: data_ingestion_training]:  cement_strength_08012020_120021.csv: File loaded successfully!!\n",
      "[2022-11-03 21:39:14,308: INFO: data_ingestion_training]:  cement_strength_08012020_120021.csv: File loaded successfully!!\n",
      "[2022-11-03 21:39:14,315: INFO: data_ingestion_training]:  cement_strength_08012020_120021.csv: File loaded successfully!!\n",
      "[2022-11-03 21:39:14,322: INFO: data_ingestion_training]:  cement_strength_08012020_120021.csv: File loaded successfully!!\n",
      "[2022-11-03 21:39:14,331: INFO: data_ingestion_training]:  cement_strength_08012020_120021.csv: File loaded successfully!!\n",
      "[2022-11-03 21:39:14,337: INFO: data_ingestion_training]:  cement_strength_08012020_120021.csv: File loaded successfully!!\n",
      "[2022-11-03 21:39:14,345: INFO: data_ingestion_training]:  cement_strength_08012020_120021.csv: File loaded successfully!!\n",
      "[2022-11-03 21:39:14,352: INFO: data_ingestion_training]:  cement_strength_08012020_120021.csv: File loaded successfully!!\n",
      "[2022-11-03 21:39:14,359: INFO: data_ingestion_training]:  cement_strength_08012020_120021.csv: File loaded successfully!!\n",
      "[2022-11-03 21:39:14,367: INFO: data_ingestion_training]:  cement_strength_08012020_120021.csv: File loaded successfully!!\n",
      "[2022-11-03 21:39:14,374: INFO: data_ingestion_training]:  cement_strength_08012020_120021.csv: File loaded successfully!!\n",
      "[2022-11-03 21:39:14,381: INFO: data_ingestion_training]:  cement_strength_08012020_120021.csv: File loaded successfully!!\n",
      "[2022-11-03 21:39:14,389: INFO: data_ingestion_training]:  cement_strength_08012020_120021.csv: File loaded successfully!!\n",
      "[2022-11-03 21:39:14,396: INFO: data_ingestion_training]:  cement_strength_08012020_120021.csv: File loaded successfully!!\n",
      "[2022-11-03 21:39:14,402: INFO: data_ingestion_training]:  cement_strength_08012020_120021.csv: File loaded successfully!!\n",
      "[2022-11-03 21:39:14,410: INFO: data_ingestion_training]:  cement_strength_08012020_120021.csv: File loaded successfully!!\n",
      "[2022-11-03 21:39:14,420: INFO: data_ingestion_training]:  cement_strength_08012020_120021.csv: File loaded successfully!!\n",
      "[2022-11-03 21:39:14,428: INFO: data_ingestion_training]:  cement_strength_08012020_120021.csv: File loaded successfully!!\n",
      "[2022-11-03 21:39:14,437: INFO: data_ingestion_training]:  cement_strength_08012020_120021.csv: File loaded successfully!!\n",
      "[2022-11-03 21:39:14,446: INFO: data_ingestion_training]:  cement_strength_08012020_120021.csv: File loaded successfully!!\n",
      "[2022-11-03 21:39:14,457: INFO: data_ingestion_training]:  cement_strength_08012020_120021.csv: File loaded successfully!!\n",
      "[2022-11-03 21:39:14,466: INFO: data_ingestion_training]:  cement_strength_08012020_120021.csv: File loaded successfully!!\n",
      "[2022-11-03 21:39:14,474: INFO: data_ingestion_training]:  cement_strength_08012020_120021.csv: File loaded successfully!!\n",
      "[2022-11-03 21:39:14,483: INFO: data_ingestion_training]:  cement_strength_08012020_120021.csv: File loaded successfully!!\n",
      "[2022-11-03 21:39:14,492: INFO: data_ingestion_training]:  cement_strength_08012020_120021.csv: File loaded successfully!!\n",
      "[2022-11-03 21:39:14,505: INFO: data_ingestion_training]:  cement_strength_08012020_120021.csv: File loaded successfully!!\n",
      "[2022-11-03 21:39:14,514: INFO: data_ingestion_training]:  cement_strength_08012020_120021.csv: File loaded successfully!!\n",
      "[2022-11-03 21:39:14,522: INFO: data_ingestion_training]:  cement_strength_08012020_120021.csv: File loaded successfully!!\n",
      "[2022-11-03 21:39:14,533: INFO: data_ingestion_training]:  cement_strength_08012020_120021.csv: File loaded successfully!!\n",
      "[2022-11-03 21:39:14,544: INFO: data_ingestion_training]:  cement_strength_08012020_120021.csv: File loaded successfully!!\n",
      "[2022-11-03 21:39:14,551: INFO: data_ingestion_training]:  cement_strength_08012020_120021.csv: File loaded successfully!!\n",
      "[2022-11-03 21:39:14,560: INFO: data_ingestion_training]:  cement_strength_08012020_120021.csv: File loaded successfully!!\n",
      "[2022-11-03 21:39:14,567: INFO: data_ingestion_training]:  cement_strength_08012020_120021.csv: File loaded successfully!!\n",
      "[2022-11-03 21:39:14,575: INFO: data_ingestion_training]:  cement_strength_08012020_120021.csv: File loaded successfully!!\n",
      "[2022-11-03 21:39:14,583: INFO: data_ingestion_training]:  cement_strength_08012020_120021.csv: File loaded successfully!!\n",
      "[2022-11-03 21:39:14,589: INFO: data_ingestion_training]:  cement_strength_08012020_120021.csv: File loaded successfully!!\n",
      "[2022-11-03 21:39:14,599: INFO: data_ingestion_training]:  cement_strength_08012020_120021.csv: File loaded successfully!!\n",
      "[2022-11-03 21:39:14,609: INFO: data_ingestion_training]:  cement_strength_08012020_120021.csv: File loaded successfully!!\n",
      "[2022-11-03 21:39:14,617: INFO: data_ingestion_training]:  cement_strength_08012020_120021.csv: File loaded successfully!!\n",
      "[2022-11-03 21:39:14,628: INFO: data_ingestion_training]:  cement_strength_08012020_120021.csv: File loaded successfully!!\n",
      "[2022-11-03 21:39:14,638: INFO: data_ingestion_training]:  cement_strength_08012020_120021.csv: File loaded successfully!!\n",
      "[2022-11-03 21:39:14,645: INFO: data_ingestion_training]:  cement_strength_08012020_120021.csv: File loaded successfully!!\n",
      "[2022-11-03 21:39:14,652: INFO: data_ingestion_training]:  cement_strength_08012020_120021.csv: File loaded successfully!!\n",
      "[2022-11-03 21:39:14,658: INFO: data_ingestion_training]:  cement_strength_08012020_120021.csv: File loaded successfully!!\n",
      "[2022-11-03 21:39:14,665: INFO: data_ingestion_training]:  cement_strength_08012020_120021.csv: File loaded successfully!!\n",
      "[2022-11-03 21:39:14,672: INFO: data_ingestion_training]:  cement_strength_08012020_120021.csv: File loaded successfully!!\n",
      "[2022-11-03 21:39:14,680: INFO: data_ingestion_training]:  cement_strength_08012020_120021.csv: File loaded successfully!!\n",
      "[2022-11-03 21:39:14,688: INFO: data_ingestion_training]:  cement_strength_08012020_120021.csv: File loaded successfully!!\n",
      "[2022-11-03 21:39:14,696: INFO: data_ingestion_training]:  cement_strength_08012020_120021.csv: File loaded successfully!!\n",
      "[2022-11-03 21:39:14,705: INFO: data_ingestion_training]:  cement_strength_08012020_120021.csv: File loaded successfully!!\n",
      "[2022-11-03 21:39:14,712: INFO: data_ingestion_training]:  cement_strength_08012020_120021.csv: File loaded successfully!!\n",
      "[2022-11-03 21:39:14,719: INFO: data_ingestion_training]:  cement_strength_08012020_120021.csv: File loaded successfully!!\n",
      "[2022-11-03 21:39:14,726: INFO: data_ingestion_training]:  cement_strength_08012020_120021.csv: File loaded successfully!!\n",
      "[2022-11-03 21:39:14,732: INFO: data_ingestion_training]:  cement_strength_08012020_120021.csv: File loaded successfully!!\n",
      "[2022-11-03 21:39:14,739: INFO: data_ingestion_training]:  cement_strength_08012020_120021.csv: File loaded successfully!!\n",
      "[2022-11-03 21:39:14,746: INFO: data_ingestion_training]:  cement_strength_08012020_120021.csv: File loaded successfully!!\n",
      "[2022-11-03 21:39:14,753: INFO: data_ingestion_training]:  cement_strength_08012020_120021.csv: File loaded successfully!!\n",
      "[2022-11-03 21:39:14,759: INFO: data_ingestion_training]:  cement_strength_08012020_120021.csv: File loaded successfully!!\n",
      "[2022-11-03 21:39:14,766: INFO: data_ingestion_training]:  cement_strength_08012020_120021.csv: File loaded successfully!!\n",
      "[2022-11-03 21:39:14,773: INFO: data_ingestion_training]:  cement_strength_08012020_120021.csv: File loaded successfully!!\n",
      "[2022-11-03 21:39:14,780: INFO: data_ingestion_training]:  cement_strength_08012020_120021.csv: File loaded successfully!!\n",
      "[2022-11-03 21:39:14,788: INFO: data_ingestion_training]:  cement_strength_08012020_120021.csv: File loaded successfully!!\n",
      "[2022-11-03 21:39:14,794: INFO: data_ingestion_training]:  cement_strength_08012020_120021.csv: File loaded successfully!!\n",
      "[2022-11-03 21:39:14,801: INFO: data_ingestion_training]:  cement_strength_08012020_120021.csv: File loaded successfully!!\n",
      "[2022-11-03 21:39:14,809: INFO: data_ingestion_training]:  cement_strength_08012020_120021.csv: File loaded successfully!!\n",
      "[2022-11-03 21:39:14,815: INFO: data_ingestion_training]:  cement_strength_08012020_120021.csv: File loaded successfully!!\n",
      "[2022-11-03 21:39:14,821: INFO: data_ingestion_training]:  cement_strength_08012020_120021.csv: File loaded successfully!!\n",
      "[2022-11-03 21:39:14,829: INFO: data_ingestion_training]:  cement_strength_08012020_120021.csv: File loaded successfully!!\n",
      "[2022-11-03 21:39:14,836: INFO: data_ingestion_training]:  cement_strength_08012020_120021.csv: File loaded successfully!!\n",
      "[2022-11-03 21:39:14,843: INFO: data_ingestion_training]:  cement_strength_08012020_120021.csv: File loaded successfully!!\n",
      "[2022-11-03 21:39:14,849: INFO: data_ingestion_training]:  cement_strength_08012020_120021.csv: File loaded successfully!!\n",
      "[2022-11-03 21:39:14,856: INFO: data_ingestion_training]:  cement_strength_08012020_120021.csv: File loaded successfully!!\n",
      "[2022-11-03 21:39:14,863: INFO: data_ingestion_training]:  cement_strength_08012020_120021.csv: File loaded successfully!!\n",
      "[2022-11-03 21:39:14,869: INFO: data_ingestion_training]:  cement_strength_08012020_120021.csv: File loaded successfully!!\n",
      "[2022-11-03 21:39:14,876: INFO: data_ingestion_training]:  cement_strength_08012020_120021.csv: File loaded successfully!!\n",
      "[2022-11-03 21:39:14,891: INFO: data_ingestion_training]:  cement_strength_08012020_120021.csv: File loaded successfully!!\n",
      "[2022-11-03 21:39:14,899: INFO: data_ingestion_training]:  cement_strength_08012020_120021.csv: File loaded successfully!!\n",
      "[2022-11-03 21:39:14,906: INFO: data_ingestion_training]:  cement_strength_08012020_120021.csv: File loaded successfully!!\n",
      "[2022-11-03 21:39:14,914: INFO: data_ingestion_training]:  cement_strength_08012020_120021.csv: File loaded successfully!!\n",
      "[2022-11-03 21:39:14,921: INFO: data_ingestion_training]:  cement_strength_08012020_120021.csv: File loaded successfully!!\n",
      "[2022-11-03 21:39:14,929: INFO: data_ingestion_training]:  cement_strength_08012020_120021.csv: File loaded successfully!!\n",
      "[2022-11-03 21:39:14,936: INFO: data_ingestion_training]:  cement_strength_08012020_120021.csv: File loaded successfully!!\n",
      "[2022-11-03 21:39:14,943: INFO: data_ingestion_training]:  cement_strength_08012020_120021.csv: File loaded successfully!!\n",
      "[2022-11-03 21:39:14,952: INFO: data_ingestion_training]:  cement_strength_08012020_120021.csv: File loaded successfully!!\n",
      "[2022-11-03 21:39:14,960: INFO: data_ingestion_training]:  cement_strength_08012020_120021.csv: File loaded successfully!!\n",
      "[2022-11-03 21:39:14,966: INFO: data_ingestion_training]:  cement_strength_08012020_120021.csv: File loaded successfully!!\n",
      "[2022-11-03 21:39:14,974: INFO: data_ingestion_training]:  cement_strength_08012020_120021.csv: File loaded successfully!!\n",
      "[2022-11-03 21:39:14,981: INFO: data_ingestion_training]:  cement_strength_08012020_120021.csv: File loaded successfully!!\n",
      "[2022-11-03 21:39:14,988: INFO: data_ingestion_training]:  cement_strength_08012020_120021.csv: File loaded successfully!!\n",
      "[2022-11-03 21:39:14,995: INFO: data_ingestion_training]:  cement_strength_08012020_120021.csv: File loaded successfully!!\n",
      "[2022-11-03 21:39:15,001: INFO: data_ingestion_training]:  cement_strength_08012020_120021.csv: File loaded successfully!!\n",
      "[2022-11-03 21:39:15,009: INFO: data_ingestion_training]:  cement_strength_08012020_120021.csv: File loaded successfully!!\n",
      "[2022-11-03 21:39:15,017: INFO: data_ingestion_training]:  cement_strength_08012020_120021.csv: File loaded successfully!!\n",
      "[2022-11-03 21:39:15,024: INFO: data_ingestion_training]:  cement_strength_08012020_120021.csv: File loaded successfully!!\n",
      "[2022-11-03 21:39:15,030: INFO: data_ingestion_training]:  cement_strength_08012020_120021.csv: File loaded successfully!!\n",
      "[2022-11-03 21:39:15,037: INFO: data_ingestion_training]:  cement_strength_08012020_120021.csv: File loaded successfully!!\n",
      "[2022-11-03 21:39:15,044: INFO: data_ingestion_training]:  cement_strength_08012020_120021.csv: File loaded successfully!!\n",
      "[2022-11-03 21:39:15,050: INFO: data_ingestion_training]:  cement_strength_08012020_120021.csv: File loaded successfully!!\n",
      "[2022-11-03 21:39:15,058: INFO: data_ingestion_training]:  cement_strength_08012020_120021.csv: File loaded successfully!!\n",
      "[2022-11-03 21:39:15,065: INFO: data_ingestion_training]:  cement_strength_08012020_120021.csv: File loaded successfully!!\n",
      "[2022-11-03 21:39:15,072: INFO: data_ingestion_training]:  cement_strength_08012020_120021.csv: File loaded successfully!!\n",
      "[2022-11-03 21:39:15,081: INFO: data_ingestion_training]:  cement_strength_08012020_120021.csv: File loaded successfully!!\n",
      "[2022-11-03 21:39:15,097: INFO: data_ingestion_training]:  cement_strength_08012020_120021.csv: File loaded successfully!!\n",
      "[2022-11-03 21:39:15,105: INFO: data_ingestion_training]:  cement_strength_08012020_120021.csv: File loaded successfully!!\n",
      "[2022-11-03 21:39:15,113: INFO: data_ingestion_training]:  cement_strength_08012020_120021.csv: File loaded successfully!!\n",
      "[2022-11-03 21:39:15,121: INFO: data_ingestion_training]:  cement_strength_08012020_120021.csv: File loaded successfully!!\n",
      "[2022-11-03 21:39:15,129: INFO: data_ingestion_training]:  cement_strength_08012020_120021.csv: File loaded successfully!!\n",
      "[2022-11-03 21:39:15,136: INFO: data_ingestion_training]:  cement_strength_08012020_120021.csv: File loaded successfully!!\n",
      "[2022-11-03 21:39:15,143: INFO: data_ingestion_training]:  cement_strength_08012020_120021.csv: File loaded successfully!!\n",
      "[2022-11-03 21:39:15,150: INFO: data_ingestion_training]:  cement_strength_08012020_120021.csv: File loaded successfully!!\n",
      "[2022-11-03 21:39:15,160: INFO: data_ingestion_training]:  cement_strength_08012020_120021.csv: File loaded successfully!!\n",
      "[2022-11-03 21:39:15,168: INFO: data_ingestion_training]:  cement_strength_08012020_120021.csv: File loaded successfully!!\n",
      "[2022-11-03 21:39:15,175: INFO: data_ingestion_training]:  cement_strength_08012020_120021.csv: File loaded successfully!!\n",
      "[2022-11-03 21:39:15,182: INFO: data_ingestion_training]:  cement_strength_08012020_120021.csv: File loaded successfully!!\n",
      "[2022-11-03 21:39:15,188: INFO: data_ingestion_training]: Insertion in Table completed!!!\n",
      "[2022-11-03 21:39:15,189: INFO: data_ingestion_training]: Deleting Good Data Folder!!!\n",
      "[2022-11-03 21:39:15,192: INFO: data_ingestion_training]: good directory deleted before starting validation!!!\n",
      "[2022-11-03 21:39:15,194: INFO: data_ingestion_training]: Good_Data folder deleted!!!\n",
      "[2022-11-03 21:39:15,196: INFO: data_ingestion_training]: Moving bad files to Archive and deleting Bad_Data folder!!!\n",
      "[2022-11-03 21:39:15,203: INFO: data_ingestion_training]: Bad files moved to archive\n",
      "[2022-11-03 21:39:15,206: INFO: data_ingestion_training]: Bad Raw Data Folder Deleted successfully!!\n",
      "[2022-11-03 21:39:15,208: INFO: data_ingestion_training]: Bad files moved to archive!! Bad folder Deleted!!\n",
      "[2022-11-03 21:39:15,210: INFO: data_ingestion_training]: Validation Operation completed!!\n",
      "[2022-11-03 21:39:15,211: INFO: data_ingestion_training]: Extracting csv file from table\n",
      "[2022-11-03 21:39:15,214: INFO: data_ingestion_training]: Opened Training database successfully\n",
      "[2022-11-03 21:39:15,308: INFO: data_ingestion_training]: File exported successfully!!!\n"
     ]
    }
   ],
   "source": [
    "tra.train_validation()"
   ]
  },
  {
   "cell_type": "code",
   "execution_count": 9,
   "metadata": {},
   "outputs": [
    {
     "data": {
      "text/plain": [
       "'artifacts/data_ingestion\\\\local_db\\\\hello\\\\.db'"
      ]
     },
     "execution_count": 9,
     "metadata": {},
     "output_type": "execute_result"
    }
   ],
   "source": [
    "os.path.join('artifacts/data_ingestion','local_db','hello','.db')"
   ]
  },
  {
   "cell_type": "code",
   "execution_count": 1,
   "metadata": {},
   "outputs": [
    {
     "data": {
      "text/plain": [
       "'d:\\\\iNeuron\\\\ML_projects\\\\Cement Strength Prediction\\\\research'"
      ]
     },
     "execution_count": 1,
     "metadata": {},
     "output_type": "execute_result"
    }
   ],
   "source": [
    "import os\n",
    "os.getcwd()"
   ]
  },
  {
   "cell_type": "code",
   "execution_count": 2,
   "metadata": {},
   "outputs": [],
   "source": [
    "os.chdir('../')"
   ]
  },
  {
   "cell_type": "code",
   "execution_count": 3,
   "metadata": {},
   "outputs": [
    {
     "data": {
      "text/plain": [
       "'d:\\\\iNeuron\\\\ML_projects\\\\Cement Strength Prediction'"
      ]
     },
     "execution_count": 3,
     "metadata": {},
     "output_type": "execute_result"
    }
   ],
   "source": [
    "os.getcwd()"
   ]
  },
  {
   "cell_type": "code",
   "execution_count": 4,
   "metadata": {},
   "outputs": [
    {
     "ename": "ModuleNotFoundError",
     "evalue": "No module named 'CementStrength.components.data_ingestion_training'",
     "output_type": "error",
     "traceback": [
      "\u001b[1;31m---------------------------------------------------------------------------\u001b[0m",
      "\u001b[1;31mModuleNotFoundError\u001b[0m                       Traceback (most recent call last)",
      "Cell \u001b[1;32mIn [4], line 1\u001b[0m\n\u001b[1;32m----> 1\u001b[0m \u001b[39mfrom\u001b[39;00m \u001b[39mCementStrength\u001b[39;00m\u001b[39m.\u001b[39;00m\u001b[39mcomponents\u001b[39;00m \u001b[39mimport\u001b[39;00m DataIngestion\n",
      "File \u001b[1;32mD:\\iNeuron\\ML_projects\\Cement Strength Prediction\\src\\CementStrength\\components\\__init__.py:1\u001b[0m\n\u001b[1;32m----> 1\u001b[0m \u001b[39mfrom\u001b[39;00m \u001b[39mCementStrength\u001b[39;00m\u001b[39m.\u001b[39;00m\u001b[39mcomponents\u001b[39;00m\u001b[39m.\u001b[39;00m\u001b[39mdata_ingestion_training\u001b[39;00m \u001b[39mimport\u001b[39;00m DataIngestion\n",
      "\u001b[1;31mModuleNotFoundError\u001b[0m: No module named 'CementStrength.components.data_ingestion_training'"
     ]
    }
   ],
   "source": [
    "from CementStrength.components import DataIngestion"
   ]
  },
  {
   "cell_type": "code",
   "execution_count": 5,
   "metadata": {},
   "outputs": [
    {
     "ename": "ModuleNotFoundError",
     "evalue": "No module named 'CementStrength'",
     "output_type": "error",
     "traceback": [
      "\u001b[1;31m---------------------------------------------------------------------------\u001b[0m",
      "\u001b[1;31mModuleNotFoundError\u001b[0m                       Traceback (most recent call last)",
      "Cell \u001b[1;32mIn [5], line 1\u001b[0m\n\u001b[1;32m----> 1\u001b[0m \u001b[39mfrom\u001b[39;00m \u001b[39msrc\u001b[39;00m\u001b[39m.\u001b[39;00m\u001b[39mCementStrength\u001b[39;00m\u001b[39m.\u001b[39;00m\u001b[39mcomponents\u001b[39;00m \u001b[39mimport\u001b[39;00m DataIngestion\n",
      "File \u001b[1;32md:\\iNeuron\\ML_projects\\Cement Strength Prediction\\src\\CementStrength\\components\\__init__.py:1\u001b[0m\n\u001b[1;32m----> 1\u001b[0m \u001b[39mfrom\u001b[39;00m \u001b[39mCementStrength\u001b[39;00m\u001b[39m.\u001b[39;00m\u001b[39mcomponents\u001b[39;00m\u001b[39m.\u001b[39;00m\u001b[39mdata_ingestion_training\u001b[39;00m \u001b[39mimport\u001b[39;00m DataIngestion\n",
      "\u001b[1;31mModuleNotFoundError\u001b[0m: No module named 'CementStrength'"
     ]
    }
   ],
   "source": [
    "from src.CementStrength.components import DataIngestion"
   ]
  },
  {
   "cell_type": "code",
   "execution_count": 8,
   "metadata": {},
   "outputs": [
    {
     "ename": "ModuleNotFoundError",
     "evalue": "No module named 'CementStrength'",
     "output_type": "error",
     "traceback": [
      "\u001b[1;31m---------------------------------------------------------------------------\u001b[0m",
      "\u001b[1;31mModuleNotFoundError\u001b[0m                       Traceback (most recent call last)",
      "Cell \u001b[1;32mIn [8], line 1\u001b[0m\n\u001b[1;32m----> 1\u001b[0m \u001b[39mimport\u001b[39;00m \u001b[39msrc\u001b[39;00m\u001b[39m.\u001b[39;00m\u001b[39mCementStrength\u001b[39;00m\u001b[39m.\u001b[39;00m\u001b[39mcomponents\u001b[39;00m\n",
      "File \u001b[1;32md:\\iNeuron\\ML_projects\\Cement Strength Prediction\\src\\CementStrength\\components\\__init__.py:1\u001b[0m\n\u001b[1;32m----> 1\u001b[0m \u001b[39mfrom\u001b[39;00m \u001b[39mCementStrength\u001b[39;00m\u001b[39m.\u001b[39;00m\u001b[39mcomponents\u001b[39;00m\u001b[39m.\u001b[39;00m\u001b[39mdata_ingestion_training\u001b[39;00m \u001b[39mimport\u001b[39;00m DataIngestion\n",
      "\u001b[1;31mModuleNotFoundError\u001b[0m: No module named 'CementStrength'"
     ]
    }
   ],
   "source": [
    "import src.CementStrength.components"
   ]
  },
  {
   "cell_type": "code",
   "execution_count": 5,
   "metadata": {},
   "outputs": [],
   "source": [
    "import CementStrength"
   ]
  },
  {
   "cell_type": "code",
   "execution_count": 6,
   "metadata": {},
   "outputs": [],
   "source": [
    "import six"
   ]
  },
  {
   "cell_type": "code",
   "execution_count": null,
   "metadata": {},
   "outputs": [],
   "source": []
  }
 ],
 "metadata": {
  "kernelspec": {
   "display_name": "Python 3.8.13 (conda)",
   "language": "python",
   "name": "python3"
  },
  "language_info": {
   "codemirror_mode": {
    "name": "ipython",
    "version": 3
   },
   "file_extension": ".py",
   "mimetype": "text/x-python",
   "name": "python",
   "nbconvert_exporter": "python",
   "pygments_lexer": "ipython3",
   "version": "3.8.13"
  },
  "orig_nbformat": 4,
  "vscode": {
   "interpreter": {
    "hash": "cd94aedc326f61abe99025ca67aebe710ee0d031e58f874cf60751a4cd63ed9a"
   }
  }
 },
 "nbformat": 4,
 "nbformat_minor": 2
}
