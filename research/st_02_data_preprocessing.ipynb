{
 "cells": [
  {
   "cell_type": "code",
   "execution_count": 1,
   "metadata": {},
   "outputs": [
    {
     "data": {
      "text/plain": [
       "'d:\\\\iNeuron\\\\ML_projects\\\\Cement Strength Prediction\\\\research'"
      ]
     },
     "execution_count": 1,
     "metadata": {},
     "output_type": "execute_result"
    }
   ],
   "source": [
    "import os\n",
    "os.getcwd()"
   ]
  },
  {
   "cell_type": "code",
   "execution_count": 2,
   "metadata": {},
   "outputs": [
    {
     "data": {
      "text/plain": [
       "'d:\\\\iNeuron\\\\ML_projects\\\\Cement Strength Prediction'"
      ]
     },
     "execution_count": 2,
     "metadata": {},
     "output_type": "execute_result"
    }
   ],
   "source": [
    "os.chdir('../')\n",
    "os.getcwd()"
   ]
  },
  {
   "cell_type": "code",
   "execution_count": 3,
   "metadata": {},
   "outputs": [],
   "source": [
    "from CementStrength.components import DataValidation"
   ]
  },
  {
   "cell_type": "code",
   "execution_count": 4,
   "metadata": {},
   "outputs": [],
   "source": [
    "from CementStrength.utils import *"
   ]
  },
  {
   "cell_type": "code",
   "execution_count": 5,
   "metadata": {},
   "outputs": [
    {
     "name": "stdout",
     "output_type": "stream",
     "text": [
      "[2022-11-05 01:46:29,527: INFO: common]: yaml file: configs\\config.yaml loaded successfully\n"
     ]
    }
   ],
   "source": [
    "config_info = read_yaml(Path(os.path.join('configs','config.yaml')))"
   ]
  },
  {
   "cell_type": "code",
   "execution_count": 6,
   "metadata": {},
   "outputs": [],
   "source": [
    "from CementStrength.config import Configuration\n",
    "from CementStrength.components import DataIngestion"
   ]
  },
  {
   "cell_type": "code",
   "execution_count": 7,
   "metadata": {},
   "outputs": [
    {
     "name": "stdout",
     "output_type": "stream",
     "text": [
      "[2022-11-05 01:46:29,621: INFO: common]: yaml file: configs\\config.yaml loaded successfully\n",
      "[2022-11-05 01:46:29,623: INFO: __init__]: DataValidationConfig: DataValidationConfig(schema_file_path='d:\\\\iNeuron\\\\ML_projects\\\\Cement Strength Prediction\\\\config\\\\schema.yaml', report_file_path='d:\\\\iNeuron\\\\ML_projects\\\\Cement Strength Prediction\\\\concrete\\\\artifact\\\\data_validation\\\\2022-11-05-01-46-29\\\\report.json', report_page_file_path='d:\\\\iNeuron\\\\ML_projects\\\\Cement Strength Prediction\\\\concrete\\\\artifact\\\\data_validation\\\\2022-11-05-01-46-29\\\\report.html')\n",
      "[2022-11-05 01:46:29,626: INFO: common]: yaml file: configs\\config.yaml loaded successfully\n",
      "[2022-11-05 01:46:29,628: INFO: __init__]: DataIngestionConfig: DataIngestionConfig(dataset_download_url='https://raw.githubusercontent.com/MeghnathReddy/Concrete-Compressive-Strength-Prediction/master/concrete_data.csv', raw_data_dir='d:\\\\iNeuron\\\\ML_projects\\\\Cement Strength Prediction\\\\concrete\\\\artifact\\\\data_ingestion\\\\2022-11-05-01-46-29\\\\raw_data', ingested_train_dir='d:\\\\iNeuron\\\\ML_projects\\\\Cement Strength Prediction\\\\concrete\\\\artifact\\\\data_ingestion\\\\2022-11-05-01-46-29\\\\ingested_data\\\\train', ingested_test_dir='d:\\\\iNeuron\\\\ML_projects\\\\Cement Strength Prediction\\\\concrete\\\\artifact\\\\data_ingestion\\\\2022-11-05-01-46-29\\\\ingested_data\\\\test')\n",
      "[2022-11-05 01:46:29,629: INFO: data_validation]: ==================== Data Validation Log Started ====================\n"
     ]
    },
    {
     "ename": "AttributeError",
     "evalue": "'DataIngestionConfig' object has no attribute 'train_file_path'",
     "output_type": "error",
     "traceback": [
      "\u001b[1;31m---------------------------------------------------------------------------\u001b[0m",
      "\u001b[1;31mAttributeError\u001b[0m                            Traceback (most recent call last)",
      "Cell \u001b[1;32mIn [7], line 1\u001b[0m\n\u001b[1;32m----> 1\u001b[0m data_validation \u001b[39m=\u001b[39m DataValidation(data_validation_config\u001b[39m=\u001b[39;49m Configuration()\u001b[39m.\u001b[39;49mget_data_validation_config(),\n\u001b[0;32m      2\u001b[0m                                              data_ingestion_artifact\u001b[39m=\u001b[39;49m Configuration()\u001b[39m.\u001b[39;49mget_data_ingestion_config())\n",
      "File \u001b[1;32mD:\\iNeuron\\ML_projects\\Cement Strength Prediction\\src\\CementStrength\\components\\data_validation.py:21\u001b[0m, in \u001b[0;36mDataValidation.__init__\u001b[1;34m(self, data_validation_config, data_ingestion_artifact)\u001b[0m\n\u001b[0;32m     19\u001b[0m \u001b[39mself\u001b[39m\u001b[39m.\u001b[39mdata_validation_config \u001b[39m=\u001b[39m data_validation_config\n\u001b[0;32m     20\u001b[0m \u001b[39mself\u001b[39m\u001b[39m.\u001b[39mdata_ingestion_artifact \u001b[39m=\u001b[39m data_ingestion_artifact\n\u001b[1;32m---> 21\u001b[0m \u001b[39mself\u001b[39m\u001b[39m.\u001b[39mtrain_file_path \u001b[39m=\u001b[39m \u001b[39mself\u001b[39;49m\u001b[39m.\u001b[39;49mdata_ingestion_artifact\u001b[39m.\u001b[39;49mtrain_file_path\n\u001b[0;32m     22\u001b[0m \u001b[39mself\u001b[39m\u001b[39m.\u001b[39mtest_file_path \u001b[39m=\u001b[39m \u001b[39mself\u001b[39m\u001b[39m.\u001b[39mdata_ingestion_artifact\u001b[39m.\u001b[39mtest_file_path\n\u001b[0;32m     23\u001b[0m \u001b[39mself\u001b[39m\u001b[39m.\u001b[39mtrain_df \u001b[39m=\u001b[39m pd\u001b[39m.\u001b[39mread_csv(\u001b[39mself\u001b[39m\u001b[39m.\u001b[39mtrain_file_path)\n",
      "\u001b[1;31mAttributeError\u001b[0m: 'DataIngestionConfig' object has no attribute 'train_file_path'"
     ]
    }
   ],
   "source": [
    "data_validation = DataValidation(data_validation_config= Configuration().get_data_validation_config(),\n",
    "                                             data_ingestion_artifact= Configuration().get_data_ingestion_config())"
   ]
  },
  {
   "cell_type": "code",
   "execution_count": 14,
   "metadata": {},
   "outputs": [],
   "source": [
    "from collections import namedtuple\n",
    "from threading import Thread\n",
    "#from CementStrength.component.data_transformation import DataTransformation\n",
    "from CementStrength.components.data_ingestion import DataIngestion\n",
    "from CementStrength.components.data_validation import DataValidation\n",
    "\n",
    "from CementStrength.config import Configuration\n",
    "from CementStrength.constants import *\n",
    "from CementStrength import logger\n",
    "from CementStrength.entity import DataIngestionArtifact, DataValidationArtifact\n",
    "from CementStrength.entity import DataIngestionArtifact\n",
    "import os,sys\n",
    "from datetime import datetime\n",
    "import pandas as pd\n",
    "import uuid\n",
    "\n",
    "\n",
    "Experiment = namedtuple(\"Experiment\", [\"experiment_id\", \"initialization_timestamp\", \"artifact_time_stamp\",\n",
    "                                       \"running_status\", \"start_time\", \"stop_time\", \"execution_time\", \"message\",\n",
    "                                       \"experiment_file_path\", \"accuracy\", \"is_model_accepted\"])\n",
    "\n",
    "\n",
    "\n",
    "\n",
    "class Pipeline(Thread):\n",
    "    experiment: Experiment = Experiment(*([None] * 11))\n",
    "    experiment_file_path = None\n",
    "\n",
    "    def __init__(self, config: Configuration)-> None:\n",
    "        try:\n",
    "            os.makedirs(config.artifact_dir, exist_ok=True)\n",
    "            Pipeline.experiment_file_path=os.path.join(config.artifact_dir,EXPERIMENT_DIR_NAME, EXPERIMENT_FILE_NAME)\n",
    "            super().__init__(daemon=False, name=\"pipeline\")\n",
    "            self.config = config\n",
    "        except Exception as e:\n",
    "            logger.info(e)\n",
    "    def start_data_ingestion(self)-> DataIngestionArtifact:\n",
    "        try:\n",
    "            data_ingestion = DataIngestion(data_ingestion_config= self.config.get_data_ingestion_config())\n",
    "            return data_ingestion.initiate_data_ingestion()\n",
    "        except Exception as e:\n",
    "            logger.info(e)\n",
    "    def start_data_validation(self, data_ingestion_artifact: DataIngestionArtifact)-> DataValidationArtifact:\n",
    "        try:\n",
    "            data_validation = DataValidation(data_validation_config= self.config.get_data_validation_config(),\n",
    "                                             data_ingestion_artifact= data_ingestion_artifact)\n",
    "            return  data_validation.initiate_data_validation()\n",
    "        except Exception as e:\n",
    "            logger.info(e)"
   ]
  },
  {
   "cell_type": "code",
   "execution_count": 15,
   "metadata": {},
   "outputs": [
    {
     "name": "stdout",
     "output_type": "stream",
     "text": [
      "[2022-11-05 01:53:40,632: INFO: common]: yaml file: configs\\config.yaml loaded successfully\n"
     ]
    }
   ],
   "source": [
    "p = Pipeline(Configuration())"
   ]
  },
  {
   "cell_type": "code",
   "execution_count": 16,
   "metadata": {},
   "outputs": [
    {
     "name": "stdout",
     "output_type": "stream",
     "text": [
      "[2022-11-05 01:53:43,818: INFO: __init__]: DataIngestionConfig: DataIngestionConfig(dataset_download_url='https://raw.githubusercontent.com/MeghnathReddy/Concrete-Compressive-Strength-Prediction/master/concrete_data.csv', raw_data_dir='d:\\\\iNeuron\\\\ML_projects\\\\Cement Strength Prediction\\\\concrete\\\\artifact\\\\data_ingestion\\\\2022-11-05-01-46-29\\\\raw_data', ingested_train_dir='d:\\\\iNeuron\\\\ML_projects\\\\Cement Strength Prediction\\\\concrete\\\\artifact\\\\data_ingestion\\\\2022-11-05-01-46-29\\\\ingested_data\\\\train', ingested_test_dir='d:\\\\iNeuron\\\\ML_projects\\\\Cement Strength Prediction\\\\concrete\\\\artifact\\\\data_ingestion\\\\2022-11-05-01-46-29\\\\ingested_data\\\\test')\n",
      "[2022-11-05 01:53:43,821: INFO: data_ingestion]: ==================== Data Ingestion Log Started ====================\n",
      "[2022-11-05 01:53:43,825: INFO: data_ingestion]: Downloading [concrete_data.csv] from [https://raw.githubusercontent.com/MeghnathReddy/Concrete-Compressive-Strength-Prediction/master/concrete_data.csv] to [d:\\iNeuron\\ML_projects\\Cement Strength Prediction\\concrete\\artifact\\data_ingestion\\2022-11-05-01-46-29\\raw_data]\n",
      "[2022-11-05 01:53:44,442: INFO: data_ingestion]: Downloaded [concrete_data.csv] successfully.\n",
      "[2022-11-05 01:53:44,444: INFO: data_ingestion]: Reading xls file: [d:\\iNeuron\\ML_projects\\Cement Strength Prediction\\concrete\\artifact\\data_ingestion\\2022-11-05-01-46-29\\raw_data\\concrete_data.csv]\n",
      "[2022-11-05 01:53:44,453: INFO: data_ingestion]: Splitting the dataset into train and test\n",
      "[2022-11-05 01:53:44,469: INFO: data_ingestion]: Exporting training dataset to file: [d:\\iNeuron\\ML_projects\\Cement Strength Prediction\\concrete\\artifact\\data_ingestion\\2022-11-05-01-46-29\\ingested_data\\train\\concrete_data.csv]\n",
      "[2022-11-05 01:53:44,482: INFO: data_ingestion]: Exporting test dataset to file: [d:\\iNeuron\\ML_projects\\Cement Strength Prediction\\concrete\\artifact\\data_ingestion\\2022-11-05-01-46-29\\ingested_data\\test\\concrete_data.csv]\n",
      "[2022-11-05 01:53:44,489: INFO: data_ingestion]: Data Ingestion Artifact: DataIngestionArtifact(train_file_path='d:\\\\iNeuron\\\\ML_projects\\\\Cement Strength Prediction\\\\concrete\\\\artifact\\\\data_ingestion\\\\2022-11-05-01-46-29\\\\ingested_data\\\\train\\\\concrete_data.csv', test_file_path='d:\\\\iNeuron\\\\ML_projects\\\\Cement Strength Prediction\\\\concrete\\\\artifact\\\\data_ingestion\\\\2022-11-05-01-46-29\\\\ingested_data\\\\test\\\\concrete_data.csv', previous_train_file_path='d:\\\\iNeuron\\\\ML_projects\\\\Cement Strength Prediction\\\\concrete\\\\artifact\\\\data_ingestion\\\\2022-11-05-01-46-29\\\\ingested_data\\\\train\\\\concrete_data.csv', is_ingested=True, message='Data Ingestion Completed sucessfully')\n",
      "[2022-11-05 01:53:44,491: INFO: data_ingestion]: ====================Data Ingestion log Ended==================== \n",
      "\n",
      "\n"
     ]
    },
    {
     "data": {
      "text/plain": [
       "DataIngestionArtifact(train_file_path='d:\\\\iNeuron\\\\ML_projects\\\\Cement Strength Prediction\\\\concrete\\\\artifact\\\\data_ingestion\\\\2022-11-05-01-46-29\\\\ingested_data\\\\train\\\\concrete_data.csv', test_file_path='d:\\\\iNeuron\\\\ML_projects\\\\Cement Strength Prediction\\\\concrete\\\\artifact\\\\data_ingestion\\\\2022-11-05-01-46-29\\\\ingested_data\\\\test\\\\concrete_data.csv', previous_train_file_path='d:\\\\iNeuron\\\\ML_projects\\\\Cement Strength Prediction\\\\concrete\\\\artifact\\\\data_ingestion\\\\2022-11-05-01-46-29\\\\ingested_data\\\\train\\\\concrete_data.csv', is_ingested=True, message='Data Ingestion Completed sucessfully')"
      ]
     },
     "execution_count": 16,
     "metadata": {},
     "output_type": "execute_result"
    }
   ],
   "source": [
    "p.start_data_ingestion()"
   ]
  },
  {
   "cell_type": "code",
   "execution_count": 18,
   "metadata": {},
   "outputs": [
    {
     "name": "stdout",
     "output_type": "stream",
     "text": [
      "[2022-11-05 01:57:03,428: INFO: common]: yaml file: configs\\config.yaml loaded successfully\n",
      "[2022-11-05 01:57:03,430: INFO: __init__]: DataIngestionConfig: DataIngestionConfig(dataset_download_url='https://raw.githubusercontent.com/MeghnathReddy/Concrete-Compressive-Strength-Prediction/master/concrete_data.csv', raw_data_dir='d:\\\\iNeuron\\\\ML_projects\\\\Cement Strength Prediction\\\\concrete\\\\artifact\\\\data_ingestion\\\\2022-11-05-01-46-29\\\\raw_data', ingested_train_dir='d:\\\\iNeuron\\\\ML_projects\\\\Cement Strength Prediction\\\\concrete\\\\artifact\\\\data_ingestion\\\\2022-11-05-01-46-29\\\\ingested_data\\\\train', ingested_test_dir='d:\\\\iNeuron\\\\ML_projects\\\\Cement Strength Prediction\\\\concrete\\\\artifact\\\\data_ingestion\\\\2022-11-05-01-46-29\\\\ingested_data\\\\test')\n",
      "[2022-11-05 01:57:03,431: INFO: data_ingestion]: ==================== Data Ingestion Log Started ====================\n"
     ]
    }
   ],
   "source": [
    "artifacts = DataIngestion(Configuration().get_data_ingestion_config())"
   ]
  },
  {
   "cell_type": "code",
   "execution_count": 22,
   "metadata": {},
   "outputs": [
    {
     "name": "stdout",
     "output_type": "stream",
     "text": [
      "[2022-11-05 02:01:12,992: INFO: data_ingestion]: Downloading [concrete_data.csv] from [https://raw.githubusercontent.com/MeghnathReddy/Concrete-Compressive-Strength-Prediction/master/concrete_data.csv] to [d:\\iNeuron\\ML_projects\\Cement Strength Prediction\\concrete\\artifact\\data_ingestion\\2022-11-05-01-46-29\\raw_data]\n",
      "[2022-11-05 02:01:13,115: INFO: data_ingestion]: Downloaded [concrete_data.csv] successfully.\n",
      "[2022-11-05 02:01:13,116: INFO: data_ingestion]: Reading xls file: [d:\\iNeuron\\ML_projects\\Cement Strength Prediction\\concrete\\artifact\\data_ingestion\\2022-11-05-01-46-29\\raw_data\\concrete_data.csv]\n",
      "[2022-11-05 02:01:13,121: INFO: data_ingestion]: Splitting the dataset into train and test\n",
      "[2022-11-05 02:01:13,125: INFO: data_ingestion]: Exporting training dataset to file: [d:\\iNeuron\\ML_projects\\Cement Strength Prediction\\concrete\\artifact\\data_ingestion\\2022-11-05-01-46-29\\ingested_data\\train\\concrete_data.csv]\n",
      "[2022-11-05 02:01:13,132: INFO: data_ingestion]: Exporting test dataset to file: [d:\\iNeuron\\ML_projects\\Cement Strength Prediction\\concrete\\artifact\\data_ingestion\\2022-11-05-01-46-29\\ingested_data\\test\\concrete_data.csv]\n",
      "[2022-11-05 02:01:13,136: INFO: data_ingestion]: Data Ingestion Artifact: DataIngestionArtifact(train_file_path='d:\\\\iNeuron\\\\ML_projects\\\\Cement Strength Prediction\\\\concrete\\\\artifact\\\\data_ingestion\\\\2022-11-05-01-46-29\\\\ingested_data\\\\train\\\\concrete_data.csv', test_file_path='d:\\\\iNeuron\\\\ML_projects\\\\Cement Strength Prediction\\\\concrete\\\\artifact\\\\data_ingestion\\\\2022-11-05-01-46-29\\\\ingested_data\\\\test\\\\concrete_data.csv', previous_train_file_path='d:\\\\iNeuron\\\\ML_projects\\\\Cement Strength Prediction\\\\concrete\\\\artifact\\\\data_ingestion\\\\2022-11-05-01-46-29\\\\ingested_data\\\\train\\\\concrete_data.csv', is_ingested=True, message='Data Ingestion Completed sucessfully')\n"
     ]
    }
   ],
   "source": [
    "art = artifacts.initiate_data_ingestion()"
   ]
  },
  {
   "cell_type": "code",
   "execution_count": 24,
   "metadata": {},
   "outputs": [
    {
     "data": {
      "text/plain": [
       "CementStrength.entity.artifact_entity.DataIngestionArtifact"
      ]
     },
     "execution_count": 24,
     "metadata": {},
     "output_type": "execute_result"
    }
   ],
   "source": [
    "type(art)"
   ]
  },
  {
   "cell_type": "code",
   "execution_count": 25,
   "metadata": {},
   "outputs": [
    {
     "data": {
      "text/plain": [
       "DataIngestionArtifact(train_file_path='d:\\\\iNeuron\\\\ML_projects\\\\Cement Strength Prediction\\\\concrete\\\\artifact\\\\data_ingestion\\\\2022-11-05-01-46-29\\\\ingested_data\\\\train\\\\concrete_data.csv', test_file_path='d:\\\\iNeuron\\\\ML_projects\\\\Cement Strength Prediction\\\\concrete\\\\artifact\\\\data_ingestion\\\\2022-11-05-01-46-29\\\\ingested_data\\\\test\\\\concrete_data.csv', previous_train_file_path='d:\\\\iNeuron\\\\ML_projects\\\\Cement Strength Prediction\\\\concrete\\\\artifact\\\\data_ingestion\\\\2022-11-05-01-46-29\\\\ingested_data\\\\train\\\\concrete_data.csv', is_ingested=True, message='Data Ingestion Completed sucessfully')"
      ]
     },
     "execution_count": 25,
     "metadata": {},
     "output_type": "execute_result"
    }
   ],
   "source": [
    "art"
   ]
  },
  {
   "cell_type": "code",
   "execution_count": 26,
   "metadata": {},
   "outputs": [
    {
     "name": "stdout",
     "output_type": "stream",
     "text": [
      "[2022-11-05 02:04:17,635: INFO: __init__]: DataValidationConfig: DataValidationConfig(schema_file_path='d:\\\\iNeuron\\\\ML_projects\\\\Cement Strength Prediction\\\\config\\\\schema.yaml', report_file_path='d:\\\\iNeuron\\\\ML_projects\\\\Cement Strength Prediction\\\\concrete\\\\artifact\\\\data_validation\\\\2022-11-05-01-46-29\\\\report.json', report_page_file_path='d:\\\\iNeuron\\\\ML_projects\\\\Cement Strength Prediction\\\\concrete\\\\artifact\\\\data_validation\\\\2022-11-05-01-46-29\\\\report.html')\n",
      "[2022-11-05 02:04:17,636: INFO: data_validation]: ==================== Data Validation Log Started ====================\n",
      "[2022-11-05 02:04:17,646: INFO: 2808252909]: Argument path_to_yaml of type <class 'str'> to <function read_yaml at 0x0000022B7FC52280> does not match annotation type <class 'pathlib.Path'>\n",
      "[2022-11-05 02:04:17,647: INFO: data_validation]: ====================Data Validation log ended==================== \n",
      "\n",
      "\n"
     ]
    }
   ],
   "source": [
    "p.start_data_validation(art)"
   ]
  },
  {
   "cell_type": "code",
   "execution_count": 1,
   "metadata": {},
   "outputs": [
    {
     "data": {
      "text/plain": [
       "'d:\\\\iNeuron\\\\ML_projects\\\\Cement Strength Prediction\\\\research'"
      ]
     },
     "execution_count": 1,
     "metadata": {},
     "output_type": "execute_result"
    }
   ],
   "source": [
    "import os\n",
    "os.getcwd()"
   ]
  },
  {
   "cell_type": "code",
   "execution_count": 2,
   "metadata": {},
   "outputs": [
    {
     "data": {
      "text/plain": [
       "'d:\\\\iNeuron\\\\ML_projects\\\\Cement Strength Prediction'"
      ]
     },
     "execution_count": 2,
     "metadata": {},
     "output_type": "execute_result"
    }
   ],
   "source": [
    "os.chdir('../')\n",
    "os.getcwd()"
   ]
  },
  {
   "cell_type": "code",
   "execution_count": 3,
   "metadata": {},
   "outputs": [],
   "source": [
    "from CementStrength.config import Configuration"
   ]
  },
  {
   "cell_type": "code",
   "execution_count": 4,
   "metadata": {},
   "outputs": [
    {
     "name": "stdout",
     "output_type": "stream",
     "text": [
      "[2022-11-05 21:32:58,765: INFO: common:26:common.py:read_yaml]: yaml file: configs\\config.yaml loaded successfully\n"
     ]
    }
   ],
   "source": [
    "confi = Configuration()"
   ]
  },
  {
   "cell_type": "code",
   "execution_count": 5,
   "metadata": {},
   "outputs": [
    {
     "name": "stdout",
     "output_type": "stream",
     "text": [
      "[2022-11-05 21:32:58,837: INFO: __init__:44:__init__.py:get_data_ingestion_config]: DataIngestionConfig: DataIngestionConfig(dataset_download_url='https://raw.githubusercontent.com/MeghnathReddy/Concrete-Compressive-Strength-Prediction/master/concrete_data.csv', raw_data_dir='d:\\\\iNeuron\\\\ML_projects\\\\Cement Strength Prediction\\\\concrete_artifact\\\\data_ingestion\\\\2022-11-05-21-32-58\\\\raw_data', ingested_train_dir='d:\\\\iNeuron\\\\ML_projects\\\\Cement Strength Prediction\\\\concrete_artifact\\\\data_ingestion\\\\2022-11-05-21-32-58\\\\ingested_data\\\\train', ingested_test_dir='d:\\\\iNeuron\\\\ML_projects\\\\Cement Strength Prediction\\\\concrete_artifact\\\\data_ingestion\\\\2022-11-05-21-32-58\\\\ingested_data\\\\test')\n"
     ]
    }
   ],
   "source": [
    "data_ingestion = confi.get_data_ingestion_config()"
   ]
  },
  {
   "cell_type": "code",
   "execution_count": 6,
   "metadata": {},
   "outputs": [
    {
     "name": "stdout",
     "output_type": "stream",
     "text": [
      "[2022-11-05 21:33:00,447: INFO: data_ingestion:13:data_ingestion.py:__init__]: ==================== Data Ingestion Log Started ====================\n",
      "[2022-11-05 21:33:00,449: INFO: data_ingestion:29:data_ingestion.py:download_concrete_data]: Downloading [concrete_data.csv] from [https://raw.githubusercontent.com/MeghnathReddy/Concrete-Compressive-Strength-Prediction/master/concrete_data.csv] to [d:\\iNeuron\\ML_projects\\Cement Strength Prediction\\concrete_artifact\\data_ingestion\\2022-11-05-21-32-58\\raw_data]\n",
      "[2022-11-05 21:33:00,808: INFO: data_ingestion:31:data_ingestion.py:download_concrete_data]: Downloaded [concrete_data.csv] successfully.\n",
      "[2022-11-05 21:33:00,811: INFO: data_ingestion:60:data_ingestion.py:split_data_as_train_test]: Reading xls file: [d:\\iNeuron\\ML_projects\\Cement Strength Prediction\\concrete_artifact\\data_ingestion\\2022-11-05-21-32-58\\raw_data\\concrete_data.csv]\n",
      "[2022-11-05 21:33:00,835: INFO: data_ingestion:65:data_ingestion.py:split_data_as_train_test]: Splitting the dataset into train and test\n",
      "[2022-11-05 21:33:00,854: INFO: data_ingestion:81:data_ingestion.py:split_data_as_train_test]: Exporting training dataset to file: [d:\\iNeuron\\ML_projects\\Cement Strength Prediction\\concrete_artifact\\data_ingestion\\2022-11-05-21-32-58\\ingested_data\\train\\concrete_data.csv]\n",
      "[2022-11-05 21:33:00,884: INFO: data_ingestion:87:data_ingestion.py:split_data_as_train_test]: Exporting test dataset to file: [d:\\iNeuron\\ML_projects\\Cement Strength Prediction\\concrete_artifact\\data_ingestion\\2022-11-05-21-32-58\\ingested_data\\test\\concrete_data.csv]\n",
      "[2022-11-05 21:33:00,898: INFO: data_ingestion:95:data_ingestion.py:split_data_as_train_test]: Data Ingestion Artifact: DataIngestionArtifact(train_file_path='d:\\\\iNeuron\\\\ML_projects\\\\Cement Strength Prediction\\\\concrete_artifact\\\\data_ingestion\\\\2022-11-05-21-32-58\\\\ingested_data\\\\train\\\\concrete_data.csv', test_file_path='d:\\\\iNeuron\\\\ML_projects\\\\Cement Strength Prediction\\\\concrete_artifact\\\\data_ingestion\\\\2022-11-05-21-32-58\\\\ingested_data\\\\test\\\\concrete_data.csv', previous_train_file_path='d:\\\\iNeuron\\\\ML_projects\\\\Cement Strength Prediction\\\\concrete_artifact\\\\data_ingestion\\\\2022-11-05-21-32-58\\\\ingested_data\\\\train\\\\concrete_data.csv', is_ingested=True, message='Data Ingestion Completed sucessfully')\n",
      "[2022-11-05 21:33:00,902: INFO: data_ingestion:110:data_ingestion.py:__del__]: ====================Data Ingestion log Ended==================== \n",
      "\n",
      "\n"
     ]
    }
   ],
   "source": [
    "from CementStrength.components import DataIngestion\n",
    "data_artifact = DataIngestion(data_ingestion).initiate_data_ingestion()"
   ]
  },
  {
   "cell_type": "code",
   "execution_count": 7,
   "metadata": {},
   "outputs": [
    {
     "name": "stdout",
     "output_type": "stream",
     "text": [
      "[2022-11-05 21:33:00,992: INFO: __init__:64:__init__.py:get_data_validation_config]: DataValidationConfig: DataValidationConfig(schema_file_path=WindowsPath('d:/iNeuron/ML_projects/Cement Strength Prediction/configs/schema.yaml'), report_file_path='d:\\\\iNeuron\\\\ML_projects\\\\Cement Strength Prediction\\\\concrete_artifact\\\\data_validation\\\\2022-11-05-21-32-58\\\\report.json', report_page_file_path='d:\\\\iNeuron\\\\ML_projects\\\\Cement Strength Prediction\\\\concrete_artifact\\\\data_validation\\\\2022-11-05-21-32-58\\\\report.html')\n"
     ]
    }
   ],
   "source": [
    "data_validation = confi.get_data_validation_config()"
   ]
  },
  {
   "cell_type": "code",
   "execution_count": 8,
   "metadata": {},
   "outputs": [],
   "source": [
    "from CementStrength.components import DataValidation"
   ]
  },
  {
   "cell_type": "code",
   "execution_count": 9,
   "metadata": {},
   "outputs": [
    {
     "name": "stdout",
     "output_type": "stream",
     "text": [
      "[2022-11-05 21:33:01,149: INFO: data_validation:18:data_validation.py:__init__]: ==================== Data Validation Log Started ====================\n",
      "[2022-11-05 21:33:01,165: INFO: common:26:common.py:read_yaml]: yaml file: d:\\iNeuron\\ML_projects\\Cement Strength Prediction\\configs\\schema.yaml loaded successfully\n",
      "[2022-11-05 21:33:01,171: INFO: data_validation:31:data_validation.py:do_train_test_files_exist]: Checking if test and train file exists.\n",
      "[2022-11-05 21:33:01,172: INFO: data_validation:41:data_validation.py:do_train_test_files_exist]: Both train file: [d:\\iNeuron\\ML_projects\\Cement Strength Prediction\\concrete_artifact\\data_ingestion\\2022-11-05-21-32-58\\ingested_data\\train\\concrete_data.csv] and test file: [d:\\iNeuron\\ML_projects\\Cement Strength Prediction\\concrete_artifact\\data_ingestion\\2022-11-05-21-32-58\\ingested_data\\test\\concrete_data.csv exist.\n",
      "[2022-11-05 21:33:01,173: INFO: data_validation:52:data_validation.py:validate_dataset_schema]: Checking no. of columns in train and test dataset\n",
      "[2022-11-05 21:33:01,174: INFO: data_validation:57:data_validation.py:validate_dataset_schema]: No. of columns are same in train and test dataset and in schema file.\n",
      "[2022-11-05 21:33:01,175: INFO: data_validation:58:data_validation.py:validate_dataset_schema]: Checking columns names\n",
      "[2022-11-05 21:33:01,176: INFO: data_validation:65:data_validation.py:validate_dataset_schema]: Train and test dataset have column required in schema file\n",
      "[2022-11-05 21:33:01,177: INFO: data_validation:66:data_validation.py:validate_dataset_schema]: Checking the datatypes of all columns\n",
      "[2022-11-05 21:33:01,178: INFO: data_validation:69:data_validation.py:validate_dataset_schema]: Column 'cement' has correct datatype.\n",
      "[2022-11-05 21:33:01,179: INFO: data_validation:69:data_validation.py:validate_dataset_schema]: Column 'blast_furnace_slag' has correct datatype.\n",
      "[2022-11-05 21:33:01,179: INFO: data_validation:69:data_validation.py:validate_dataset_schema]: Column 'fly_ash' has correct datatype.\n",
      "[2022-11-05 21:33:01,180: INFO: data_validation:69:data_validation.py:validate_dataset_schema]: Column 'water' has correct datatype.\n",
      "[2022-11-05 21:33:01,181: INFO: data_validation:69:data_validation.py:validate_dataset_schema]: Column 'superplasticizer' has correct datatype.\n",
      "[2022-11-05 21:33:01,181: INFO: data_validation:69:data_validation.py:validate_dataset_schema]: Column 'coarse_aggregate' has correct datatype.\n",
      "[2022-11-05 21:33:01,182: INFO: data_validation:69:data_validation.py:validate_dataset_schema]: Column 'fine_aggregate' has correct datatype.\n",
      "[2022-11-05 21:33:01,183: INFO: data_validation:69:data_validation.py:validate_dataset_schema]: Column 'age' has correct datatype.\n",
      "[2022-11-05 21:33:01,184: INFO: data_validation:69:data_validation.py:validate_dataset_schema]: Column 'concrete_compressive_strength' has correct datatype.\n",
      "[2022-11-05 21:33:01,184: INFO: data_validation:72:data_validation.py:validate_dataset_schema]: Checking the domain values of categorical columns\n",
      "[2022-11-05 21:33:01,185: INFO: data_validation:74:data_validation.py:validate_dataset_schema]: Checking domain values of column 'age'\n",
      "[2022-11-05 21:33:01,185: INFO: data_validation:82:data_validation.py:validate_dataset_schema]: column 'age' has all the required categories and no extra category\n",
      "[2022-11-05 21:33:01,186: INFO: data_validation:83:data_validation.py:validate_dataset_schema]: Data Validation Successful!\n",
      "[2022-11-05 21:33:01,556: INFO: data_validation:90:data_validation.py:check_for_correlation]: Checking correlation between features\n",
      "[2022-11-05 21:33:01,559: INFO: data_validation:97:data_validation.py:check_for_correlation]: Column [fly_ash] has very less correlation with the target feature.\n",
      "[2022-11-05 21:33:01,565: INFO: data_validation:107:data_validation.py:check_for_correlation]: Droppable columns: ['fly_ash']\n",
      "[2022-11-05 21:33:01,566: INFO: data_validation:153:data_validation.py:initiate_data_validation]: Data Validation Artifact : DataValidationArtifact(schema_file_path=WindowsPath('d:/iNeuron/ML_projects/Cement Strength Prediction/configs/schema.yaml'), droppable_columns=['fly_ash'], report_file_path='d:\\\\iNeuron\\\\ML_projects\\\\Cement Strength Prediction\\\\concrete_artifact\\\\data_validation\\\\2022-11-05-21-32-58\\\\report.html', report_page_file_path='d:\\\\iNeuron\\\\ML_projects\\\\Cement Strength Prediction\\\\concrete_artifact\\\\data_validation\\\\2022-11-05-21-32-58\\\\report.html', is_validated=True, message='Data Validation performed sucessfully.')\n",
      "[2022-11-05 21:33:01,566: INFO: data_validation:159:data_validation.py:__del__]: ====================Data Validation log ended==================== \n",
      "\n",
      "\n"
     ]
    }
   ],
   "source": [
    "data_valid_arti =  DataValidation(data_validation,data_artifact).initiate_data_validation()"
   ]
  },
  {
   "cell_type": "code",
   "execution_count": 10,
   "metadata": {},
   "outputs": [],
   "source": [
    "from CementStrength.components import DataTransformation"
   ]
  },
  {
   "cell_type": "code",
   "execution_count": 11,
   "metadata": {},
   "outputs": [
    {
     "name": "stdout",
     "output_type": "stream",
     "text": [
      "[2022-11-05 21:33:01,628: INFO: __init__:91:__init__.py:get_data_transformation_config]: DataTransformationConfig: DataTransformationConfig(transformed_train_dir=WindowsPath('d:/iNeuron/ML_projects/Cement Strength Prediction/concrete_artifact/data_transformation/2022-11-05-21-32-58/transformed_data/train'), transformed_test_dir=WindowsPath('d:/iNeuron/ML_projects/Cement Strength Prediction/concrete_artifact/data_transformation/2022-11-05-21-32-58/transformed_data/test'), preprocessed_object_file_path=WindowsPath('d:/iNeuron/ML_projects/Cement Strength Prediction/concrete_artifact/data_transformation/2022-11-05-21-32-58/preprocessed/preprocessed.pkl'))\n",
      "[2022-11-05 21:33:01,629: INFO: data_transformation:65:data_transformation.py:__init__]: ==================== Data Transformation Log Started ====================\n"
     ]
    }
   ],
   "source": [
    "data_trans =  DataTransformation(confi.get_data_transformation_config(),\n",
    "data_artifact,data_valid_arti)"
   ]
  },
  {
   "cell_type": "code",
   "execution_count": 12,
   "metadata": {},
   "outputs": [
    {
     "name": "stdout",
     "output_type": "stream",
     "text": [
      "[2022-11-05 21:33:01,671: INFO: data_transformation:98:data_transformation.py:initiate_data_transformation]: Obtaining preprocessing object\n",
      "[2022-11-05 21:33:01,676: INFO: common:26:common.py:read_yaml]: yaml file: d:\\iNeuron\\ML_projects\\Cement Strength Prediction\\configs\\schema.yaml loaded successfully\n",
      "[2022-11-05 21:33:01,678: INFO: data_transformation:87:data_transformation.py:get_transformer_object]: Categorical columns: ['age']\n",
      "[2022-11-05 21:33:01,679: INFO: data_transformation:88:data_transformation.py:get_transformer_object]: Numerical columns: ['cement', 'blast_furnace_slag', 'fly_ash', 'water', 'superplasticizer', 'coarse_aggregate', 'fine_aggregate']\n",
      "[2022-11-05 21:33:01,683: INFO: common:26:common.py:read_yaml]: yaml file: d:\\iNeuron\\ML_projects\\Cement Strength Prediction\\configs\\schema.yaml loaded successfully\n",
      "[2022-11-05 21:33:01,685: INFO: data_transformation:102:data_transformation.py:initiate_data_transformation]: Obtaining train and test dataset\n",
      "[2022-11-05 21:33:01,691: INFO: common:26:common.py:read_yaml]: yaml file: d:\\iNeuron\\ML_projects\\Cement Strength Prediction\\configs\\schema.yaml loaded successfully\n",
      "[2022-11-05 21:33:01,700: INFO: common:26:common.py:read_yaml]: yaml file: d:\\iNeuron\\ML_projects\\Cement Strength Prediction\\configs\\schema.yaml loaded successfully\n",
      "[2022-11-05 21:33:01,704: INFO: data_transformation:106:data_transformation.py:initiate_data_transformation]: Splitting the datasets into input and output features\n",
      "[2022-11-05 21:33:01,706: INFO: data_transformation:111:data_transformation.py:initiate_data_transformation]: Transforming input features using preprocessing object file.\n",
      "[2022-11-05 21:33:01,723: INFO: data_transformation:114:data_transformation.py:initiate_data_transformation]: Concatenating transformed input features with output features\n",
      "[2022-11-05 21:33:01,724: INFO: data_transformation:117:data_transformation.py:initiate_data_transformation]: type of train and test array:<class 'numpy.ndarray'> & <class 'numpy.ndarray'>\n",
      "[2022-11-05 21:33:01,725: INFO: data_transformation:118:data_transformation.py:initiate_data_transformation]: Saving transformed train and test datasets\n",
      "[2022-11-05 21:33:01,730: INFO: data_transformation:128:data_transformation.py:initiate_data_transformation]: Saving preprocesing object file\n",
      "[2022-11-05 21:33:01,737: INFO: data_transformation:135:data_transformation.py:initiate_data_transformation]: Data Transformation Artifact: DataTransformationArtifact(transformed_train_file_path=WindowsPath('d:/iNeuron/ML_projects/Cement Strength Prediction/concrete_artifact/data_transformation/2022-11-05-21-32-58/transformed_data/train/concrete_data.npz'), transformed_test_file_path=WindowsPath('d:/iNeuron/ML_projects/Cement Strength Prediction/concrete_artifact/data_transformation/2022-11-05-21-32-58/transformed_data/test/concrete_data.npz'), preprocessed_object_file_path=WindowsPath('d:/iNeuron/ML_projects/Cement Strength Prediction/concrete_artifact/data_transformation/2022-11-05-21-32-58/preprocessed/preprocessed.pkl'), is_transformed=True, message='Data Transformation completed successfully.')\n"
     ]
    }
   ],
   "source": [
    "data_tans_arti = data_trans.initiate_data_transformation()"
   ]
  },
  {
   "cell_type": "code",
   "execution_count": null,
   "metadata": {},
   "outputs": [],
   "source": []
  }
 ],
 "metadata": {
  "kernelspec": {
   "display_name": "Python 3.8.13 (conda)",
   "language": "python",
   "name": "python3"
  },
  "language_info": {
   "codemirror_mode": {
    "name": "ipython",
    "version": 3
   },
   "file_extension": ".py",
   "mimetype": "text/x-python",
   "name": "python",
   "nbconvert_exporter": "python",
   "pygments_lexer": "ipython3",
   "version": "3.8.13"
  },
  "orig_nbformat": 4,
  "vscode": {
   "interpreter": {
    "hash": "cd94aedc326f61abe99025ca67aebe710ee0d031e58f874cf60751a4cd63ed9a"
   }
  }
 },
 "nbformat": 4,
 "nbformat_minor": 2
}
